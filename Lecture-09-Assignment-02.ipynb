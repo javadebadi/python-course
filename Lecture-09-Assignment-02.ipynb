{
 "cells": [
  {
   "cell_type": "markdown",
   "id": "57e3fcba",
   "metadata": {},
   "source": [
    "# Assingment #2\n",
    "### Iterations in Python\n",
    "##### Expected Time to Complete: 1 Hours\n",
    "\n",
    "In this exercise, we will use what we have learn't in the course to solve some problems.\n",
    "\n",
    "You should use Google style when writing your codes."
   ]
  },
  {
   "cell_type": "markdown",
   "id": "4bbca2a9",
   "metadata": {},
   "source": [
    "#### Exe 1: Gusseing game\n",
    "\n",
    "In this exercise, you should write a guessing games.\n",
    "\n",
    "You define a variable to store a number. Name this variable `true_number` and set it to any integer value you want from `0` to `100`.\n",
    "\n",
    "Your code should do the followings:\n",
    "1. repeat until the user gives the correct integer as input\n",
    "2. In each iteration it should get `input` from user\n",
    "3. In each iteration it must do one of the followings:\n",
    "    - if the guessed number (int) is bigger than `true_number`, your code must print that that `your guess in bigger than true_value` and you should continue iteration\n",
    "    - if the guessed number (int) is smaller than `true_number`, your code must print that that `your guess in smaller than true_valu` and you should continue iteration\n",
    "    - if the guessed number (int) is equal to `true_number`, your code must print that that `Your guess is true` and you should break the loop\n",
    "\n",
    "\n",
    "\n",
    "**Some questions as hints**:\n",
    "- Do you think you should use `while` loop or `for` loop for this problem?\n",
    "- Is you code have a mechansim to get out of loop?\n",
    "- Is there any machanism in your code to continue when the user guess is not correct?"
   ]
  },
  {
   "cell_type": "code",
   "execution_count": 1,
   "id": "01c6ff9b",
   "metadata": {},
   "outputs": [],
   "source": [
    "# start your code here\n"
   ]
  },
  {
   "cell_type": "markdown",
   "id": "6e88db09",
   "metadata": {},
   "source": [
    "### Congratulations!\n",
    "You finished the second assignment and now you are ready for your next step in Python journey.               \n",
    "Now, you know how to write loops to do iterations and use break, continue."
   ]
  }
 ],
 "metadata": {
  "kernelspec": {
   "display_name": "Python 3",
   "language": "python",
   "name": "python3"
  },
  "language_info": {
   "codemirror_mode": {
    "name": "ipython",
    "version": 3
   },
   "file_extension": ".py",
   "mimetype": "text/x-python",
   "name": "python",
   "nbconvert_exporter": "python",
   "pygments_lexer": "ipython3",
   "version": "3.9.5"
  }
 },
 "nbformat": 4,
 "nbformat_minor": 5
}
