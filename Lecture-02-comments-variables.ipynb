{
 "cells": [
  {
   "cell_type": "markdown",
   "metadata": {},
   "source": [
    "<div style=\"display: grid;\n",
    "  grid-template-columns: auto auto auto;\n",
    "  background-color: #AF96F3;\n",
    "  padding: = 7px;\n",
    "            width:100%;\">\n",
    "  <div style=\"background-color: rgba(255, 255, 255, 0.8);\n",
    "  border: 1px solid rgba(0, 0, 0, 0.8);\n",
    "  padding: 10px 10px 20px;\n",
    "  display:flex; justify-content: space-between;\"><div style=\"text-aling:left; width:80%\"><h1>Lecture 02: Variables and Comments</h1></div><div style=\"text-align:right;width:20%;font-size: 10px;\">Date: 6/21/2021</div></div>\n",
    "  <div style=\"background-color: rgba(255, 255, 255, 0.8);\n",
    "  border: 1px solid rgba(0, 0, 0, 0.8);\n",
    "  padding: 10px;\n",
    "  font-size: 16px;text-align: left;\"><p>Author: Javad Ebadi</p></div>\n",
    "  <div style=\"background-color: rgba(255, 255, 255, 0.8);\n",
    "  border: 1px solid rgba(0, 0, 0, 0.8);\n",
    "  padding: 0px;\n",
    "  font-size: 14px; display:flex; justify-content: space-between;\">\n",
    "      <div style=\"width:33.3%; text-align:left; margin:5px; padding:5px;\"><p>Email: javad.ebadi.1990@gmail.com</div>\n",
    "      <div style=\"width:33.3%; text-align:center; margin:5px; padding:5px;\"><p>Telegram: <a href=\"https://t.me/javadebadi1990\">@javadebadi1990</a></p></div>\n",
    "      <div style=\"width:33.3%; text-align:right; margin:5px; padding:5px;\"><p>GitHub: <a href=\"https://github.com/javadebadi\">javadebadi</a></p></div>\n",
    "   </div>\n",
    "  <div style=\"background-color: rgba(255, 255, 255, 0.8);\n",
    "  border: 1px solid rgba(0, 0, 0, 0.8);\n",
    "  padding: 10px;\n",
    "  font-size: 14px;\n",
    "              text-align: left;\"><p>\n",
    "      Table of Contents</p>\n",
    "      <ul>\n",
    "    <li><a href=\"#comments\">2.1 Comments</a>\n",
    "        <ul><li><a href=\"#gs-comments-indent\">2.1.1 Google style (comments)</a></li></ul>\n",
    "    </li>\n",
    "    <li><a href=\"#variables\">2.2 Variables</a>\n",
    "        <ul>\n",
    "            <li><a href=\"#variable-define\">2.2.1 Define and use variables</a></li>\n",
    "            <li><a href=\"#variable-name\">2.2.2 Variables names</a></li>\n",
    "        </ul>\n",
    "    </li>\n",
    "</ul>\n",
    "      <b> Expected time to complete this notebook: 1 hour</b>\n",
    "</div>\n",
    "</div>\n",
    "\n",
    "\n",
    "\n",
    "    "
   ]
  },
  {
   "cell_type": "markdown",
   "metadata": {},
   "source": [
    "## 2.1 Comments <a id=\"comments\"></a>\n",
    "\n",
    "Comments are lines in your code which will be ignored by compiler or interpreter. They are just lines in your code which are written for humans. Comments are used in code to explain what a piece of codes is doing. Adding brief and descriptive comments is a good practice in programming.\n",
    "\n",
    "In python comments are determined by `#` characters."
   ]
  },
  {
   "cell_type": "code",
   "execution_count": 1,
   "metadata": {},
   "outputs": [
    {
     "data": {
      "text/plain": [
       "2"
      ]
     },
     "execution_count": 1,
     "metadata": {},
     "output_type": "execute_result"
    }
   ],
   "source": [
    "# this is a comment\n",
    "1 + 1  # this is an inline comment"
   ]
  },
  {
   "cell_type": "markdown",
   "metadata": {},
   "source": [
    "### 2.1.1 Google style (comments) <a id=\"gs-comments-indent\"></a>\n",
    "\n",
    "Comment lines start with `#`. After `#`, insert just one space character.          \n",
    "For inline comments, the `#` character must be put after 2 space character from end of code. \n",
    "\n",
    "<p style=\"color:red;\">Wrong</p>\n",
    "\n",
    "```Python\n",
    "#        this a comment line\n",
    "```\n",
    "<p style=\"color:green;\">Right</p>\n",
    "\n",
    "```Python\n",
    "# this is comment line\n",
    "```\n",
    "<p style=\"color:red;\">Wrong</p>\n",
    "\n",
    "```Python\n",
    "1 + 1         # this is not a correct inline code\n",
    "```\n",
    "<p style=\"color:red;\">Wrong</p>\n",
    "\n",
    "```Python\n",
    "1 + 1 # this is not a correct inline code\n",
    "```\n",
    "<p style=\"color:green;\">Right</p>\n",
    "\n",
    "```Python\n",
    "1 + 1  # this is correct inline code\n",
    "```"
   ]
  },
  {
   "cell_type": "markdown",
   "metadata": {},
   "source": [
    "## 2.2 Variables <a id=\"variables\"></a>\n",
    "\n",
    "Varialbes are one of the most fundamental concepts in programming. Every programming langauge must support defining and working with variables.\n",
    "\n",
    "We can think of variables as a box in which we can put values.\n",
    "\n",
    "Let's assume that we want to define a variable in Python for age of person. To do this, we write\n",
    "```Python\n",
    "age = 25\n",
    "```\n",
    "After this line of code is executed, Python knows a variable called  `age`. Python allocates an space in physical memory of your computer to store the value of `age` variables and puts the number `25` in that part of memory. In addition, Python uses the name `age` to refer to this part of physical memory.\n",
    "\n",
    "Every variable in Python have these properties:\n",
    "- Name (identifier): `age`\n",
    "- Type: `int`\n",
    "- Value: `25`\n",
    "\n",
    "We can change the value of a variable by using **assignment operator**. In Python, the assignment operator is `=`. For example, to change the value of `age` variable to `30`, we simply use `=` as follows:\n",
    "\n",
    "```Python\n",
    "age = 30\n",
    "```\n",
    "Variables are needed in programming, because we can store our values with meaningful names, use them in our calculations and update their values."
   ]
  },
  {
   "cell_type": "markdown",
   "metadata": {},
   "source": [
    "### 2.2.1 Define and Use Variables <a id='variable-define'></a>\n",
    "\n",
    "Let's define two variables for length and width of a rectangle, and use them to cacluate area of the rectangle"
   ]
  },
  {
   "cell_type": "code",
   "execution_count": 2,
   "metadata": {},
   "outputs": [],
   "source": [
    "length = 100  # length of the rectangle\n",
    "width = 50  # width of the rectangle"
   ]
  },
  {
   "cell_type": "markdown",
   "metadata": {},
   "source": [
    "Let's check type of these variables"
   ]
  },
  {
   "cell_type": "code",
   "execution_count": 3,
   "metadata": {},
   "outputs": [
    {
     "data": {
      "text/plain": [
       "int"
      ]
     },
     "execution_count": 3,
     "metadata": {},
     "output_type": "execute_result"
    }
   ],
   "source": [
    "type(length)"
   ]
  },
  {
   "cell_type": "code",
   "execution_count": 4,
   "metadata": {},
   "outputs": [
    {
     "data": {
      "text/plain": [
       "int"
      ]
     },
     "execution_count": 4,
     "metadata": {},
     "output_type": "execute_result"
    }
   ],
   "source": [
    "type(width)"
   ]
  },
  {
   "cell_type": "markdown",
   "metadata": {},
   "source": [
    "Any operation which can applied to `int` data type, can be applied to variables of type `int` too. For example, we can add two `int` data types, therefore we can add two variables of type `int`:"
   ]
  },
  {
   "cell_type": "code",
   "execution_count": 6,
   "metadata": {},
   "outputs": [
    {
     "data": {
      "text/plain": [
       "150"
      ]
     },
     "execution_count": 6,
     "metadata": {},
     "output_type": "execute_result"
    }
   ],
   "source": [
    "length + width"
   ]
  },
  {
   "cell_type": "markdown",
   "metadata": {},
   "source": [
    "Now, we use `length` and `width` variables to calculate area of the rectangle and store the value in new variable called `area`"
   ]
  },
  {
   "cell_type": "code",
   "execution_count": 8,
   "metadata": {},
   "outputs": [],
   "source": [
    "area = length * width"
   ]
  },
  {
   "cell_type": "code",
   "execution_count": 9,
   "metadata": {},
   "outputs": [
    {
     "name": "stdout",
     "output_type": "stream",
     "text": [
      "5000\n"
     ]
    }
   ],
   "source": [
    "print(area)"
   ]
  },
  {
   "cell_type": "code",
   "execution_count": 10,
   "metadata": {},
   "outputs": [
    {
     "data": {
      "text/plain": [
       "int"
      ]
     },
     "execution_count": 10,
     "metadata": {},
     "output_type": "execute_result"
    }
   ],
   "source": [
    "type(area)"
   ]
  },
  {
   "cell_type": "markdown",
   "metadata": {},
   "source": [
    "Variables can be used to assign new values to them even using their own values:"
   ]
  },
  {
   "cell_type": "code",
   "execution_count": 12,
   "metadata": {},
   "outputs": [],
   "source": [
    "length = length + 100"
   ]
  },
  {
   "cell_type": "code",
   "execution_count": 13,
   "metadata": {},
   "outputs": [
    {
     "name": "stdout",
     "output_type": "stream",
     "text": [
      "200\n"
     ]
    }
   ],
   "source": [
    "print(length)"
   ]
  },
  {
   "cell_type": "markdown",
   "metadata": {},
   "source": [
    "The operations such as `length = length + 100` can be written simpler in Python using `+=' operator:"
   ]
  },
  {
   "cell_type": "code",
   "execution_count": 16,
   "metadata": {},
   "outputs": [
    {
     "name": "stdout",
     "output_type": "stream",
     "text": [
      "100\n",
      "200\n"
     ]
    }
   ],
   "source": [
    "length = 100\n",
    "print(length)\n",
    "length += 100  # equivalent to : length = length + 100\n",
    "print(length)"
   ]
  },
  {
   "cell_type": "markdown",
   "metadata": {},
   "source": [
    "The same kind of operations for `-`, `*`, `/` are availabe with `-=`, `*=` and `%=` operators."
   ]
  },
  {
   "cell_type": "markdown",
   "metadata": {},
   "source": [
    "### 2.2.2 Variable Name <a id=\"variable-name\"></a>\n",
    "\n",
    "Latin lowercase letters: a - z       \n",
    "Latin Uppercase letters: A - Z      \n",
    "digits: 0 - 9\n",
    "underscore: _   \n",
    "\n",
    "Farsi letters: ا - ی\n",
    "\n",
    "\n",
    "An allowed variable name in Python must obey these rules:\n",
    "\n",
    "- Variable names may contain letters, digits or the underscore character\n",
    "- Variable names must begin with a letter or underscore. Either lowercase or uppercase letters are acceptable.\n",
    "- Variable names may not be a reserved word in Python.\t\n",
    "\n",
    "> Question: Is `type` a valid name for a variable in Python?"
   ]
  },
  {
   "cell_type": "code",
   "execution_count": 19,
   "metadata": {},
   "outputs": [
    {
     "ename": "SyntaxError",
     "evalue": "invalid syntax (<ipython-input-19-53af2598759b>, line 2)",
     "output_type": "error",
     "traceback": [
      "\u001b[1;36m  File \u001b[1;32m\"<ipython-input-19-53af2598759b>\"\u001b[1;36m, line \u001b[1;32m2\u001b[0m\n\u001b[1;33m    1age = 25\u001b[0m\n\u001b[1;37m     ^\u001b[0m\n\u001b[1;31mSyntaxError\u001b[0m\u001b[1;31m:\u001b[0m invalid syntax\n"
     ]
    }
   ],
   "source": [
    "# invalid variable name because starts with a digit\n",
    "1age = 25"
   ]
  },
  {
   "cell_type": "code",
   "execution_count": 20,
   "metadata": {},
   "outputs": [
    {
     "ename": "SyntaxError",
     "evalue": "invalid syntax (<ipython-input-20-6736379babd7>, line 2)",
     "output_type": "error",
     "traceback": [
      "\u001b[1;36m  File \u001b[1;32m\"<ipython-input-20-6736379babd7>\"\u001b[1;36m, line \u001b[1;32m2\u001b[0m\n\u001b[1;33m    $age = 25\u001b[0m\n\u001b[1;37m    ^\u001b[0m\n\u001b[1;31mSyntaxError\u001b[0m\u001b[1;31m:\u001b[0m invalid syntax\n"
     ]
    }
   ],
   "source": [
    "# invalid variable name because the $ sign in neither letter nor digit\n",
    "$age = 25"
   ]
  },
  {
   "cell_type": "code",
   "execution_count": 21,
   "metadata": {},
   "outputs": [
    {
     "ename": "SyntaxError",
     "evalue": "invalid syntax (<ipython-input-21-64ead1e4da91>, line 2)",
     "output_type": "error",
     "traceback": [
      "\u001b[1;36m  File \u001b[1;32m\"<ipython-input-21-64ead1e4da91>\"\u001b[1;36m, line \u001b[1;32m2\u001b[0m\n\u001b[1;33m    age&@ = 25\u001b[0m\n\u001b[1;37m        ^\u001b[0m\n\u001b[1;31mSyntaxError\u001b[0m\u001b[1;31m:\u001b[0m invalid syntax\n"
     ]
    }
   ],
   "source": [
    "# invalid variable name because the & and @ characters areneither letters nor digits\n",
    "age&@ = 25"
   ]
  },
  {
   "cell_type": "code",
   "execution_count": 22,
   "metadata": {},
   "outputs": [],
   "source": [
    "# valid variable names\n",
    "age = 25\n",
    "Age = 25\n",
    "age1 = 30\n",
    "age_1 = 26\n",
    "_age = 27\n",
    "_myAge = 30"
   ]
  },
  {
   "cell_type": "markdown",
   "metadata": {},
   "source": [
    "Python by default use **UTF-8** encoding system, which means that we can define varaibes with **UTF-8** variables too. but, **DO NOT** use this kind of name for variables. For example:"
   ]
  },
  {
   "cell_type": "code",
   "execution_count": 23,
   "metadata": {},
   "outputs": [],
   "source": [
    "سن = 20"
   ]
  },
  {
   "cell_type": "code",
   "execution_count": 24,
   "metadata": {},
   "outputs": [
    {
     "name": "stdout",
     "output_type": "stream",
     "text": [
      "20\n"
     ]
    }
   ],
   "source": [
    "print(سن)"
   ]
  },
  {
   "cell_type": "code",
   "execution_count": 25,
   "metadata": {},
   "outputs": [
    {
     "data": {
      "text/plain": [
       "'ﺏ'"
      ]
     },
     "execution_count": 25,
     "metadata": {},
     "output_type": "execute_result"
    }
   ],
   "source": [
    "'\\uFE8F'  # https://en.wikipedia.org/wiki/Iran_System_encoding"
   ]
  },
  {
   "cell_type": "markdown",
   "metadata": {},
   "source": [
    "To increase readibility of variable names, usually we use some of these conventions in naming our vairables:\n",
    "\n",
    "|convention| example|\n",
    "|---|---|\n",
    "|Camel Case| someAwesomeVar |\n",
    "|Snake Case| some_awesome_var|\n",
    "|Pascal Case| SomeAwesomeVar |\n",
    "|Upper Case Snake Case| SOME_AWESOME_VAR|"
   ]
  },
  {
   "cell_type": "code",
   "execution_count": 26,
   "metadata": {},
   "outputs": [],
   "source": [
    "# my Age \n",
    "myAge = 25  # camel case\n",
    "my_age = 25  # snake case\n",
    "MyAge = 25  # Pascal case\n",
    "MY_AGE = 25  # Upper case snake case"
   ]
  }
 ],
 "metadata": {
  "kernelspec": {
   "display_name": "Python 3",
   "language": "python",
   "name": "python3"
  },
  "language_info": {
   "codemirror_mode": {
    "name": "ipython",
    "version": 3
   },
   "file_extension": ".py",
   "mimetype": "text/x-python",
   "name": "python",
   "nbconvert_exporter": "python",
   "pygments_lexer": "ipython3",
   "version": "3.9.5"
  }
 },
 "nbformat": 4,
 "nbformat_minor": 4
}
