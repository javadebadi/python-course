{
 "cells": [
  {
   "cell_type": "markdown",
   "id": "0911249f",
   "metadata": {},
   "source": [
    "# Lecture 10: Functions\n",
    "\n",
    "## 10.1 Define functions in Python <a id=\"functions-definition\"></a>\n",
    "\n",
    "<img src=\"./images/functions-2.svg\">\n",
    "\n",
    "[Fibonacci sequence](https://en.wikipedia.org/wiki/Fibonacci_number) is a sequence of numbers defined as below:      \n",
    "\n",
    "$$F_0 = 0,~ F_1 = 1$$  \n",
    "$$F_n = F_{n-1} + F_{n-2},~ \\quad \\rm{for}~\\quad n \\geq 2$$\n",
    "\n",
    "0, 1, 1, 2, 3, 5, 8, 13, 21, 34, 55, ..."
   ]
  },
  {
   "cell_type": "code",
   "execution_count": 1,
   "id": "d9bceaba",
   "metadata": {},
   "outputs": [],
   "source": [
    "def fib(n):\n",
    "    a, b = 0, 1\n",
    "    while a < n:\n",
    "        print(a, end=\" \")\n",
    "        a, b = b, a + b\n",
    "    print()\n",
    "    \n",
    "    return None"
   ]
  },
  {
   "cell_type": "code",
   "execution_count": 2,
   "id": "578f7efb",
   "metadata": {},
   "outputs": [
    {
     "name": "stdout",
     "output_type": "stream",
     "text": [
      "0 1 1 2 3 \n"
     ]
    }
   ],
   "source": [
    "fib(5)"
   ]
  },
  {
   "cell_type": "code",
   "execution_count": 3,
   "id": "0c5c7956",
   "metadata": {},
   "outputs": [
    {
     "name": "stdout",
     "output_type": "stream",
     "text": [
      "0 1 1 2 3 5 8 \n"
     ]
    }
   ],
   "source": [
    "fib(10)"
   ]
  },
  {
   "cell_type": "code",
   "execution_count": 4,
   "id": "3556b630",
   "metadata": {},
   "outputs": [
    {
     "name": "stdout",
     "output_type": "stream",
     "text": [
      "0 1 1 2 3 5 8 13 21 34 \n"
     ]
    }
   ],
   "source": [
    "fib(50)"
   ]
  },
  {
   "cell_type": "code",
   "execution_count": 5,
   "id": "1e6cd473",
   "metadata": {},
   "outputs": [
    {
     "name": "stdout",
     "output_type": "stream",
     "text": [
      "0 1 1 2 3 5 8 \n"
     ]
    }
   ],
   "source": [
    "x = fib(10)"
   ]
  },
  {
   "cell_type": "code",
   "execution_count": 6,
   "id": "1a1f0799",
   "metadata": {},
   "outputs": [
    {
     "name": "stdout",
     "output_type": "stream",
     "text": [
      "None\n"
     ]
    }
   ],
   "source": [
    "print(x)"
   ]
  },
  {
   "cell_type": "code",
   "execution_count": 7,
   "id": "3253e186",
   "metadata": {},
   "outputs": [
    {
     "data": {
      "text/plain": [
       "<function __main__.fib(n)>"
      ]
     },
     "execution_count": 7,
     "metadata": {},
     "output_type": "execute_result"
    }
   ],
   "source": [
    "fib"
   ]
  },
  {
   "cell_type": "code",
   "execution_count": 8,
   "id": "25e84e24",
   "metadata": {},
   "outputs": [
    {
     "data": {
      "text/plain": [
       "function"
      ]
     },
     "execution_count": 8,
     "metadata": {},
     "output_type": "execute_result"
    }
   ],
   "source": [
    "type(fib)"
   ]
  },
  {
   "cell_type": "markdown",
   "id": "33e6c441",
   "metadata": {},
   "source": [
    "## 10.2 Default arguments <a id=\"functions-default-arguments\"></a>\n",
    "\n",
    "Functions can have default arguments"
   ]
  },
  {
   "cell_type": "code",
   "execution_count": 9,
   "id": "1651a0ec",
   "metadata": {},
   "outputs": [],
   "source": [
    "def ask_ok(prompt, retries=4, reminder=\"Please try again!\"):\n",
    "    while True:\n",
    "        ok = input(prompt)\n",
    "        if ok in ['y', 'yes', 'yah']:\n",
    "            return True\n",
    "        elif ok in ['n', 'no', 'nop', 'nope']:\n",
    "            return False\n",
    "        retries -= 1\n",
    "        if retries < 0:\n",
    "            raise ValueError(\"invalid user response\")\n",
    "        print(reminder)"
   ]
  },
  {
   "cell_type": "code",
   "execution_count": 10,
   "id": "aaa4478c",
   "metadata": {},
   "outputs": [
    {
     "name": "stdout",
     "output_type": "stream",
     "text": [
      "Please enter your word:wefwef\n",
      "PLEEEEEEEEEEEEEEESE ENTER AGAIN!!!!!!!!!!!!\n",
      "Please enter your word:wefwefwef\n",
      "PLEEEEEEEEEEEEEEESE ENTER AGAIN!!!!!!!!!!!!\n",
      "Please enter your word:wefwef\n"
     ]
    },
    {
     "ename": "ValueError",
     "evalue": "invalid user response",
     "output_type": "error",
     "traceback": [
      "\u001b[1;31m---------------------------------------------------------------------------\u001b[0m",
      "\u001b[1;31mValueError\u001b[0m                                Traceback (most recent call last)",
      "\u001b[1;32m<ipython-input-10-c0564727270c>\u001b[0m in \u001b[0;36m<module>\u001b[1;34m\u001b[0m\n\u001b[1;32m----> 1\u001b[1;33m \u001b[0mask_ok\u001b[0m\u001b[1;33m(\u001b[0m\u001b[1;34m\"Please enter your word:\"\u001b[0m\u001b[1;33m,\u001b[0m \u001b[1;36m2\u001b[0m\u001b[1;33m,\u001b[0m \u001b[1;34m\"PLEEEEEEEEEEEEEEESE ENTER AGAIN!!!!!!!!!!!!\"\u001b[0m\u001b[1;33m)\u001b[0m\u001b[1;33m\u001b[0m\u001b[1;33m\u001b[0m\u001b[0m\n\u001b[0m",
      "\u001b[1;32m<ipython-input-9-95e9a74780ea>\u001b[0m in \u001b[0;36mask_ok\u001b[1;34m(prompt, retries, reminder)\u001b[0m\n\u001b[0;32m      8\u001b[0m         \u001b[0mretries\u001b[0m \u001b[1;33m-=\u001b[0m \u001b[1;36m1\u001b[0m\u001b[1;33m\u001b[0m\u001b[1;33m\u001b[0m\u001b[0m\n\u001b[0;32m      9\u001b[0m         \u001b[1;32mif\u001b[0m \u001b[0mretries\u001b[0m \u001b[1;33m<\u001b[0m \u001b[1;36m0\u001b[0m\u001b[1;33m:\u001b[0m\u001b[1;33m\u001b[0m\u001b[1;33m\u001b[0m\u001b[0m\n\u001b[1;32m---> 10\u001b[1;33m             \u001b[1;32mraise\u001b[0m \u001b[0mValueError\u001b[0m\u001b[1;33m(\u001b[0m\u001b[1;34m\"invalid user response\"\u001b[0m\u001b[1;33m)\u001b[0m\u001b[1;33m\u001b[0m\u001b[1;33m\u001b[0m\u001b[0m\n\u001b[0m\u001b[0;32m     11\u001b[0m         \u001b[0mprint\u001b[0m\u001b[1;33m(\u001b[0m\u001b[0mreminder\u001b[0m\u001b[1;33m)\u001b[0m\u001b[1;33m\u001b[0m\u001b[1;33m\u001b[0m\u001b[0m\n",
      "\u001b[1;31mValueError\u001b[0m: invalid user response"
     ]
    }
   ],
   "source": [
    "ask_ok(\"Please enter your word:\", 2, \"PLEEEEEEEEEEEEEEESE ENTER AGAIN!!!!!!!!!!!!\")"
   ]
  },
  {
   "cell_type": "code",
   "execution_count": 11,
   "id": "166d2ac6",
   "metadata": {},
   "outputs": [
    {
     "ename": "TypeError",
     "evalue": "ask_ok() takes from 1 to 3 positional arguments but 4 were given",
     "output_type": "error",
     "traceback": [
      "\u001b[1;31m---------------------------------------------------------------------------\u001b[0m",
      "\u001b[1;31mTypeError\u001b[0m                                 Traceback (most recent call last)",
      "\u001b[1;32m<ipython-input-11-6bf6b93c4428>\u001b[0m in \u001b[0;36m<module>\u001b[1;34m\u001b[0m\n\u001b[0;32m      1\u001b[0m \u001b[1;31m# when you give more than\u001b[0m\u001b[1;33m\u001b[0m\u001b[1;33m\u001b[0m\u001b[1;33m\u001b[0m\u001b[0m\n\u001b[1;32m----> 2\u001b[1;33m \u001b[0mask_ok\u001b[0m\u001b[1;33m(\u001b[0m\u001b[1;34m\"Please enter your word:\"\u001b[0m\u001b[1;33m,\u001b[0m \u001b[1;36m2\u001b[0m\u001b[1;33m,\u001b[0m \u001b[1;34m\"PLEEEEEEEEEEEEEEESE ENTER AGAIN!!!!!!!!!!!!\"\u001b[0m\u001b[1;33m,\u001b[0m \u001b[1;34m\"EEEEE\"\u001b[0m\u001b[1;33m)\u001b[0m\u001b[1;33m\u001b[0m\u001b[1;33m\u001b[0m\u001b[0m\n\u001b[0m",
      "\u001b[1;31mTypeError\u001b[0m: ask_ok() takes from 1 to 3 positional arguments but 4 were given"
     ]
    }
   ],
   "source": [
    "# when you give more than \n",
    "ask_ok(\"Please enter your word:\", 2, \"PLEEEEEEEEEEEEEEESE ENTER AGAIN!!!!!!!!!!!!\", \"EEEEE\")"
   ]
  },
  {
   "cell_type": "markdown",
   "id": "6b5c6671",
   "metadata": {},
   "source": [
    "Warning: In Python non-default arguments must be defined before default agruments\n",
    "\n",
    "Look at this example. Why there is an error?"
   ]
  },
  {
   "cell_type": "code",
   "execution_count": 12,
   "id": "c0a187e5",
   "metadata": {},
   "outputs": [
    {
     "ename": "SyntaxError",
     "evalue": "non-default argument follows default argument (<ipython-input-12-57f92f6e3688>, line 2)",
     "output_type": "error",
     "traceback": [
      "\u001b[1;36m  File \u001b[1;32m\"<ipython-input-12-57f92f6e3688>\"\u001b[1;36m, line \u001b[1;32m2\u001b[0m\n\u001b[1;33m    def ask_ok(retries=4, prompt, reminder=\"Please try again!\"):\u001b[0m\n\u001b[1;37m               ^\u001b[0m\n\u001b[1;31mSyntaxError\u001b[0m\u001b[1;31m:\u001b[0m non-default argument follows default argument\n"
     ]
    }
   ],
   "source": [
    "# this function definition should raise SyntaxError\n",
    "def ask_ok(retries=4, prompt, reminder=\"Please try again!\"):\n",
    "    while True:\n",
    "        ok = input(prompt)\n",
    "        if ok in ['y', 'yes', 'yah']:\n",
    "            return True\n",
    "        elif ok in ['n', 'no', 'nop', 'nope']:\n",
    "            return False\n",
    "        retries -= 1\n",
    "        if retries < 0:\n",
    "            raise ValueError(\"invalid user response\")\n",
    "        print(reminder)"
   ]
  },
  {
   "cell_type": "markdown",
   "id": "a171d722",
   "metadata": {},
   "source": [
    "### 10.2.1 Warning about default argument\n",
    "\n",
    "**Important warning**: The default value is evaluated only once. This makes a difference when the default is a mutable object such as a list, dictionary, or instances of most classes. "
   ]
  },
  {
   "cell_type": "code",
   "execution_count": 13,
   "id": "bd3a0fd8",
   "metadata": {},
   "outputs": [],
   "source": [
    "def f(a, L=[]):\n",
    "    L.append(a)\n",
    "    return L"
   ]
  },
  {
   "cell_type": "code",
   "execution_count": 14,
   "id": "bd13d0f8",
   "metadata": {},
   "outputs": [
    {
     "data": {
      "text/plain": [
       "[1]"
      ]
     },
     "execution_count": 14,
     "metadata": {},
     "output_type": "execute_result"
    }
   ],
   "source": [
    "f(1)"
   ]
  },
  {
   "cell_type": "code",
   "execution_count": 15,
   "id": "76926870",
   "metadata": {},
   "outputs": [
    {
     "data": {
      "text/plain": [
       "[1, 2]"
      ]
     },
     "execution_count": 15,
     "metadata": {},
     "output_type": "execute_result"
    }
   ],
   "source": [
    "f(2)"
   ]
  },
  {
   "cell_type": "code",
   "execution_count": 16,
   "id": "6d872816",
   "metadata": {},
   "outputs": [
    {
     "data": {
      "text/plain": [
       "[1, 2, 3]"
      ]
     },
     "execution_count": 16,
     "metadata": {},
     "output_type": "execute_result"
    }
   ],
   "source": [
    "f(3)"
   ]
  },
  {
   "cell_type": "code",
   "execution_count": 17,
   "id": "33a03ed3",
   "metadata": {},
   "outputs": [
    {
     "data": {
      "text/plain": [
       "[4]"
      ]
     },
     "execution_count": 17,
     "metadata": {},
     "output_type": "execute_result"
    }
   ],
   "source": [
    "f(4, L=[])"
   ]
  },
  {
   "cell_type": "code",
   "execution_count": 18,
   "id": "6a0fe387",
   "metadata": {},
   "outputs": [
    {
     "data": {
      "text/plain": [
       "[1, 2, 3, 4]"
      ]
     },
     "execution_count": 18,
     "metadata": {},
     "output_type": "execute_result"
    }
   ],
   "source": [
    "f(4)"
   ]
  },
  {
   "cell_type": "code",
   "execution_count": 19,
   "id": "51ab2c9a",
   "metadata": {},
   "outputs": [],
   "source": [
    "def f(a, L=None):\n",
    "    if L is None:\n",
    "        L = []\n",
    "    L.append(a)\n",
    "    return L"
   ]
  },
  {
   "cell_type": "code",
   "execution_count": 20,
   "id": "f1425804",
   "metadata": {},
   "outputs": [
    {
     "data": {
      "text/plain": [
       "[1]"
      ]
     },
     "execution_count": 20,
     "metadata": {},
     "output_type": "execute_result"
    }
   ],
   "source": [
    "f(1)"
   ]
  },
  {
   "cell_type": "code",
   "execution_count": 21,
   "id": "80be8aa2",
   "metadata": {},
   "outputs": [
    {
     "data": {
      "text/plain": [
       "[2]"
      ]
     },
     "execution_count": 21,
     "metadata": {},
     "output_type": "execute_result"
    }
   ],
   "source": [
    "f(2)"
   ]
  },
  {
   "cell_type": "code",
   "execution_count": 22,
   "id": "628f0509",
   "metadata": {},
   "outputs": [
    {
     "data": {
      "text/plain": [
       "[3]"
      ]
     },
     "execution_count": 22,
     "metadata": {},
     "output_type": "execute_result"
    }
   ],
   "source": [
    "f(3)"
   ]
  },
  {
   "cell_type": "markdown",
   "id": "db38e9eb",
   "metadata": {},
   "source": [
    "### 10.3 Keyword arguments <a id=\"function-keyword-arguments\"></a>"
   ]
  },
  {
   "cell_type": "code",
   "execution_count": 23,
   "id": "19f53e0a",
   "metadata": {},
   "outputs": [],
   "source": [
    "def print_info(name, voltage=10, current=100, lab_name=\"National Lab\"):\n",
    "    print(\"experimenter name :\", name)\n",
    "    print(\"Voltage = \", voltage)\n",
    "    print(\"Current = \", current)\n",
    "    print(\"LAB NAME: \", lab_name)"
   ]
  },
  {
   "cell_type": "code",
   "execution_count": 24,
   "id": "c30c2fcb",
   "metadata": {},
   "outputs": [
    {
     "name": "stdout",
     "output_type": "stream",
     "text": [
      "experimenter name : Javad\n",
      "Voltage =  10\n",
      "Current =  100\n",
      "LAB NAME:  National Lab\n"
     ]
    }
   ],
   "source": [
    "print_info(\"Javad\")"
   ]
  },
  {
   "cell_type": "code",
   "execution_count": 25,
   "id": "f833d772",
   "metadata": {},
   "outputs": [
    {
     "name": "stdout",
     "output_type": "stream",
     "text": [
      "experimenter name : Javad\n",
      "Voltage =  200000\n",
      "Current =  0\n",
      "LAB NAME:  NASA\n"
     ]
    }
   ],
   "source": [
    "print_info(\"Javad\", 200000, 0, \"NASA\")"
   ]
  },
  {
   "cell_type": "code",
   "execution_count": 26,
   "id": "c5aa14d8",
   "metadata": {},
   "outputs": [
    {
     "name": "stdout",
     "output_type": "stream",
     "text": [
      "experimenter name : Javad\n",
      "Voltage =  10\n",
      "Current =  100\n",
      "LAB NAME:  NASA\n"
     ]
    }
   ],
   "source": [
    "print_info(\"Javad\", lab_name = \"NASA\")"
   ]
  },
  {
   "cell_type": "code",
   "execution_count": 27,
   "id": "13e5bd91",
   "metadata": {},
   "outputs": [
    {
     "ename": "TypeError",
     "evalue": "print_info() missing 1 required positional argument: 'name'",
     "output_type": "error",
     "traceback": [
      "\u001b[1;31m---------------------------------------------------------------------------\u001b[0m",
      "\u001b[1;31mTypeError\u001b[0m                                 Traceback (most recent call last)",
      "\u001b[1;32m<ipython-input-27-577c9878a80e>\u001b[0m in \u001b[0;36m<module>\u001b[1;34m\u001b[0m\n\u001b[1;32m----> 1\u001b[1;33m \u001b[0mprint_info\u001b[0m\u001b[1;33m(\u001b[0m\u001b[1;33m)\u001b[0m  \u001b[1;31m# required argument missing\u001b[0m\u001b[1;33m\u001b[0m\u001b[1;33m\u001b[0m\u001b[0m\n\u001b[0m",
      "\u001b[1;31mTypeError\u001b[0m: print_info() missing 1 required positional argument: 'name'"
     ]
    }
   ],
   "source": [
    "print_info()  # required argument missing"
   ]
  },
  {
   "cell_type": "code",
   "execution_count": 28,
   "id": "c57d28d0",
   "metadata": {},
   "outputs": [
    {
     "name": "stdout",
     "output_type": "stream",
     "text": [
      "experimenter name : Javad\n",
      "Voltage =  100\n",
      "Current =  70000\n",
      "LAB NAME:  NASA\n",
      "experimenter name : Javad\n",
      "Voltage =  500\n",
      "Current =  100\n",
      "LAB NAME:  NASA\n"
     ]
    }
   ],
   "source": [
    "print_info(\"Javad\", 100, 70000, \"NASA\")\n",
    "print_info(\"Javad\", lab_name=\"NASA\", voltage=500)"
   ]
  },
  {
   "cell_type": "code",
   "execution_count": 29,
   "id": "242e3187",
   "metadata": {},
   "outputs": [
    {
     "name": "stdout",
     "output_type": "stream",
     "text": [
      "experimenter name : Javad\n",
      "Voltage =  10\n",
      "Current =  100\n",
      "LAB NAME:  NASA\n"
     ]
    }
   ],
   "source": [
    "print_info(lab_name=\"NASA\", name=\"Javad\")"
   ]
  },
  {
   "cell_type": "code",
   "execution_count": 30,
   "id": "dcf5a24c",
   "metadata": {},
   "outputs": [
    {
     "ename": "SyntaxError",
     "evalue": "positional argument follows keyword argument (<ipython-input-30-e3166ac10a38>, line 2)",
     "output_type": "error",
     "traceback": [
      "\u001b[1;36m  File \u001b[1;32m\"<ipython-input-30-e3166ac10a38>\"\u001b[1;36m, line \u001b[1;32m2\u001b[0m\n\u001b[1;33m    print_info(lab_name=\"NASA\", \"Javad\")\u001b[0m\n\u001b[1;37m                                ^\u001b[0m\n\u001b[1;31mSyntaxError\u001b[0m\u001b[1;31m:\u001b[0m positional argument follows keyword argument\n"
     ]
    }
   ],
   "source": [
    "# non-keyword argument after a keyword argument\n",
    "print_info(lab_name=\"NASA\", \"Javad\")"
   ]
  },
  {
   "cell_type": "code",
   "execution_count": 31,
   "id": "c9437113",
   "metadata": {},
   "outputs": [
    {
     "ename": "TypeError",
     "evalue": "print_info() got multiple values for argument 'name'",
     "output_type": "error",
     "traceback": [
      "\u001b[1;31m---------------------------------------------------------------------------\u001b[0m",
      "\u001b[1;31mTypeError\u001b[0m                                 Traceback (most recent call last)",
      "\u001b[1;32m<ipython-input-31-aeb2875c831b>\u001b[0m in \u001b[0;36m<module>\u001b[1;34m\u001b[0m\n\u001b[1;32m----> 1\u001b[1;33m \u001b[0mprint_info\u001b[0m\u001b[1;33m(\u001b[0m\u001b[1;34m\"Javad\"\u001b[0m\u001b[1;33m,\u001b[0m \u001b[0mname\u001b[0m\u001b[1;33m=\u001b[0m\u001b[1;34m\"JJJJJ\"\u001b[0m\u001b[1;33m)\u001b[0m  \u001b[1;31m# duplicate value for the same argument\u001b[0m\u001b[1;33m\u001b[0m\u001b[1;33m\u001b[0m\u001b[0m\n\u001b[0m",
      "\u001b[1;31mTypeError\u001b[0m: print_info() got multiple values for argument 'name'"
     ]
    }
   ],
   "source": [
    "print_info(\"Javad\", name=\"JJJJJ\")  # duplicate value for the same argument"
   ]
  },
  {
   "cell_type": "code",
   "execution_count": 32,
   "id": "d47b7b51",
   "metadata": {},
   "outputs": [
    {
     "ename": "TypeError",
     "evalue": "print_info() got an unexpected keyword argument 'my_non_arg'",
     "output_type": "error",
     "traceback": [
      "\u001b[1;31m---------------------------------------------------------------------------\u001b[0m",
      "\u001b[1;31mTypeError\u001b[0m                                 Traceback (most recent call last)",
      "\u001b[1;32m<ipython-input-32-4f27c382075f>\u001b[0m in \u001b[0;36m<module>\u001b[1;34m\u001b[0m\n\u001b[1;32m----> 1\u001b[1;33m \u001b[0mprint_info\u001b[0m\u001b[1;33m(\u001b[0m\u001b[0mmy_non_arg\u001b[0m\u001b[1;33m=\u001b[0m\u001b[1;36m7000\u001b[0m\u001b[1;33m)\u001b[0m  \u001b[1;31m# unknown keyword argument\u001b[0m\u001b[1;33m\u001b[0m\u001b[1;33m\u001b[0m\u001b[0m\n\u001b[0m",
      "\u001b[1;31mTypeError\u001b[0m: print_info() got an unexpected keyword argument 'my_non_arg'"
     ]
    }
   ],
   "source": [
    "print_info(my_non_arg=7000)  # unknown keyword argument"
   ]
  },
  {
   "cell_type": "markdown",
   "id": "df76572b",
   "metadata": {},
   "source": [
    "### 10.4  \\*arguments (*args) <a id=\"functions-args\"></a>"
   ]
  },
  {
   "cell_type": "code",
   "execution_count": 33,
   "id": "494df61c",
   "metadata": {},
   "outputs": [],
   "source": [
    "def my_sum(*args):\n",
    "    \"\"\"returns some of numbers in args\"\"\"\n",
    "    result = 0\n",
    "    for arg in args:\n",
    "        result += arg\n",
    "        \n",
    "    return result"
   ]
  },
  {
   "cell_type": "code",
   "execution_count": 34,
   "id": "c5ebdffe",
   "metadata": {},
   "outputs": [
    {
     "data": {
      "text/plain": [
       "0"
      ]
     },
     "execution_count": 34,
     "metadata": {},
     "output_type": "execute_result"
    }
   ],
   "source": [
    "my_sum()"
   ]
  },
  {
   "cell_type": "code",
   "execution_count": 35,
   "id": "1f07c5c1",
   "metadata": {},
   "outputs": [
    {
     "data": {
      "text/plain": [
       "10"
      ]
     },
     "execution_count": 35,
     "metadata": {},
     "output_type": "execute_result"
    }
   ],
   "source": [
    "my_sum(10)"
   ]
  },
  {
   "cell_type": "code",
   "execution_count": 36,
   "id": "30f8b10e",
   "metadata": {},
   "outputs": [
    {
     "data": {
      "text/plain": [
       "11"
      ]
     },
     "execution_count": 36,
     "metadata": {},
     "output_type": "execute_result"
    }
   ],
   "source": [
    "my_sum(1, 10)"
   ]
  },
  {
   "cell_type": "code",
   "execution_count": 37,
   "id": "45720d02",
   "metadata": {},
   "outputs": [
    {
     "data": {
      "text/plain": [
       "55"
      ]
     },
     "execution_count": 37,
     "metadata": {},
     "output_type": "execute_result"
    }
   ],
   "source": [
    "my_sum(1,2,3,4,5,6,7,8,9,10)"
   ]
  },
  {
   "cell_type": "markdown",
   "id": "677c0b94",
   "metadata": {},
   "source": [
    "### 10.5 \\*\\*kwargs (\\*\\*keywords) <a id=\"functions-kwargs\"></a>"
   ]
  },
  {
   "cell_type": "code",
   "execution_count": 38,
   "id": "638be4cc",
   "metadata": {},
   "outputs": [],
   "source": [
    "def print_nums(**kwargs):\n",
    "    for key in kwargs:\n",
    "        print(key, \":\", kwargs[key])"
   ]
  },
  {
   "cell_type": "code",
   "execution_count": 39,
   "id": "0b4f5084",
   "metadata": {},
   "outputs": [
    {
     "name": "stdout",
     "output_type": "stream",
     "text": [
      "num_1 : 1\n",
      "num_2 : 2\n",
      "num_3 : 3\n",
      "my_num : 4\n"
     ]
    }
   ],
   "source": [
    "print_nums(num_1=1, num_2=2, num_3=3, my_num=4)"
   ]
  },
  {
   "cell_type": "code",
   "execution_count": 40,
   "id": "3f5e4372",
   "metadata": {},
   "outputs": [
    {
     "name": "stdout",
     "output_type": "stream",
     "text": [
      "num_1 : 1\n",
      "num_2 : 2\n",
      "num_3 : 3\n",
      "my_num : 4\n",
      "another_num : 166565661\n"
     ]
    }
   ],
   "source": [
    "print_nums(num_1=1, num_2=2, num_3=3, my_num=4, another_num=166565661)"
   ]
  },
  {
   "cell_type": "code",
   "execution_count": 41,
   "id": "544d0e73",
   "metadata": {},
   "outputs": [
    {
     "data": {
      "text/plain": [
       "range(1, 2, 3)"
      ]
     },
     "execution_count": 41,
     "metadata": {},
     "output_type": "execute_result"
    }
   ],
   "source": [
    "l = [1,2,3]\n",
    "range(*l)"
   ]
  },
  {
   "cell_type": "markdown",
   "id": "f8242bdc",
   "metadata": {},
   "source": [
    "## 10.6 Anonymous functions <a id=\"functions-lambda\"></a>\n",
    "\n",
    "```Python\n",
    "lambda <params>: <expression>\n",
    "```"
   ]
  },
  {
   "cell_type": "code",
   "execution_count": 42,
   "id": "bdb6caed",
   "metadata": {},
   "outputs": [],
   "source": [
    "f = lambda a, b: a + b"
   ]
  },
  {
   "cell_type": "code",
   "execution_count": 43,
   "id": "b1eabe80",
   "metadata": {},
   "outputs": [],
   "source": [
    "def create_increment(n):\n",
    "    return lambda x: x + n"
   ]
  },
  {
   "cell_type": "code",
   "execution_count": 44,
   "id": "c001c55f",
   "metadata": {},
   "outputs": [],
   "source": [
    "increment_by_42  = create_increment(42)"
   ]
  },
  {
   "cell_type": "code",
   "execution_count": 45,
   "id": "6b5ed273",
   "metadata": {},
   "outputs": [
    {
     "data": {
      "text/plain": [
       "function"
      ]
     },
     "execution_count": 45,
     "metadata": {},
     "output_type": "execute_result"
    }
   ],
   "source": [
    "type(increment_by_42)"
   ]
  },
  {
   "cell_type": "code",
   "execution_count": 46,
   "id": "af9c109d",
   "metadata": {},
   "outputs": [
    {
     "data": {
      "text/plain": [
       "42"
      ]
     },
     "execution_count": 46,
     "metadata": {},
     "output_type": "execute_result"
    }
   ],
   "source": [
    "increment_by_42(0)"
   ]
  },
  {
   "cell_type": "code",
   "execution_count": 47,
   "id": "790fd515",
   "metadata": {},
   "outputs": [
    {
     "data": {
      "text/plain": [
       "43"
      ]
     },
     "execution_count": 47,
     "metadata": {},
     "output_type": "execute_result"
    }
   ],
   "source": [
    "increment_by_42(1)"
   ]
  },
  {
   "cell_type": "code",
   "execution_count": 48,
   "id": "9bacc9fa",
   "metadata": {},
   "outputs": [
    {
     "data": {
      "text/plain": [
       "[1, 2, 5]"
      ]
     },
     "execution_count": 48,
     "metadata": {},
     "output_type": "execute_result"
    }
   ],
   "source": [
    "# another use case for lambda functions\n",
    "my_list = [-1, 1, 2, 5, -555, -1100]\n",
    "[*filter(lambda item: item > 0 , my_list)]"
   ]
  },
  {
   "cell_type": "markdown",
   "id": "f4bd10ac",
   "metadata": {},
   "source": [
    "## 10.7 Docstring <a id=\"gs-style-functions-docstring\"></a>\n",
    "\n",
    "Examples of writing docstrings can be found [here](https://sphinxcontrib-napoleon.readthedocs.io/en/latest/example_google.html).\n",
    "\n",
    "In this section, we learn how to write docstrings in google style"
   ]
  },
  {
   "cell_type": "code",
   "execution_count": 49,
   "id": "de7b8698",
   "metadata": {},
   "outputs": [],
   "source": [
    "def print_greeting_message(greeting, person):\n",
    "    \"\"\"Says greetings to person.\n",
    "    \n",
    "    This function, says greetings to person in order to\n",
    "    respect that person.\n",
    "    \n",
    "    Args:\n",
    "        greeting (str): Describes the `greeting` message.\n",
    "        person (str): Describes the name of the `person`.\n",
    "        \n",
    "    Returns:\n",
    "        None\n",
    "        \n",
    "    Raises:\n",
    "        TypeError: if `greeting` is not string\n",
    "    \"\"\"\n",
    "    if type(greeting) != str:\n",
    "        raise TypeError(\"greeting parameter must be of type string\")\n",
    "    print(greeting, \" \", person)\n",
    "    \n",
    "    return None"
   ]
  },
  {
   "cell_type": "code",
   "execution_count": 50,
   "id": "1879c9c5",
   "metadata": {},
   "outputs": [
    {
     "ename": "TypeError",
     "evalue": "greeting parameter must be of type string",
     "output_type": "error",
     "traceback": [
      "\u001b[1;31m---------------------------------------------------------------------------\u001b[0m",
      "\u001b[1;31mTypeError\u001b[0m                                 Traceback (most recent call last)",
      "\u001b[1;32m<ipython-input-50-69ba7d5b2d23>\u001b[0m in \u001b[0;36m<module>\u001b[1;34m\u001b[0m\n\u001b[1;32m----> 1\u001b[1;33m \u001b[0mprint_greeting_message\u001b[0m\u001b[1;33m(\u001b[0m\u001b[0mgreeting\u001b[0m\u001b[1;33m=\u001b[0m\u001b[1;36m15189\u001b[0m\u001b[1;33m,\u001b[0m \u001b[0mperson\u001b[0m\u001b[1;33m=\u001b[0m\u001b[1;34m\"Einstein\"\u001b[0m\u001b[1;33m)\u001b[0m\u001b[1;33m\u001b[0m\u001b[1;33m\u001b[0m\u001b[0m\n\u001b[0m",
      "\u001b[1;32m<ipython-input-49-f150ec03dff2>\u001b[0m in \u001b[0;36mprint_greeting_message\u001b[1;34m(greeting, person)\u001b[0m\n\u001b[0;32m     16\u001b[0m     \"\"\"\n\u001b[0;32m     17\u001b[0m     \u001b[1;32mif\u001b[0m \u001b[0mtype\u001b[0m\u001b[1;33m(\u001b[0m\u001b[0mgreeting\u001b[0m\u001b[1;33m)\u001b[0m \u001b[1;33m!=\u001b[0m \u001b[0mstr\u001b[0m\u001b[1;33m:\u001b[0m\u001b[1;33m\u001b[0m\u001b[1;33m\u001b[0m\u001b[0m\n\u001b[1;32m---> 18\u001b[1;33m         \u001b[1;32mraise\u001b[0m \u001b[0mTypeError\u001b[0m\u001b[1;33m(\u001b[0m\u001b[1;34m\"greeting parameter must be of type string\"\u001b[0m\u001b[1;33m)\u001b[0m\u001b[1;33m\u001b[0m\u001b[1;33m\u001b[0m\u001b[0m\n\u001b[0m\u001b[0;32m     19\u001b[0m     \u001b[0mprint\u001b[0m\u001b[1;33m(\u001b[0m\u001b[0mgreeting\u001b[0m\u001b[1;33m,\u001b[0m \u001b[1;34m\" \"\u001b[0m\u001b[1;33m,\u001b[0m \u001b[0mperson\u001b[0m\u001b[1;33m)\u001b[0m\u001b[1;33m\u001b[0m\u001b[1;33m\u001b[0m\u001b[0m\n\u001b[0;32m     20\u001b[0m \u001b[1;33m\u001b[0m\u001b[0m\n",
      "\u001b[1;31mTypeError\u001b[0m: greeting parameter must be of type string"
     ]
    }
   ],
   "source": [
    "print_greeting_message(greeting=15189, person=\"Einstein\")"
   ]
  },
  {
   "cell_type": "code",
   "execution_count": 51,
   "id": "72e90a80",
   "metadata": {},
   "outputs": [
    {
     "name": "stdout",
     "output_type": "stream",
     "text": [
      "Hi   Einstein\n"
     ]
    }
   ],
   "source": [
    "print_greeting_message(greeting=\"Hi\", person=\"Einstein\")"
   ]
  },
  {
   "cell_type": "code",
   "execution_count": 52,
   "id": "869428c3",
   "metadata": {},
   "outputs": [
    {
     "name": "stdout",
     "output_type": "stream",
     "text": [
      "Says greetings to person.\n",
      "    \n",
      "    This function, says greetings to person in order to\n",
      "    respect that person.\n",
      "    \n",
      "    Args:\n",
      "        greeting (str): Describes the `greeting` message.\n",
      "        person (str): Describes the name of the `person`.\n",
      "        \n",
      "    Returns:\n",
      "        None\n",
      "        \n",
      "    Raises:\n",
      "        TypeError: if `greeting` is not string\n",
      "    \n"
     ]
    }
   ],
   "source": [
    "print(print_greeting_message.__doc__)"
   ]
  },
  {
   "cell_type": "code",
   "execution_count": 53,
   "id": "8800bcaa",
   "metadata": {},
   "outputs": [
    {
     "name": "stdout",
     "output_type": "stream",
     "text": [
      "Help on function print_greeting_message in module __main__:\n",
      "\n",
      "print_greeting_message(greeting, person)\n",
      "    Says greetings to person.\n",
      "    \n",
      "    This function, says greetings to person in order to\n",
      "    respect that person.\n",
      "    \n",
      "    Args:\n",
      "        greeting (str): Describes the `greeting` message.\n",
      "        person (str): Describes the name of the `person`.\n",
      "        \n",
      "    Returns:\n",
      "        None\n",
      "        \n",
      "    Raises:\n",
      "        TypeError: if `greeting` is not string\n",
      "\n"
     ]
    }
   ],
   "source": [
    "help(print_greeting_message)"
   ]
  },
  {
   "cell_type": "markdown",
   "id": "f3362431",
   "metadata": {},
   "source": [
    "## 10.8 Functions annotations\n",
    "```Python\n",
    "def function_name(param1: parma1_type,\n",
    "                  param2: param2_type= default_value) -> return_type:\n",
    "    <function_body>\n",
    "```"
   ]
  },
  {
   "cell_type": "code",
   "execution_count": 54,
   "id": "1f2c4a1f",
   "metadata": {},
   "outputs": [],
   "source": [
    "def f(first_name: str,\n",
    "      family_name: str,\n",
    "      university: str =\"Harvard\") -> None:\n",
    "    print(first_name, \" \", family_name, \" is graduated from \", university)\n",
    "    return 10"
   ]
  },
  {
   "cell_type": "code",
   "execution_count": 55,
   "id": "581dfe04",
   "metadata": {},
   "outputs": [
    {
     "name": "stdout",
     "output_type": "stream",
     "text": [
      "Albert   Einstein  is graduated from  Harvard\n"
     ]
    },
    {
     "data": {
      "text/plain": [
       "10"
      ]
     },
     "execution_count": 55,
     "metadata": {},
     "output_type": "execute_result"
    }
   ],
   "source": [
    "f(\"Albert\", \"Einstein\")"
   ]
  },
  {
   "cell_type": "code",
   "execution_count": 56,
   "id": "359e0579",
   "metadata": {},
   "outputs": [
    {
     "data": {
      "text/plain": [
       "{'first_name': str, 'family_name': str, 'university': str, 'return': None}"
      ]
     },
     "execution_count": 56,
     "metadata": {},
     "output_type": "execute_result"
    }
   ],
   "source": [
    "f.__annotations__"
   ]
  },
  {
   "cell_type": "markdown",
   "id": "5d584155",
   "metadata": {},
   "source": [
    "## 10.9 Special parameters\n",
    "\n",
    "<pre><span></span>def f(pos1, pos2, /, pos_or_kwd, *, kwd1, kwd2):\n",
    "      -----------    ----------     ----------\n",
    "        |             |                  |\n",
    "        |        Positional or keyword   |\n",
    "        |                                - Keyword only\n",
    "         -- Positional only\n",
    "</pre>"
   ]
  },
  {
   "cell_type": "code",
   "execution_count": 57,
   "id": "8e586240",
   "metadata": {},
   "outputs": [],
   "source": [
    "def f(pos_only, pos_or_kwd, kwd_only):\n",
    "    print(\"pos_only = \", pos_only)\n",
    "    print(\"pos_or_kwd = \", pos_or_kwd)\n",
    "    print(\"kwd_only = \" , kwd_only)"
   ]
  },
  {
   "cell_type": "code",
   "execution_count": 58,
   "id": "ad0a1c7c",
   "metadata": {},
   "outputs": [
    {
     "name": "stdout",
     "output_type": "stream",
     "text": [
      "pos_only =  Einstein\n",
      "pos_or_kwd =  Newton\n",
      "kwd_only =  Heisenberg\n"
     ]
    }
   ],
   "source": [
    "f(pos_only=\"Einstein\", pos_or_kwd=\"Newton\", kwd_only=\"Heisenberg\")  # keyword arguments"
   ]
  },
  {
   "cell_type": "code",
   "execution_count": 59,
   "id": "6f7fcde6",
   "metadata": {},
   "outputs": [],
   "source": [
    "def g1(pos_only, /, pos_or_kwd, kwd_only):\n",
    "    print(\"pos_only = \", pos_only)\n",
    "    print(\"pos_or_kwd = \", pos_or_kwd)\n",
    "    print(\"kwd_only = \" , kwd_only)"
   ]
  },
  {
   "cell_type": "code",
   "execution_count": 60,
   "id": "e1ac3dd8",
   "metadata": {},
   "outputs": [
    {
     "ename": "TypeError",
     "evalue": "g1() got some positional-only arguments passed as keyword arguments: 'pos_only'",
     "output_type": "error",
     "traceback": [
      "\u001b[1;31m---------------------------------------------------------------------------\u001b[0m",
      "\u001b[1;31mTypeError\u001b[0m                                 Traceback (most recent call last)",
      "\u001b[1;32m<ipython-input-60-c18179589ba7>\u001b[0m in \u001b[0;36m<module>\u001b[1;34m\u001b[0m\n\u001b[1;32m----> 1\u001b[1;33m \u001b[0mg1\u001b[0m\u001b[1;33m(\u001b[0m\u001b[0mpos_only\u001b[0m\u001b[1;33m=\u001b[0m\u001b[1;34m\"Einstein\"\u001b[0m\u001b[1;33m,\u001b[0m \u001b[0mpos_or_kwd\u001b[0m\u001b[1;33m=\u001b[0m\u001b[1;34m\"Newton\"\u001b[0m\u001b[1;33m,\u001b[0m \u001b[0mkwd_only\u001b[0m\u001b[1;33m=\u001b[0m\u001b[1;34m\"Heisenberg\"\u001b[0m\u001b[1;33m)\u001b[0m\u001b[1;33m\u001b[0m\u001b[1;33m\u001b[0m\u001b[0m\n\u001b[0m",
      "\u001b[1;31mTypeError\u001b[0m: g1() got some positional-only arguments passed as keyword arguments: 'pos_only'"
     ]
    }
   ],
   "source": [
    "g1(pos_only=\"Einstein\", pos_or_kwd=\"Newton\", kwd_only=\"Heisenberg\")"
   ]
  },
  {
   "cell_type": "code",
   "execution_count": 61,
   "id": "466b0a4a",
   "metadata": {},
   "outputs": [
    {
     "name": "stdout",
     "output_type": "stream",
     "text": [
      "pos_only =  Einstein\n",
      "pos_or_kwd =  Newton\n",
      "kwd_only =  Heisenberg\n"
     ]
    }
   ],
   "source": [
    "g1(\"Einstein\", pos_or_kwd=\"Newton\", kwd_only=\"Heisenberg\")"
   ]
  },
  {
   "cell_type": "code",
   "execution_count": 62,
   "id": "584a0d27",
   "metadata": {},
   "outputs": [],
   "source": [
    "def g2(pos_only, /, pos_or_kwd, *, kwd_only):\n",
    "    print(\"pos_only = \", pos_only)\n",
    "    print(\"pos_or_kwd = \", pos_or_kwd)\n",
    "    print(\"kwd_only = \" , kwd_only)"
   ]
  },
  {
   "cell_type": "code",
   "execution_count": 63,
   "id": "5e420ba1",
   "metadata": {},
   "outputs": [
    {
     "ename": "TypeError",
     "evalue": "g2() got some positional-only arguments passed as keyword arguments: 'pos_only'",
     "output_type": "error",
     "traceback": [
      "\u001b[1;31m---------------------------------------------------------------------------\u001b[0m",
      "\u001b[1;31mTypeError\u001b[0m                                 Traceback (most recent call last)",
      "\u001b[1;32m<ipython-input-63-bb53a3e0e247>\u001b[0m in \u001b[0;36m<module>\u001b[1;34m\u001b[0m\n\u001b[1;32m----> 1\u001b[1;33m \u001b[0mg2\u001b[0m\u001b[1;33m(\u001b[0m\u001b[0mpos_only\u001b[0m\u001b[1;33m=\u001b[0m\u001b[1;34m\"Einstein\"\u001b[0m\u001b[1;33m,\u001b[0m \u001b[0mpos_or_kwd\u001b[0m\u001b[1;33m=\u001b[0m\u001b[1;34m\"Newton\"\u001b[0m\u001b[1;33m,\u001b[0m \u001b[0mkwd_only\u001b[0m\u001b[1;33m=\u001b[0m\u001b[1;34m\"Heisenberg\"\u001b[0m\u001b[1;33m)\u001b[0m\u001b[1;33m\u001b[0m\u001b[1;33m\u001b[0m\u001b[0m\n\u001b[0m",
      "\u001b[1;31mTypeError\u001b[0m: g2() got some positional-only arguments passed as keyword arguments: 'pos_only'"
     ]
    }
   ],
   "source": [
    "g2(pos_only=\"Einstein\", pos_or_kwd=\"Newton\", kwd_only=\"Heisenberg\")"
   ]
  },
  {
   "cell_type": "code",
   "execution_count": 64,
   "id": "1e2c9373",
   "metadata": {},
   "outputs": [
    {
     "ename": "TypeError",
     "evalue": "g2() takes 2 positional arguments but 3 were given",
     "output_type": "error",
     "traceback": [
      "\u001b[1;31m---------------------------------------------------------------------------\u001b[0m",
      "\u001b[1;31mTypeError\u001b[0m                                 Traceback (most recent call last)",
      "\u001b[1;32m<ipython-input-64-7fbf25ac3d00>\u001b[0m in \u001b[0;36m<module>\u001b[1;34m\u001b[0m\n\u001b[1;32m----> 1\u001b[1;33m \u001b[0mg2\u001b[0m\u001b[1;33m(\u001b[0m\u001b[1;34m\"Einstein\"\u001b[0m\u001b[1;33m,\u001b[0m \u001b[1;34m\"Newton\"\u001b[0m\u001b[1;33m,\u001b[0m \u001b[1;34m\"Heisenberg\"\u001b[0m\u001b[1;33m)\u001b[0m\u001b[1;33m\u001b[0m\u001b[1;33m\u001b[0m\u001b[0m\n\u001b[0m",
      "\u001b[1;31mTypeError\u001b[0m: g2() takes 2 positional arguments but 3 were given"
     ]
    }
   ],
   "source": [
    "g2(\"Einstein\", \"Newton\", \"Heisenberg\")"
   ]
  },
  {
   "cell_type": "code",
   "execution_count": 65,
   "id": "aaa218af",
   "metadata": {},
   "outputs": [
    {
     "name": "stdout",
     "output_type": "stream",
     "text": [
      "pos_only =  Einstein\n",
      "pos_or_kwd =  Newton\n",
      "kwd_only =  Heisenberg\n"
     ]
    }
   ],
   "source": [
    "g2(\"Einstein\", \"Newton\", kwd_only=\"Heisenberg\")"
   ]
  }
 ],
 "metadata": {
  "kernelspec": {
   "display_name": "Python 3",
   "language": "python",
   "name": "python3"
  },
  "language_info": {
   "codemirror_mode": {
    "name": "ipython",
    "version": 3
   },
   "file_extension": ".py",
   "mimetype": "text/x-python",
   "name": "python",
   "nbconvert_exporter": "python",
   "pygments_lexer": "ipython3",
   "version": "3.8.10"
  }
 },
 "nbformat": 4,
 "nbformat_minor": 5
}
