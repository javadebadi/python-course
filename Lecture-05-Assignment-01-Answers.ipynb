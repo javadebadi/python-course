{
 "cells": [
  {
   "cell_type": "markdown",
   "id": "64571c30",
   "metadata": {},
   "source": [
    "# Assingment #1\n",
    "### Variables, Strings and Lists\n",
    "##### Expected Time to Complete: 2 Hours\n",
    "\n",
    "In this exercise, we will use what we have learn't in the course to solve some problems.\n",
    "\n",
    "You should use Google style when writing your codes."
   ]
  },
  {
   "cell_type": "markdown",
   "id": "62be6a11",
   "metadata": {},
   "source": [
    "#### Exe 1: working with strings\n",
    "\n",
    "define a string variable with name `myString` and value `Hello World!`"
   ]
  },
  {
   "cell_type": "code",
   "execution_count": 1,
   "id": "2554f400",
   "metadata": {},
   "outputs": [],
   "source": [
    "# start your code here\n",
    "# define a string variable with name myString and value \"Hello World\"\n",
    "myString = \"Hello World!\""
   ]
  },
  {
   "cell_type": "code",
   "execution_count": 2,
   "id": "882efa0d",
   "metadata": {},
   "outputs": [
    {
     "data": {
      "text/plain": [
       "'Hello World!'"
      ]
     },
     "execution_count": 2,
     "metadata": {},
     "output_type": "execute_result"
    }
   ],
   "source": [
    "# run this cell\n",
    "myString"
   ]
  },
  {
   "cell_type": "markdown",
   "id": "9bb002ef",
   "metadata": {},
   "source": [
    "find length of `myString`"
   ]
  },
  {
   "cell_type": "code",
   "execution_count": 3,
   "id": "16602254",
   "metadata": {},
   "outputs": [
    {
     "data": {
      "text/plain": [
       "12"
      ]
     },
     "execution_count": 3,
     "metadata": {},
     "output_type": "execute_result"
    }
   ],
   "source": [
    "# start your code here\n",
    "# find the length of the myString\n",
    "len(myString)"
   ]
  },
  {
   "cell_type": "markdown",
   "id": "7feb987a",
   "metadata": {},
   "source": [
    "What is the length of myString? Why the length of myString is this number?"
   ]
  },
  {
   "cell_type": "markdown",
   "id": "5bfd82dc",
   "metadata": {},
   "source": [
    "**Answer:**"
   ]
  },
  {
   "cell_type": "markdown",
   "id": "9d61abe7",
   "metadata": {},
   "source": [
    "Slice the `myString` from index 2 to index 7 excluded"
   ]
  },
  {
   "cell_type": "code",
   "execution_count": 4,
   "id": "fec46a63",
   "metadata": {},
   "outputs": [
    {
     "data": {
      "text/plain": [
       "'llo W'"
      ]
     },
     "execution_count": 4,
     "metadata": {},
     "output_type": "execute_result"
    }
   ],
   "source": [
    "# start your code here\n",
    "myString[2:7]"
   ]
  },
  {
   "cell_type": "markdown",
   "id": "b296e8b9",
   "metadata": {},
   "source": [
    "Slice the `myString` from index 2 to index 7 included"
   ]
  },
  {
   "cell_type": "code",
   "execution_count": 5,
   "id": "e8a9f668",
   "metadata": {},
   "outputs": [
    {
     "data": {
      "text/plain": [
       "'llo Wo'"
      ]
     },
     "execution_count": 5,
     "metadata": {},
     "output_type": "execute_result"
    }
   ],
   "source": [
    "# start your code here\n",
    "myString[2:8]"
   ]
  },
  {
   "cell_type": "markdown",
   "id": "d84cfcde",
   "metadata": {},
   "source": [
    "Assign `\"some\"` string to the slice of `myString` from index 2 to index 5 excluded.\n",
    "Do you think it would be possible? "
   ]
  },
  {
   "cell_type": "code",
   "execution_count": 6,
   "id": "cac71732",
   "metadata": {},
   "outputs": [],
   "source": [
    "# start your code here\n"
   ]
  },
  {
   "cell_type": "markdown",
   "id": "a3feed15",
   "metadata": {},
   "source": [
    "- Is the above line raises error?\n",
    "- What kind of error is raised?\n",
    "- Why the error is raised?\n",
    "- _Hint_: remember the **mutable** and **immutable** concepts"
   ]
  },
  {
   "cell_type": "markdown",
   "id": "d77f8cca",
   "metadata": {},
   "source": [
    "**Answer**:"
   ]
  },
  {
   "cell_type": "markdown",
   "id": "4674f41a",
   "metadata": {},
   "source": [
    "#### Exe 2: Shallow copy vs reference\n",
    "\n",
    "In this exerciese we will know why wee need to use shallow copy and could not simply use `=` operator to get a copy of list.\n",
    "\n",
    "Let's define a new list called `my_list_1`"
   ]
  },
  {
   "cell_type": "code",
   "execution_count": 7,
   "id": "46ad3358",
   "metadata": {},
   "outputs": [],
   "source": [
    "# run this cell\n",
    "my_list_1 = [1, 2, 3]"
   ]
  },
  {
   "cell_type": "markdown",
   "id": "df57af3b",
   "metadata": {},
   "source": [
    "- We define `my_list_2` with assignment operator from `my_list_1`.      \n",
    "- We define `my_list_3` with shallow copy from `my_list_1`."
   ]
  },
  {
   "cell_type": "code",
   "execution_count": 8,
   "id": "38919d7f",
   "metadata": {},
   "outputs": [],
   "source": [
    "# run this cell\n",
    "my_list_2 = my_list_1  # assign my_list_1 to my_list_2\n",
    "my_list_3 = my_list_1[:]  # define my_list_3 as a shallow copy my_list_1"
   ]
  },
  {
   "cell_type": "code",
   "execution_count": 9,
   "id": "cc7c7aa8",
   "metadata": {},
   "outputs": [
    {
     "name": "stdout",
     "output_type": "stream",
     "text": [
      "my_list_1 = [1, 2, 3]\n",
      "my_list_2 = [1, 2, 3]\n",
      "my_list_3 = [1, 2, 3]\n"
     ]
    }
   ],
   "source": [
    "# run this cell\n",
    "print(\"my_list_1 =\", my_list_1)\n",
    "print(\"my_list_2 =\", my_list_2)\n",
    "print(\"my_list_3 =\", my_list_3)"
   ]
  },
  {
   "cell_type": "markdown",
   "id": "ec328ab0",
   "metadata": {},
   "source": [
    "Append number `4` to `my_list_3`"
   ]
  },
  {
   "cell_type": "code",
   "execution_count": 10,
   "id": "df8b71c5",
   "metadata": {},
   "outputs": [],
   "source": [
    "# start your code here\n",
    "# append number 4 to my_list_3\n",
    "my_list_3.append(4)"
   ]
  },
  {
   "cell_type": "code",
   "execution_count": 11,
   "id": "7c798559",
   "metadata": {},
   "outputs": [
    {
     "name": "stdout",
     "output_type": "stream",
     "text": [
      "my_list_1 = [1, 2, 3]\n",
      "my_list_2 = [1, 2, 3]\n",
      "my_list_3 = [1, 2, 3, 4]\n"
     ]
    }
   ],
   "source": [
    "# run this cell\n",
    "print(\"my_list_1 =\", my_list_1)\n",
    "print(\"my_list_2 =\", my_list_2)\n",
    "print(\"my_list_3 =\", my_list_3)"
   ]
  },
  {
   "cell_type": "markdown",
   "id": "7257d688",
   "metadata": {},
   "source": [
    "- Do `my_list_3` change?\n",
    "- Do `my_list_1` or `my_list_2` change?"
   ]
  },
  {
   "cell_type": "markdown",
   "id": "87f2d110",
   "metadata": {},
   "source": [
    "**Answer:**"
   ]
  },
  {
   "cell_type": "markdown",
   "id": "fa13bbe7",
   "metadata": {},
   "source": [
    "Append number `Hello` to my_list_2"
   ]
  },
  {
   "cell_type": "code",
   "execution_count": 12,
   "id": "0c5bfcc4",
   "metadata": {},
   "outputs": [],
   "source": [
    "# start your code here\n",
    "# append 'Hello' to my_list_2\n",
    "my_list_2.append(\"Hello\")"
   ]
  },
  {
   "cell_type": "code",
   "execution_count": 13,
   "id": "f7752ec8",
   "metadata": {},
   "outputs": [
    {
     "name": "stdout",
     "output_type": "stream",
     "text": [
      "my_list_1 = [1, 2, 3, 'Hello']\n",
      "my_list_2 = [1, 2, 3, 'Hello']\n",
      "my_list_3 = [1, 2, 3, 4]\n"
     ]
    }
   ],
   "source": [
    "# run this cell\n",
    "print(\"my_list_1 =\", my_list_1)\n",
    "print(\"my_list_2 =\", my_list_2)\n",
    "print(\"my_list_3 =\", my_list_3)"
   ]
  },
  {
   "cell_type": "markdown",
   "id": "ac3ba674",
   "metadata": {},
   "source": [
    "- Do `my_list_3` change?\n",
    "- Do `my_list_2` change?\n",
    "- Do `my_list_1` change?\n",
    "- Is it surprising?\n",
    "- The `my_list_2` and `my_list_3` are both created from `my_list_1`. What is the difference between these two?"
   ]
  },
  {
   "cell_type": "markdown",
   "id": "f09cef6a",
   "metadata": {},
   "source": [
    "**Answer:**"
   ]
  },
  {
   "cell_type": "markdown",
   "id": "fa4270cc",
   "metadata": {},
   "source": [
    "#### Exe 3: working with lists\n",
    "\n",
    "In this exercise, we will learn what we can do with lists methods"
   ]
  },
  {
   "cell_type": "code",
   "execution_count": 14,
   "id": "57919d4c",
   "metadata": {},
   "outputs": [],
   "source": [
    "scientists = [\n",
    "    [1, 2, 3, 4, 5, 6],\n",
    "    ['Einstein', 'Molana', 'Newton', 'Planck', 'Sina', 'Khayyam'],\n",
    "    ['German', 'Iranian', 'British', 'German', 'Iranian', 'Iranian'],\n",
    "]"
   ]
  },
  {
   "cell_type": "markdown",
   "id": "f7021f45",
   "metadata": {},
   "source": [
    "What is the length of `scientists` list"
   ]
  },
  {
   "cell_type": "code",
   "execution_count": 15,
   "id": "6cddd14e",
   "metadata": {},
   "outputs": [
    {
     "data": {
      "text/plain": [
       "3"
      ]
     },
     "execution_count": 15,
     "metadata": {},
     "output_type": "execute_result"
    }
   ],
   "source": [
    "# start your code here\n",
    "len(scientists)"
   ]
  },
  {
   "cell_type": "markdown",
   "id": "4ffd2ff3",
   "metadata": {},
   "source": [
    "The `scientists` list is a nested lists.     \n",
    "What is lenght of each of the lists inside `scientists` list?"
   ]
  },
  {
   "cell_type": "code",
   "execution_count": 16,
   "id": "44d6f676",
   "metadata": {},
   "outputs": [
    {
     "data": {
      "text/plain": [
       "6"
      ]
     },
     "execution_count": 16,
     "metadata": {},
     "output_type": "execute_result"
    }
   ],
   "source": [
    "# start your code here\n",
    "# lenght of first list\n",
    "len(scientists[0])"
   ]
  },
  {
   "cell_type": "code",
   "execution_count": 17,
   "id": "ad802b76",
   "metadata": {},
   "outputs": [
    {
     "data": {
      "text/plain": [
       "6"
      ]
     },
     "execution_count": 17,
     "metadata": {},
     "output_type": "execute_result"
    }
   ],
   "source": [
    "# start your code here\n",
    "# lenght of second list\n",
    "len(scientists[1])"
   ]
  },
  {
   "cell_type": "code",
   "execution_count": 18,
   "id": "92d12406",
   "metadata": {},
   "outputs": [
    {
     "data": {
      "text/plain": [
       "6"
      ]
     },
     "execution_count": 18,
     "metadata": {},
     "output_type": "execute_result"
    }
   ],
   "source": [
    "# start your code here\n",
    "# lenght of third list\n",
    "len(scientists[2])"
   ]
  },
  {
   "cell_type": "markdown",
   "id": "29cb7b58",
   "metadata": {},
   "source": [
    "the `scientists` list has `Molana` in its second list, but `Molana` was not a scientist. We need to `remove` Molana from this list.\n",
    "\n",
    "\n",
    "You need to the followings:\n",
    "- Find the index where `Molana` appears in second list nested inside `scientists` list.\n",
    "- Store the index in variable called `removable_index`.\n",
    "\n",
    "\n",
    "- Remove `Molana` from second list of `scientists` list using `.remove` method.\n",
    "- _Hint_: You need to use `.remove` method for second list of `scientists` list, not the `scientists` list itself.\n",
    "- _Hint_: Use Shift + Tab in keyboard to seed how the `.remove` method works\n",
    "\n",
    "- Remove the item at `removable_index` from first and third nested lists of `scientists`. You need to use `.pop` method of list"
   ]
  },
  {
   "cell_type": "code",
   "execution_count": 19,
   "id": "e6eb5da8",
   "metadata": {},
   "outputs": [],
   "source": [
    "# start your code here\n",
    "# Find the index where `Molana` appears \n",
    "# in second list nested inside `scientists` list.\n",
    "# Store the index in variable called `removable_index`.\n",
    "removable_index = scientists[1].index(\"Molana\")"
   ]
  },
  {
   "cell_type": "code",
   "execution_count": 20,
   "id": "f8071484",
   "metadata": {},
   "outputs": [
    {
     "data": {
      "text/plain": [
       "1"
      ]
     },
     "execution_count": 20,
     "metadata": {},
     "output_type": "execute_result"
    }
   ],
   "source": [
    "# run this cell\n",
    "removable_index"
   ]
  },
  {
   "cell_type": "code",
   "execution_count": 21,
   "id": "3b3681a4",
   "metadata": {},
   "outputs": [],
   "source": [
    "# start your code here\n",
    "# Remove `Molana` from second list of `scientists` list using `.remove` method.\n",
    "scientists[1].remove(\"Molana\")"
   ]
  },
  {
   "cell_type": "code",
   "execution_count": 22,
   "id": "9ba2830e",
   "metadata": {},
   "outputs": [
    {
     "data": {
      "text/plain": [
       "'Iranian'"
      ]
     },
     "execution_count": 22,
     "metadata": {},
     "output_type": "execute_result"
    }
   ],
   "source": [
    "# start your code here\n",
    "# Remove the item at removable_index from first and third nested lists\n",
    "# of `scientists`. You need to use `.pop` method of list\n",
    "scientists[0].pop(removable_index)\n",
    "scientists[2].pop(removable_index)"
   ]
  },
  {
   "cell_type": "code",
   "execution_count": 23,
   "id": "14e410d0",
   "metadata": {},
   "outputs": [
    {
     "data": {
      "text/plain": [
       "[[1, 3, 4, 5, 6],\n",
       " ['Einstein', 'Newton', 'Planck', 'Sina', 'Khayyam'],\n",
       " ['German', 'British', 'German', 'Iranian', 'Iranian']]"
      ]
     },
     "execution_count": 23,
     "metadata": {},
     "output_type": "execute_result"
    }
   ],
   "source": [
    "# run this cell\n",
    "scientists"
   ]
  },
  {
   "cell_type": "markdown",
   "id": "47e680bb",
   "metadata": {},
   "source": [
    "How many Iranina scientists are in the list?\n",
    "\n",
    "Use `.count` method to answert this question"
   ]
  },
  {
   "cell_type": "code",
   "execution_count": 24,
   "id": "b7b4a61c",
   "metadata": {},
   "outputs": [
    {
     "data": {
      "text/plain": [
       "2"
      ]
     },
     "execution_count": 24,
     "metadata": {},
     "output_type": "execute_result"
    }
   ],
   "source": [
    "# start your code here\n",
    "# count the number of Iranian scientists\n",
    "scientists[2].count(\"Iranian\")"
   ]
  },
  {
   "cell_type": "markdown",
   "id": "4deac4e1",
   "metadata": {},
   "source": [
    "Get a **shallow copy** of names of scientist in new list called `scientists_names`"
   ]
  },
  {
   "cell_type": "code",
   "execution_count": 25,
   "id": "c5601600",
   "metadata": {},
   "outputs": [],
   "source": [
    "# start your code here\n",
    "# get a shallow copy of the names of scientists\n",
    "scientists_names = scientists[1][:]"
   ]
  },
  {
   "cell_type": "code",
   "execution_count": 26,
   "id": "dc2e618f",
   "metadata": {},
   "outputs": [
    {
     "data": {
      "text/plain": [
       "['Einstein', 'Newton', 'Planck', 'Sina', 'Khayyam']"
      ]
     },
     "execution_count": 26,
     "metadata": {},
     "output_type": "execute_result"
    }
   ],
   "source": [
    "# run this cell\n",
    "scientists_names"
   ]
  },
  {
   "cell_type": "markdown",
   "id": "c945f2ae",
   "metadata": {},
   "source": [
    "Sort the names of scientists in `scientists_names` alphabetically.      \n",
    "\n",
    "You need to use `.sort` method"
   ]
  },
  {
   "cell_type": "code",
   "execution_count": 27,
   "id": "9f8a01c7",
   "metadata": {},
   "outputs": [],
   "source": [
    "# start your code here\n",
    "# sort the scientists_names list to have\n",
    "# the names of scientists in alphabetical order\n",
    "scientists_names.sort()"
   ]
  },
  {
   "cell_type": "code",
   "execution_count": 28,
   "id": "fdd29c21",
   "metadata": {},
   "outputs": [
    {
     "data": {
      "text/plain": [
       "['Einstein', 'Khayyam', 'Newton', 'Planck', 'Sina']"
      ]
     },
     "execution_count": 28,
     "metadata": {},
     "output_type": "execute_result"
    }
   ],
   "source": [
    "# run this cell\n",
    "scientists_names"
   ]
  },
  {
   "cell_type": "markdown",
   "id": "7cf295ee",
   "metadata": {},
   "source": [
    "#### Exe 4: Strings and lists together\n",
    "\n",
    "In this exercise, we will learn about `.split` method of strings. We will use both `str` and `list` data types.\n",
    "\n",
    "Let's define a string which contains peom by Saadi:"
   ]
  },
  {
   "cell_type": "code",
   "execution_count": 29,
   "id": "68bdc783",
   "metadata": {},
   "outputs": [],
   "source": [
    "saadi_poem = \"\"\"عشق و درویشی و انگشت نمایی و ملامت\n",
    "همه سهلست تحمل نکنم بار جدایی\n",
    "روز صحرا و سماعست و لب جوی و تماشا\n",
    "در همه شهر دلی نیست که دیگر بربایی\n",
    "گفته بودم چو بیایی غم دل با تو بگویم\n",
    "چه بگویم که غم از دل برود چون تو بیایی\n",
    "شمع را باید از این خانه به دربردن و کشتن\n",
    "تا به همسایه نگوید که تو در خانه مایی\n",
    "سعدی آن نیست که هرگز ز کمندت بگریزد\n",
    "که بدانست که دربند تو خوشتر که رهایی\"\"\""
   ]
  },
  {
   "cell_type": "markdown",
   "id": "071d3a72",
   "metadata": {},
   "source": [
    "Use `.split` method of *string* data types to split the `saadi_poem` based on the occurence of the `\\n` character. Store the result in `saadi_poem_splitted` variable."
   ]
  },
  {
   "cell_type": "code",
   "execution_count": 30,
   "id": "ac8bfc67",
   "metadata": {},
   "outputs": [],
   "source": [
    "# start your code here\n",
    "# split the saadi_poem by '\\n' chracter and \n",
    "# store the result in saadi_poem_splitted variable\n",
    "saadi_poem_splitted = saadi_poem.split(\"\\n\")"
   ]
  },
  {
   "cell_type": "code",
   "execution_count": 31,
   "id": "55487971",
   "metadata": {},
   "outputs": [
    {
     "data": {
      "text/plain": [
       "['عشق و درویشی و انگشت نمایی و ملامت',\n",
       " 'همه سهلست تحمل نکنم بار جدایی',\n",
       " 'روز صحرا و سماعست و لب جوی و تماشا',\n",
       " 'در همه شهر دلی نیست که دیگر بربایی',\n",
       " 'گفته بودم چو بیایی غم دل با تو بگویم',\n",
       " 'چه بگویم که غم از دل برود چون تو بیایی',\n",
       " 'شمع را باید از این خانه به دربردن و کشتن',\n",
       " 'تا به همسایه نگوید که تو در خانه مایی',\n",
       " 'سعدی آن نیست که هرگز ز کمندت بگریزد',\n",
       " 'که بدانست که دربند تو خوشتر که رهایی']"
      ]
     },
     "execution_count": 31,
     "metadata": {},
     "output_type": "execute_result"
    }
   ],
   "source": [
    "# run this cell\n",
    "saadi_poem_splitted"
   ]
  },
  {
   "cell_type": "markdown",
   "id": "45a9f1b9",
   "metadata": {},
   "source": [
    "What is the type of `saadi_poem_splitted`?"
   ]
  },
  {
   "cell_type": "code",
   "execution_count": 32,
   "id": "8c7e3b31",
   "metadata": {},
   "outputs": [
    {
     "data": {
      "text/plain": [
       "list"
      ]
     },
     "execution_count": 32,
     "metadata": {},
     "output_type": "execute_result"
    }
   ],
   "source": [
    "# start your code here\n",
    "type(saadi_poem_splitted)"
   ]
  },
  {
   "cell_type": "markdown",
   "id": "8dc463de",
   "metadata": {},
   "source": [
    "چند مصرع در این شعر وجود دارد؟\n",
    "\n",
    "How many hemistich are there in this peom has?\n",
    "\n",
    "You need to use appropriate method of list objects to find this."
   ]
  },
  {
   "cell_type": "code",
   "execution_count": 33,
   "id": "52903c57",
   "metadata": {},
   "outputs": [
    {
     "data": {
      "text/plain": [
       "10"
      ]
     },
     "execution_count": 33,
     "metadata": {},
     "output_type": "execute_result"
    }
   ],
   "source": [
    "# start your code here\n",
    "# find the number of hemistich in the poem\n",
    "len(saadi_poem_splitted)"
   ]
  },
  {
   "cell_type": "markdown",
   "id": "27fca2f9",
   "metadata": {},
   "source": [
    "### Congratulations!\n",
    "You finished the first assignment and now you are ready for your next step in Python journey."
   ]
  },
  {
   "cell_type": "code",
   "execution_count": null,
   "id": "5257dd2a",
   "metadata": {},
   "outputs": [],
   "source": []
  }
 ],
 "metadata": {
  "kernelspec": {
   "display_name": "Python 3",
   "language": "python",
   "name": "python3"
  },
  "language_info": {
   "codemirror_mode": {
    "name": "ipython",
    "version": 3
   },
   "file_extension": ".py",
   "mimetype": "text/x-python",
   "name": "python",
   "nbconvert_exporter": "python",
   "pygments_lexer": "ipython3",
   "version": "3.9.5"
  }
 },
 "nbformat": 4,
 "nbformat_minor": 5
}
