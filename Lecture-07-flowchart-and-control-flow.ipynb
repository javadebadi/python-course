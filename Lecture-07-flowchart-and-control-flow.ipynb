{
 "cells": [
  {
   "cell_type": "markdown",
   "id": "aab020ec",
   "metadata": {},
   "source": [
    "## Flowchart\n",
    "\n",
    "A flowchart is a type of diagram that represents a workflow or process. A flowchart can also be defined as a diagrammatic representation of an algorithm, a step-by-step approach to solving a task.\n",
    "\n",
    "look at https://en.wikipedia.org/wiki/Flowchart for more information.\n",
    "\n",
    "<table class=\"wikitable\">\n",
    "\n",
    "<tbody><tr>\n",
    "<th>ANSI/ISO Shape\n",
    "</th>\n",
    "<th>Name\n",
    "</th>\n",
    "<th>Description\n",
    "</th></tr>\n",
    "<tr>\n",
    "<td style=\"text-align: center;\"><a href=\"/wiki/File:Flowchart_Line.svg\" class=\"image\"><img alt=\"Flowchart Line.svg\" src=\"//upload.wikimedia.org/wikipedia/commons/thumb/6/6c/Flowchart_Line.svg/100px-Flowchart_Line.svg.png\" decoding=\"async\" width=\"100\" height=\"19\" srcset=\"//upload.wikimedia.org/wikipedia/commons/thumb/6/6c/Flowchart_Line.svg/150px-Flowchart_Line.svg.png 1.5x, //upload.wikimedia.org/wikipedia/commons/thumb/6/6c/Flowchart_Line.svg/200px-Flowchart_Line.svg.png 2x\" data-file-width=\"320\" data-file-height=\"60\"></a>\n",
    "</td>\n",
    "<td style=\"text-align: center;\">Flowline (Arrowhead)\n",
    "</td>\n",
    "<td>Shows the process's order of operation. A line coming from one symbol and pointing at another. Arrowheads are added if the flow is not the standard top-to-bottom, left-to right.\n",
    "</td></tr>\n",
    "<tr>\n",
    "<td style=\"text-align: center;\"><a href=\"/wiki/File:Flowchart_Terminal.svg\" class=\"image\"><img alt=\"Flowchart Terminal.svg\" src=\"//upload.wikimedia.org/wikipedia/commons/thumb/a/ad/Flowchart_Terminal.svg/100px-Flowchart_Terminal.svg.png\" decoding=\"async\" width=\"100\" height=\"50\" srcset=\"//upload.wikimedia.org/wikipedia/commons/thumb/a/ad/Flowchart_Terminal.svg/150px-Flowchart_Terminal.svg.png 1.5x, //upload.wikimedia.org/wikipedia/commons/thumb/a/ad/Flowchart_Terminal.svg/200px-Flowchart_Terminal.svg.png 2x\" data-file-width=\"320\" data-file-height=\"160\"></a>\n",
    "</td>\n",
    "<td style=\"text-align: center;\">Terminal\n",
    "</td>\n",
    "<td>Indicates the beginning and ending of a program or sub-process. They usually contain the word \"Start\" or \"End\", or another phrase signaling the start or end of a process, such as \"submit inquiry\" or \"receive product\".\n",
    "</td></tr>\n",
    "<tr>\n",
    "<td style=\"text-align: center;\"><a href=\"/wiki/File:Flowchart_Process.svg\" class=\"image\"><img alt=\"Flowchart Process.svg\" src=\"//upload.wikimedia.org/wikipedia/commons/thumb/7/7e/Flowchart_Process.svg/100px-Flowchart_Process.svg.png\" decoding=\"async\" width=\"100\" height=\"50\" srcset=\"//upload.wikimedia.org/wikipedia/commons/thumb/7/7e/Flowchart_Process.svg/150px-Flowchart_Process.svg.png 1.5x, //upload.wikimedia.org/wikipedia/commons/thumb/7/7e/Flowchart_Process.svg/200px-Flowchart_Process.svg.png 2x\" data-file-width=\"320\" data-file-height=\"160\"></a>\n",
    "</td>\n",
    "<td style=\"text-align: center;\">Process\n",
    "</td>\n",
    "<td>Represents a set of operations that changes value, form, or location of data.\n",
    "</td></tr>\n",
    "<tr>\n",
    "<td style=\"text-align: center;\"><a href=\"/wiki/File:Flowchart_Decision.svg\" class=\"image\"><img alt=\"Flowchart Decision.svg\" src=\"//upload.wikimedia.org/wikipedia/commons/thumb/0/0e/Flowchart_Decision.svg/100px-Flowchart_Decision.svg.png\" decoding=\"async\" width=\"100\" height=\"75\" srcset=\"//upload.wikimedia.org/wikipedia/commons/thumb/0/0e/Flowchart_Decision.svg/150px-Flowchart_Decision.svg.png 1.5x, //upload.wikimedia.org/wikipedia/commons/thumb/0/0e/Flowchart_Decision.svg/200px-Flowchart_Decision.svg.png 2x\" data-file-width=\"320\" data-file-height=\"240\"></a>\n",
    "</td>\n",
    "<td style=\"text-align: center;\">Decision\n",
    "</td>\n",
    "<td>Shows a conditional operation that determines which one of the two paths the program will take. The operation is commonly a yes/no question or true/false test. Represented as a diamond.\n",
    "</td></tr>\n",
    "<tr>\n",
    "<td style=\"text-align: center;\"><a href=\"/wiki/File:Flowchart_IO.svg\" class=\"image\"><img alt=\"Flowchart IO.svg\" src=\"//upload.wikimedia.org/wikipedia/commons/thumb/f/f4/Flowchart_IO.svg/100px-Flowchart_IO.svg.png\" decoding=\"async\" width=\"100\" height=\"50\" srcset=\"//upload.wikimedia.org/wikipedia/commons/thumb/f/f4/Flowchart_IO.svg/150px-Flowchart_IO.svg.png 1.5x, //upload.wikimedia.org/wikipedia/commons/thumb/f/f4/Flowchart_IO.svg/200px-Flowchart_IO.svg.png 2x\" data-file-width=\"320\" data-file-height=\"160\"></a>\n",
    "</td>\n",
    "<td style=\"text-align: center;\">Input/Output\n",
    "</td>\n",
    "<td>Indicates the process of inputting and outputting data, as in entering data or displaying results. Represented as a <a href=\"/wiki/Rhomboid\" title=\"Rhomboid\">rhomboid</a>.\n",
    "</td></tr>\n",
    "<tr>\n",
    "<td style=\"text-align: center;\"><a href=\"/wiki/File:Flowchart_Annotation.svg\" class=\"image\"><img alt=\"Flowchart Annotation.svg\" src=\"//upload.wikimedia.org/wikipedia/commons/thumb/e/e3/Flowchart_Annotation.svg/100px-Flowchart_Annotation.svg.png\" decoding=\"async\" width=\"100\" height=\"50\" srcset=\"//upload.wikimedia.org/wikipedia/commons/thumb/e/e3/Flowchart_Annotation.svg/150px-Flowchart_Annotation.svg.png 1.5x, //upload.wikimedia.org/wikipedia/commons/thumb/e/e3/Flowchart_Annotation.svg/200px-Flowchart_Annotation.svg.png 2x\" data-file-width=\"320\" data-file-height=\"160\"></a>\n",
    "</td>\n",
    "<td style=\"text-align: center;\">Annotation (Comment)\n",
    "</td>\n",
    "<td>Indicating additional information about a step in the program. Represented as an open rectangle with a dashed or solid line connecting it to the corresponding symbol in the flowchart.\n",
    "</td></tr>\n",
    "<tr>\n",
    "<td style=\"text-align: center;\"><a href=\"/wiki/File:Flowchart_Predefined_Process.svg\" class=\"image\"><img alt=\"Flowchart Predefined Process.svg\" src=\"//upload.wikimedia.org/wikipedia/commons/thumb/7/74/Flowchart_Predefined_Process.svg/100px-Flowchart_Predefined_Process.svg.png\" decoding=\"async\" width=\"100\" height=\"50\" srcset=\"//upload.wikimedia.org/wikipedia/commons/thumb/7/74/Flowchart_Predefined_Process.svg/150px-Flowchart_Predefined_Process.svg.png 1.5x, //upload.wikimedia.org/wikipedia/commons/thumb/7/74/Flowchart_Predefined_Process.svg/200px-Flowchart_Predefined_Process.svg.png 2x\" data-file-width=\"320\" data-file-height=\"160\"></a>\n",
    "</td>\n",
    "<td style=\"text-align: center;\">Predefined Process\n",
    "</td>\n",
    "<td>Shows named process which is defined elsewhere. Represented as a rectangle with double-struck vertical edges.\n",
    "</td></tr>\n",
    "<tr>\n",
    "<td style=\"text-align: center;\"><a href=\"/wiki/File:Flowchart_Connector.svg\" class=\"image\"><img alt=\"Flowchart Connector.svg\" src=\"//upload.wikimedia.org/wikipedia/commons/thumb/8/8e/Flowchart_Connector.svg/50px-Flowchart_Connector.svg.png\" decoding=\"async\" width=\"50\" height=\"50\" srcset=\"//upload.wikimedia.org/wikipedia/commons/thumb/8/8e/Flowchart_Connector.svg/75px-Flowchart_Connector.svg.png 1.5x, //upload.wikimedia.org/wikipedia/commons/thumb/8/8e/Flowchart_Connector.svg/100px-Flowchart_Connector.svg.png 2x\" data-file-width=\"160\" data-file-height=\"160\"></a>\n",
    "</td>\n",
    "<td style=\"text-align: center;\">On-page Connector\n",
    "</td>\n",
    "<td>Pairs of labeled connectors replace long or confusing lines on a flowchart page. Represented by a small circle with a letter inside.\n",
    "</td></tr>\n",
    "<tr>\n",
    "<td style=\"text-align: center;\"><a href=\"/wiki/File:Off_page_connector.png\" class=\"image\"><img alt=\"Off page connector.png\" src=\"//upload.wikimedia.org/wikipedia/commons/thumb/4/44/Off_page_connector.png/50px-Off_page_connector.png\" decoding=\"async\" width=\"50\" height=\"49\" srcset=\"//upload.wikimedia.org/wikipedia/commons/thumb/4/44/Off_page_connector.png/75px-Off_page_connector.png 1.5x, //upload.wikimedia.org/wikipedia/commons/4/44/Off_page_connector.png 2x\" data-file-width=\"77\" data-file-height=\"75\"></a>\n",
    "</td>\n",
    "<td style=\"text-align: center;\">Off-page Connector\n",
    "</td>\n",
    "<td>A labeled connector for use when the target is on another page. Represented as a <a href=\"/wiki/Baseball_field#Home_plate\" title=\"Baseball field\">home plate</a>-shaped <a href=\"/wiki/Pentagon\" title=\"Pentagon\">pentagon</a>.\n",
    "</td></tr></tbody></table>"
   ]
  },
  {
   "cell_type": "markdown",
   "id": "656e7aa2",
   "metadata": {},
   "source": [
    "### Flow chart with input and process\n",
    "\n",
    "\n",
    "<img src=\"./images/flow-chart-example-1-2.png\" width=400>"
   ]
  },
  {
   "cell_type": "code",
   "execution_count": 1,
   "id": "72b65c52",
   "metadata": {},
   "outputs": [
    {
     "name": "stdout",
     "output_type": "stream",
     "text": [
      "Please enter your age:30\n"
     ]
    }
   ],
   "source": [
    "# Flowchart example 1 : start - input - end\n",
    "age = input(\"Please enter your age:\")"
   ]
  },
  {
   "cell_type": "code",
   "execution_count": 2,
   "id": "2b46e9c2",
   "metadata": {},
   "outputs": [
    {
     "name": "stdout",
     "output_type": "stream",
     "text": [
      "Please enter your age:25\n"
     ]
    }
   ],
   "source": [
    "# Flowchart example 2 : start - input - process - end\n",
    "age = input(\"Please enter your age:\")\n",
    "decade = int(age) // 10"
   ]
  },
  {
   "cell_type": "markdown",
   "id": "27ed4261",
   "metadata": {},
   "source": [
    "### Flow chart with decision\n",
    "\n",
    "<img src=\"./images/flow-chart-example-3.png\" width=600>"
   ]
  },
  {
   "cell_type": "code",
   "execution_count": 3,
   "id": "19816d0c",
   "metadata": {},
   "outputs": [
    {
     "name": "stdout",
     "output_type": "stream",
     "text": [
      "Please enter your age:10\n",
      "age_status =  young\n"
     ]
    }
   ],
   "source": [
    "# Flowchart example 3 : start - input - process - decision - process - end\n",
    "age = input(\"Please enter your age:\")\n",
    "decade = int(age) // 10\n",
    "\n",
    "if decade >= 4:\n",
    "    age_status = \"old\"\n",
    "    print(\"age_status = \", age_status)\n",
    "else:\n",
    "    age_status = \"young\"\n",
    "    print(\"age_status = \", age_status)"
   ]
  },
  {
   "cell_type": "markdown",
   "id": "ec7eb78d",
   "metadata": {},
   "source": [
    "<img src=\"./images/flow-chart-example-3.1.png\" width=600>"
   ]
  },
  {
   "cell_type": "code",
   "execution_count": 4,
   "id": "45e3c23f",
   "metadata": {},
   "outputs": [
    {
     "name": "stdout",
     "output_type": "stream",
     "text": [
      "Please enter your age:15\n"
     ]
    }
   ],
   "source": [
    "# Flowchart example 3.1 : start - input - process - decision - process - end\n",
    "age = input(\"Please enter your age:\")\n",
    "decade = int(age) // 10\n",
    "\n",
    "if decade >= 4:\n",
    "    age_status = \"old\"\n",
    "    print(\"age_status = \", age_status)"
   ]
  },
  {
   "cell_type": "markdown",
   "id": "773f1311",
   "metadata": {},
   "source": [
    "<img src=\"./images/flow-chart-example-4-copy.png\" width=800>"
   ]
  },
  {
   "cell_type": "code",
   "execution_count": 7,
   "id": "8a654f4e",
   "metadata": {},
   "outputs": [
    {
     "name": "stdout",
     "output_type": "stream",
     "text": [
      "Please enter your age:50\n",
      "age_status =  old\n"
     ]
    }
   ],
   "source": [
    "# Flowchart example 4: start - input - process - decision - decision - process - end\n",
    "# solution 1: using nested if\n",
    "\n",
    "age = input(\"Please enter your age:\")\n",
    "decade = int(age) // 10\n",
    "\n",
    "if decade >= 4:\n",
    "    age_status = \"old\"\n",
    "    print(\"age_status = \", age_status)\n",
    "else:\n",
    "    if decade < 1:\n",
    "        age_status = \"kid\"\n",
    "        print(\"age_status = \", age_status)\n",
    "    else:\n",
    "        age_status = \"young\"\n",
    "        print(\"age_status = \", age_status)"
   ]
  },
  {
   "cell_type": "code",
   "execution_count": 12,
   "id": "c0fbe1dd",
   "metadata": {},
   "outputs": [
    {
     "name": "stdout",
     "output_type": "stream",
     "text": [
      "Please enter your age:60\n",
      "age_status =  old\n"
     ]
    }
   ],
   "source": [
    "# Flowchart example 4: start - input - process - decision - decision - process - end\n",
    "# solution 1: using elif\n",
    "\n",
    "age = input(\"Please enter your age:\")\n",
    "decade = int(age) // 10\n",
    "\n",
    "if decade >= 4:\n",
    "    age_status = \"old\"\n",
    "    print(\"age_status = \", age_status)\n",
    "elif decade < 1 :\n",
    "    age_status = \"kid\"\n",
    "    print(\"age_status = \", age_status)\n",
    "else:\n",
    "    age_status = \"young\"\n",
    "    print(\"age_status = \", age_status)"
   ]
  }
 ],
 "metadata": {
  "kernelspec": {
   "display_name": "Python 3",
   "language": "python",
   "name": "python3"
  },
  "language_info": {
   "codemirror_mode": {
    "name": "ipython",
    "version": 3
   },
   "file_extension": ".py",
   "mimetype": "text/x-python",
   "name": "python",
   "nbconvert_exporter": "python",
   "pygments_lexer": "ipython3",
   "version": "3.9.5"
  }
 },
 "nbformat": 4,
 "nbformat_minor": 5
}
