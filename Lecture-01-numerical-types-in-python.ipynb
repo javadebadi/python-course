{
 "cells": [
  {
   "cell_type": "markdown",
   "metadata": {},
   "source": [
    "<div style=\"display: grid;\n",
    "  grid-template-columns: auto auto auto;\n",
    "  background-color: #2196F3;\n",
    "  padding: 10px;\">\n",
    "  <div style=\"background-color: rgba(255, 255, 255, 0.8);\n",
    "  border: 1px solid rgba(0, 0, 0, 0.8);\n",
    "  padding: 10px 10px 20px;\n",
    "  display:flex; justify-content: space-between;\"><div style=\"text-aling:left; width:80%\"><h1>Lecture 01: Numerical types in Python</h1></div><div style=\"text-align:right;width:20%;font-size: 10px;\">Date: 6/17/2021</div></div>\n",
    "  <div style=\"background-color: rgba(255, 255, 255, 0.8);\n",
    "  border: 1px solid rgba(0, 0, 0, 0.8);\n",
    "  padding: 10px;\n",
    "  font-size: 16px;text-align: left;\"><p>Author: Javad Ebadi</p></div>\n",
    "  <div style=\"background-color: rgba(255, 255, 255, 0.8);\n",
    "  border: 1px solid rgba(0, 0, 0, 0.8);\n",
    "  padding: 10px;\n",
    "  font-size: 14px;\n",
    "              text-align: left;\"><p>contact: javad.ebadi.1990@gmail.com, Telegram: <a href=\"https://t.me/javadebadi1990\">@javadebadi1990</a>, GitHub: javadebadi</p></div>\n",
    "  <div style=\"background-color: rgba(255, 255, 255, 0.8);\n",
    "  border: 1px solid rgba(0, 0, 0, 0.8);\n",
    "  padding: 10px;\n",
    "  font-size: 14px;\n",
    "              text-align: left;\"><p>\n",
    "      Table of Contents</p>\n",
    "      <ul>\n",
    "    <li><a href=\"#intro\">Introduction</a></li>\n",
    "    <li><a href=\"#int\">int</a></li>\n",
    "    <li><a href=\"#float\">float</a></li>\n",
    "</ul>\n",
    "      <hr>\n",
    "      <b> Expected time to complete this notebook: 1 hour</b>\n",
    "</div>\n",
    "</div>\n",
    "\n",
    "\n",
    "\n",
    "    "
   ]
  },
  {
   "cell_type": "markdown",
   "metadata": {},
   "source": [
    "## Introduction <a id=\"intro\"></a>\n",
    "\n",
    "In mathematics we usually use many kind of numbers. Most commonly used numbers are as follows:\n",
    "\n",
    "1. Natural Numbers: $\\mathbb{N} = \\{1, 2, 3, ...\\}$\n",
    "2. Integers: $\\mathbb{Z} = \\{..., -2, -1, 0, 1, 2, ...\\}$ \n",
    "3. Rational Numbers: ${\\mathbb{Q}} = \\{\\frac{a}{b} | \\quad a,b \\in \\mathbb{Z}~\\text{and}~b\\neq 0 \\}$. Examples are:\n",
    "$1$, $1.5$, $-2.75$, $5/2$,\n",
    "4. Real Numbers: $\\mathbb{R}$ are any numbers in real line such as $1$, $1.5$, $-2.75$, $5/2$, $\\pi$, $\\sqrt{2}$\n",
    "5. Irrational Numbers: ${\\mathbb{Q}^c}$ any real number which is not a rational number such as  $\\pi$, $\\sqrt{2}$\n",
    "6. Complex Numbers $\\mathbb{C} = \\{a + b i|~a,b\\in\\mathbb{R}\\}$ where $i$ is a special number such that $i^2 = {-1}$. Examples are: $i$, $1 + i$, $5$, $\\sqrt{2} + \\sqrt{3}i$, $\\pi + 2.5 i$\n",
    "\n",
    "Those are formal definitions, but usually in programming we do not need to know the formal defintion. The only information you need to know in Python programming are show in below table:\n",
    "\n",
    "\n",
    "|Number Set (Mathematics)| Python Data Type  | Examples  |\n",
    "|---|---|---|\n",
    "| $\\mathbb{Z}$  |`int`|  1, 2, -10, 0 |\n",
    "| $\\mathbb{R}$  |`float`|  1.0, 2.5, -10.0, 0.0, 3.14156294 |\n",
    "\n",
    "In this table, we only write the `int` and `float` data types, because we will use these numbers during this course and they are widely used in most of the applications. However, Python has other data types for numbers such as `Fraction` and `Decmial` and `Complex` in case you needed."
   ]
  },
  {
   "cell_type": "markdown",
   "metadata": {},
   "source": [
    "## int <a id='int'></a>\n",
    "\n",
    "Python's `int` data type corresponds to integer number in mathematics. We can add (`+`), subtract, (`-`), multiply, (`*`) , divide (`/`) and floor divdie(`//`) these numbers.\n",
    "\n",
    "Let's see some examples"
   ]
  },
  {
   "cell_type": "code",
   "execution_count": null,
   "metadata": {},
   "outputs": [],
   "source": [
    "1"
   ]
  },
  {
   "cell_type": "code",
   "execution_count": null,
   "metadata": {},
   "outputs": [],
   "source": [
    "1 + 1"
   ]
  },
  {
   "cell_type": "code",
   "execution_count": null,
   "metadata": {},
   "outputs": [],
   "source": [
    "1 * 1"
   ]
  },
  {
   "cell_type": "code",
   "execution_count": null,
   "metadata": {},
   "outputs": [],
   "source": [
    "1 / 1"
   ]
  },
  {
   "cell_type": "code",
   "execution_count": null,
   "metadata": {},
   "outputs": [],
   "source": [
    "1 // 1"
   ]
  },
  {
   "cell_type": "markdown",
   "metadata": {},
   "source": [
    "> Question: What is the difference between `1 / 1` and `1 // 1`?\n",
    "\n",
    "Everything in Python is an **Object** and every object have a **type**. The `type` function in Python returns type of an object in Python."
   ]
  },
  {
   "cell_type": "code",
   "execution_count": null,
   "metadata": {},
   "outputs": [],
   "source": [
    "type(1 / 1)"
   ]
  },
  {
   "cell_type": "code",
   "execution_count": null,
   "metadata": {},
   "outputs": [],
   "source": [
    "type(1 // 1)"
   ]
  },
  {
   "cell_type": "markdown",
   "metadata": {},
   "source": [
    "## float <a id=\"float\"></a>"
   ]
  },
  {
   "cell_type": "code",
   "execution_count": null,
   "metadata": {},
   "outputs": [],
   "source": []
  }
 ],
 "metadata": {
  "kernelspec": {
   "display_name": "Python 3",
   "language": "python",
   "name": "python3"
  },
  "language_info": {
   "codemirror_mode": {
    "name": "ipython",
    "version": 3
   },
   "file_extension": ".py",
   "mimetype": "text/x-python",
   "name": "python",
   "nbconvert_exporter": "python",
   "pygments_lexer": "ipython3",
   "version": "3.8.5"
  }
 },
 "nbformat": 4,
 "nbformat_minor": 4
}
