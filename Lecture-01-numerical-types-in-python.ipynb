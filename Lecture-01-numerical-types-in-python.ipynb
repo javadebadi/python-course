{
 "cells": [
  {
   "cell_type": "markdown",
   "metadata": {},
   "source": [
    "<div style=\"display: grid;\n",
    "  grid-template-columns: auto auto auto;\n",
    "  background-color: #AF96F3;\n",
    "  padding: = 7px;\n",
    "            width:100%;\">\n",
    "  <div style=\"background-color: rgba(255, 255, 255, 0.8);\n",
    "  border: 1px solid rgba(0, 0, 0, 0.8);\n",
    "  padding: 10px 10px 20px;\n",
    "  display:flex; justify-content: space-between;\"><div style=\"text-aling:left; width:80%\"><h1>Lecture 01: Numerical types in Python</h1></div><div style=\"text-align:right;width:20%;font-size: 10px;\">Date: 6/17/2021</div></div>\n",
    "  <div style=\"background-color: rgba(255, 255, 255, 0.8);\n",
    "  border: 1px solid rgba(0, 0, 0, 0.8);\n",
    "  padding: 10px;\n",
    "  font-size: 16px;text-align: left;\"><p>Author: Javad Ebadi</p></div>\n",
    "  <div style=\"background-color: rgba(255, 255, 255, 0.8);\n",
    "  border: 1px solid rgba(0, 0, 0, 0.8);\n",
    "  padding: 0px;\n",
    "  font-size: 14px; display:flex; justify-content: space-between;\">\n",
    "      <div style=\"width:33.3%; text-align:left; margin:5px; padding:5px;\"><p>Email: javad.ebadi.1990@gmail.com</div>\n",
    "      <div style=\"width:33.3%; text-align:center; margin:5px; padding:5px;\"><p>Telegram: <a href=\"https://t.me/javadebadi1990\">@javadebadi1990</a></p></div>\n",
    "      <div style=\"width:33.3%; text-align:right; margin:5px; padding:5px;\"><p>GitHub: <a href=\"https://github.com/javadebadi\">javadebadi</a></p></div>\n",
    "   </div>\n",
    "  <div style=\"background-color: rgba(255, 255, 255, 0.8);\n",
    "  border: 1px solid rgba(0, 0, 0, 0.8);\n",
    "  padding: 10px;\n",
    "  font-size: 14px;\n",
    "              text-align: left;\"><p>\n",
    "      Table of Contents</p>\n",
    "      <ul>\n",
    "    <li><a href=\"#intro\">Introduction</a></li>\n",
    "    <li><a href=\"#int\">int</a></li>\n",
    "    <li>\n",
    "        <a href=\"#gs-whitespace\">Google style (whitespace)</a>\n",
    "            <ul>\n",
    "                <li>\n",
    "                    <a href=\"#gs-whitespace-binary-operator\">whitespace around binary operators\n",
    "                    </a>\n",
    "                </li>\n",
    "                <li>\n",
    "                    <a href=\"#gs-whitespace-parenthesis\">whitespace in parenthesis</a>\n",
    "                </li>\n",
    "            </ul>\n",
    "    </li>\n",
    "    <li><a href=\"#float\">float</a></li>\n",
    "    <li><a href=\"#complex\">complex (*optional)</a></li>\n",
    "</ul>\n",
    "      <b> Expected time to complete this notebook: 1 hour</b>\n",
    "</div>\n",
    "</div>\n",
    "\n",
    "\n",
    "\n",
    "    "
   ]
  },
  {
   "cell_type": "markdown",
   "metadata": {},
   "source": [
    "## 1.1 Introduction <a id=\"intro\"></a>\n",
    "\n",
    "In mathematics we usually use many kind of numbers. Most commonly used numbers are as follows:\n",
    "\n",
    "1. Natural Numbers: $\\mathbb{N} = \\{1, 2, 3, ...\\}$\n",
    "2. Integers: $\\mathbb{Z} = \\{..., -2, -1, 0, 1, 2, ...\\}$ \n",
    "3. Rational Numbers: ${\\mathbb{Q}} = \\{\\frac{a}{b} | \\quad a,b \\in \\mathbb{Z}~\\text{and}~b\\neq 0 \\}$. Examples are:\n",
    "$1$, $1.5$, $-2.75$, $5/2$,\n",
    "4. Real Numbers: $\\mathbb{R}$ are any numbers in real line such as $1$, $1.5$, $-2.75$, $5/2$, $\\pi$, $\\sqrt{2}$\n",
    "5. Irrational Numbers: ${\\mathbb{Q}^c}$ any real number which is not a rational number such as  $\\pi$, $\\sqrt{2}$\n",
    "6. Complex Numbers $\\mathbb{C} = \\{a + b i|~a,b\\in\\mathbb{R}\\}$ where $i$ is a special number such that $i^2 = {-1}$. Examples are: $i$, $1 + i$, $5$, $\\sqrt{2} + \\sqrt{3}i$, $\\pi + 2.5 i$\n",
    "\n",
    "Those are formal definitions, but usually in programming we do not need to know the formal defintion. The only information you need to know in Python programming are show in below table:\n",
    "\n",
    "\n",
    "|Number Set (Mathematics)| Python Data Type  | Examples  |\n",
    "|---|---|---|\n",
    "| $\\mathbb{Z}$  |`int`|  1, 2, -10, 0 |\n",
    "| $\\mathbb{R}$  |`float`|  1.0, 2.5, -10.0, 0.0, 3.14156294 |\n",
    "\n",
    "In this table, we only write the `int` and `float` data types, because we will use these numbers during this course and they are widely used in most of the applications. However, Python has other data types for numbers such as `Fraction` and `Decmial` and `Complex` in case you needed."
   ]
  },
  {
   "cell_type": "markdown",
   "metadata": {},
   "source": [
    "## 1.2 int <a id='int'></a>\n",
    "\n",
    "Python's `int` data type corresponds to integer number in mathematics. We can add (`+`), subtract, (`-`), multiply, (`*`) , divide (`/`) and floor divdie(`//`) these numbers.\n",
    "\n",
    "Let's see some examples"
   ]
  },
  {
   "cell_type": "code",
   "execution_count": 1,
   "metadata": {},
   "outputs": [
    {
     "data": {
      "text/plain": [
       "1"
      ]
     },
     "execution_count": 1,
     "metadata": {},
     "output_type": "execute_result"
    }
   ],
   "source": [
    "1"
   ]
  },
  {
   "cell_type": "code",
   "execution_count": 2,
   "metadata": {},
   "outputs": [
    {
     "data": {
      "text/plain": [
       "2"
      ]
     },
     "execution_count": 2,
     "metadata": {},
     "output_type": "execute_result"
    }
   ],
   "source": [
    "1 + 1"
   ]
  },
  {
   "cell_type": "code",
   "execution_count": 3,
   "metadata": {},
   "outputs": [
    {
     "data": {
      "text/plain": [
       "0"
      ]
     },
     "execution_count": 3,
     "metadata": {},
     "output_type": "execute_result"
    }
   ],
   "source": [
    "1 - 1"
   ]
  },
  {
   "cell_type": "code",
   "execution_count": 4,
   "metadata": {},
   "outputs": [
    {
     "data": {
      "text/plain": [
       "1"
      ]
     },
     "execution_count": 4,
     "metadata": {},
     "output_type": "execute_result"
    }
   ],
   "source": [
    "1 * 1"
   ]
  },
  {
   "cell_type": "code",
   "execution_count": 6,
   "metadata": {},
   "outputs": [
    {
     "data": {
      "text/plain": [
       "1.0"
      ]
     },
     "execution_count": 6,
     "metadata": {},
     "output_type": "execute_result"
    }
   ],
   "source": [
    "1 / 1"
   ]
  },
  {
   "cell_type": "code",
   "execution_count": 7,
   "metadata": {},
   "outputs": [
    {
     "data": {
      "text/plain": [
       "1"
      ]
     },
     "execution_count": 7,
     "metadata": {},
     "output_type": "execute_result"
    }
   ],
   "source": [
    "1 // 1"
   ]
  },
  {
   "cell_type": "markdown",
   "metadata": {},
   "source": [
    "> Question: What is the difference between `1 / 1` and `1 // 1`?\n",
    "\n",
    "Everything in Python is an **Object** and every object have a **type**. The `type` function in Python returns type of an object in Python."
   ]
  },
  {
   "cell_type": "code",
   "execution_count": 10,
   "metadata": {},
   "outputs": [
    {
     "data": {
      "text/plain": [
       "float"
      ]
     },
     "execution_count": 10,
     "metadata": {},
     "output_type": "execute_result"
    }
   ],
   "source": [
    "type(1 / 1)"
   ]
  },
  {
   "cell_type": "code",
   "execution_count": 11,
   "metadata": {},
   "outputs": [
    {
     "data": {
      "text/plain": [
       "int"
      ]
     },
     "execution_count": 11,
     "metadata": {},
     "output_type": "execute_result"
    }
   ],
   "source": [
    "type(1 // 1)"
   ]
  },
  {
   "cell_type": "markdown",
   "metadata": {},
   "source": [
    "For `int` data types, the Python's `**` operator is equivalent to power in mathematics:       \n",
    "`2 ** 10 `   $\\leftrightarrow ~ 2^{10}$"
   ]
  },
  {
   "cell_type": "code",
   "execution_count": 12,
   "metadata": {},
   "outputs": [
    {
     "data": {
      "text/plain": [
       "2"
      ]
     },
     "execution_count": 12,
     "metadata": {},
     "output_type": "execute_result"
    }
   ],
   "source": [
    "2 ** 1"
   ]
  },
  {
   "cell_type": "code",
   "execution_count": 15,
   "metadata": {},
   "outputs": [
    {
     "data": {
      "text/plain": [
       "1024"
      ]
     },
     "execution_count": 15,
     "metadata": {},
     "output_type": "execute_result"
    }
   ],
   "source": [
    "2 ** 10"
   ]
  },
  {
   "cell_type": "markdown",
   "metadata": {},
   "source": [
    "## 1.3 Google style (whitespace) <a id='gs-whitespace'></a>\n",
    "### 1.3.1 whitespace around binary operators <a id=\"gs-whitespace-binary-operator\"></a>\n",
    "Surround binary operators with a single space on either side for assignment (`=`), comparisons (`==`, `<`, `>`, `!=`, `<>`, `<=`, `>=`, `in`, `not in`, `is`, `is not`), and Booleans (`and`, `or`, `not`).\n",
    "\n",
    "Examples:\n",
    "<p style=\"color:red;\">Wrong</p>\n",
    "\n",
    "```Python\n",
    "1+1\n",
    "```\n",
    "<p style=\"color:red;\">Wrong</p>\n",
    "\n",
    "```Python\n",
    "1      +     1\n",
    "```\n",
    "<p style=\"color:green;\">Right</p>\n",
    "\n",
    "```Python\n",
    "1 + 1\n",
    "```\n",
    "### 1.3.2 whitespace in parenthesis <a id=\"gs-whitespace-parenthesis\"></a>\n",
    "No whitespace inside parentheses, brackets or braces.\n",
    "Examples:\n",
    "<p style=\"color:red;\">Wrong</p>\n",
    "\n",
    "```Python\n",
    "type( 1   )\n",
    "```\n",
    "<p style=\"color:green;\">Right</p>\n",
    "\n",
    "```Python\n",
    "type(1)\n",
    "```\n",
    "<p style=\"color:red;\">Wrong</p>\n",
    "\n",
    "```Python\n",
    "(   1  + 1    )\n",
    "```\n",
    "<p style=\"color:green;\">Right</p>\n",
    "\n",
    "```Python\n",
    "(1 + 1)\n",
    "```"
   ]
  },
  {
   "cell_type": "markdown",
   "metadata": {},
   "source": [
    "## 1.4 float <a id=\"float\"></a>\n",
    "\n",
    "Real numbers in Python are represented by `float` data types. You can think of `float` numbers as a number with decimal point.\n",
    "\n",
    "Similar to `int` data type, `float`s can be added, subtracted, mulitplied and divided."
   ]
  },
  {
   "cell_type": "code",
   "execution_count": 19,
   "metadata": {},
   "outputs": [
    {
     "data": {
      "text/plain": [
       "1.0"
      ]
     },
     "execution_count": 19,
     "metadata": {},
     "output_type": "execute_result"
    }
   ],
   "source": [
    "1.0"
   ]
  },
  {
   "cell_type": "code",
   "execution_count": 20,
   "metadata": {},
   "outputs": [
    {
     "data": {
      "text/plain": [
       "2.0"
      ]
     },
     "execution_count": 20,
     "metadata": {},
     "output_type": "execute_result"
    }
   ],
   "source": [
    "1.0 + 1.0"
   ]
  },
  {
   "cell_type": "code",
   "execution_count": 21,
   "metadata": {},
   "outputs": [
    {
     "data": {
      "text/plain": [
       "0.0"
      ]
     },
     "execution_count": 21,
     "metadata": {},
     "output_type": "execute_result"
    }
   ],
   "source": [
    "1.0 - 1.0"
   ]
  },
  {
   "cell_type": "code",
   "execution_count": 22,
   "metadata": {},
   "outputs": [
    {
     "data": {
      "text/plain": [
       "1.0"
      ]
     },
     "execution_count": 22,
     "metadata": {},
     "output_type": "execute_result"
    }
   ],
   "source": [
    "1.0 * 1.0"
   ]
  },
  {
   "cell_type": "code",
   "execution_count": 23,
   "metadata": {},
   "outputs": [
    {
     "data": {
      "text/plain": [
       "1.0"
      ]
     },
     "execution_count": 23,
     "metadata": {},
     "output_type": "execute_result"
    }
   ],
   "source": [
    "1.0 / 1.0"
   ]
  },
  {
   "cell_type": "code",
   "execution_count": 24,
   "metadata": {},
   "outputs": [
    {
     "data": {
      "text/plain": [
       "1.0"
      ]
     },
     "execution_count": 24,
     "metadata": {},
     "output_type": "execute_result"
    }
   ],
   "source": [
    "1.0 // 1.0"
   ]
  },
  {
   "cell_type": "markdown",
   "metadata": {},
   "source": [
    "> Question: what is the difference between `1.0 / 1.0` and `1 / 1`?\n",
    "\n",
    "> Question: what is the difference between `1.0 // 1.0` and `1 // 1`?"
   ]
  },
  {
   "cell_type": "markdown",
   "metadata": {},
   "source": [
    "When a `float` number and `int` number are added, subtracted, mutliplied or divided, the Python will consider the `int` as a `float`."
   ]
  },
  {
   "cell_type": "code",
   "execution_count": 25,
   "metadata": {},
   "outputs": [
    {
     "data": {
      "text/plain": [
       "2"
      ]
     },
     "execution_count": 25,
     "metadata": {},
     "output_type": "execute_result"
    }
   ],
   "source": [
    "1 + 1"
   ]
  },
  {
   "cell_type": "code",
   "execution_count": 26,
   "metadata": {},
   "outputs": [
    {
     "data": {
      "text/plain": [
       "2.0"
      ]
     },
     "execution_count": 26,
     "metadata": {},
     "output_type": "execute_result"
    }
   ],
   "source": [
    "1.0 + 1"
   ]
  },
  {
   "cell_type": "code",
   "execution_count": 27,
   "metadata": {},
   "outputs": [
    {
     "data": {
      "text/plain": [
       "2.0"
      ]
     },
     "execution_count": 27,
     "metadata": {},
     "output_type": "execute_result"
    }
   ],
   "source": [
    "1.0 + 1.0"
   ]
  },
  {
   "cell_type": "markdown",
   "metadata": {},
   "source": [
    "## complex <a id=\"complex\"></a>\n",
    "\n",
    "Python has a built-in data type `complex` to deal with complex numbers."
   ]
  },
  {
   "cell_type": "code",
   "execution_count": 28,
   "metadata": {},
   "outputs": [
    {
     "data": {
      "text/plain": [
       "1.5j"
      ]
     },
     "execution_count": 28,
     "metadata": {},
     "output_type": "execute_result"
    }
   ],
   "source": [
    "1.5j"
   ]
  },
  {
   "cell_type": "code",
   "execution_count": 29,
   "metadata": {},
   "outputs": [
    {
     "data": {
      "text/plain": [
       "(1+1j)"
      ]
     },
     "execution_count": 29,
     "metadata": {},
     "output_type": "execute_result"
    }
   ],
   "source": [
    "1 + 1j"
   ]
  },
  {
   "cell_type": "code",
   "execution_count": 31,
   "metadata": {},
   "outputs": [
    {
     "data": {
      "text/plain": [
       "(-1+0j)"
      ]
     },
     "execution_count": 31,
     "metadata": {},
     "output_type": "execute_result"
    }
   ],
   "source": [
    "(0 + 1j) * (0 + 1j)"
   ]
  },
  {
   "cell_type": "code",
   "execution_count": 32,
   "metadata": {},
   "outputs": [
    {
     "data": {
      "text/plain": [
       "(12+0j)"
      ]
     },
     "execution_count": 32,
     "metadata": {},
     "output_type": "execute_result"
    }
   ],
   "source": [
    "(2 + 1j) + (10 - 1j)"
   ]
  },
  {
   "cell_type": "code",
   "execution_count": 34,
   "metadata": {},
   "outputs": [
    {
     "data": {
      "text/plain": [
       "(1+0j)"
      ]
     },
     "execution_count": 34,
     "metadata": {},
     "output_type": "execute_result"
    }
   ],
   "source": [
    "(1j)/(1j)"
   ]
  },
  {
   "cell_type": "code",
   "execution_count": 35,
   "metadata": {},
   "outputs": [
    {
     "data": {
      "text/plain": [
       "1.5j"
      ]
     },
     "execution_count": 35,
     "metadata": {},
     "output_type": "execute_result"
    }
   ],
   "source": [
    "(1 + 2.5j) - (1 + 1j)"
   ]
  }
 ],
 "metadata": {
  "kernelspec": {
   "display_name": "Python 3",
   "language": "python",
   "name": "python3"
  },
  "language_info": {
   "codemirror_mode": {
    "name": "ipython",
    "version": 3
   },
   "file_extension": ".py",
   "mimetype": "text/x-python",
   "name": "python",
   "nbconvert_exporter": "python",
   "pygments_lexer": "ipython3",
   "version": "3.9.5"
  }
 },
 "nbformat": 4,
 "nbformat_minor": 4
}
