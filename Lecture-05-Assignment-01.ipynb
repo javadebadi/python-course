{
 "cells": [
  {
   "cell_type": "markdown",
   "id": "57e3fcba",
   "metadata": {},
   "source": [
    "# Assingment #1\n",
    "### Variables, Strings and Lists\n",
    "##### Expected Time to Complete: 2 Hours\n",
    "\n",
    "In this exercise, we will use what we have learn't in the course to solve some problems.\n",
    "\n",
    "You should use Google style when writing your codes."
   ]
  },
  {
   "cell_type": "markdown",
   "id": "4bbca2a9",
   "metadata": {},
   "source": [
    "#### Exe 1: working with strings\n",
    "\n",
    "define a string variable with name `myString` and value `Hello World!`"
   ]
  },
  {
   "cell_type": "code",
   "execution_count": 1,
   "id": "98c13fb9",
   "metadata": {},
   "outputs": [],
   "source": [
    "# start your code here\n",
    "# define a string variable with name myString and value \"Hello World\"\n",
    "myString = \"Hello World!\""
   ]
  },
  {
   "cell_type": "code",
   "execution_count": 2,
   "id": "d10f4966",
   "metadata": {},
   "outputs": [
    {
     "data": {
      "text/plain": [
       "'Hello World!'"
      ]
     },
     "execution_count": 2,
     "metadata": {},
     "output_type": "execute_result"
    }
   ],
   "source": [
    "# run this cell\n",
    "myString"
   ]
  },
  {
   "cell_type": "markdown",
   "id": "d2700a41",
   "metadata": {},
   "source": [
    "find length of `myString`"
   ]
  },
  {
   "cell_type": "code",
   "execution_count": 3,
   "id": "5fbf2db8",
   "metadata": {},
   "outputs": [
    {
     "data": {
      "text/plain": [
       "12"
      ]
     },
     "execution_count": 3,
     "metadata": {},
     "output_type": "execute_result"
    }
   ],
   "source": [
    "# start your code here\n",
    "# find the length of the myString\n"
   ]
  },
  {
   "cell_type": "markdown",
   "id": "a515d1cf",
   "metadata": {},
   "source": [
    "What is the length of myString? Why the length of myString is this number?"
   ]
  },
  {
   "cell_type": "markdown",
   "id": "b154cda6",
   "metadata": {},
   "source": [
    "**Answer:**"
   ]
  },
  {
   "cell_type": "markdown",
   "id": "2c5c699f",
   "metadata": {},
   "source": [
    "Slice the `myString` from index 2 to index 7 excluded"
   ]
  },
  {
   "cell_type": "code",
   "execution_count": 4,
   "id": "97e998c7",
   "metadata": {},
   "outputs": [
    {
     "data": {
      "text/plain": [
       "'llo W'"
      ]
     },
     "execution_count": 4,
     "metadata": {},
     "output_type": "execute_result"
    }
   ],
   "source": [
    "# start your code here\n"
   ]
  },
  {
   "cell_type": "markdown",
   "id": "38c06334",
   "metadata": {},
   "source": [
    "Slice the `myString` from index 2 to index 7 included"
   ]
  },
  {
   "cell_type": "code",
   "execution_count": 5,
   "id": "0135fd07",
   "metadata": {},
   "outputs": [
    {
     "data": {
      "text/plain": [
       "'llo Wo'"
      ]
     },
     "execution_count": 5,
     "metadata": {},
     "output_type": "execute_result"
    }
   ],
   "source": [
    "# start your code here\n"
   ]
  },
  {
   "cell_type": "markdown",
   "id": "1afa2f6c",
   "metadata": {},
   "source": [
    "Assign `\"some\"` string to the slice of `myString` from index 2 to index 5 excluded.\n",
    "Do you think it would be possible? "
   ]
  },
  {
   "cell_type": "code",
   "execution_count": 6,
   "id": "229dfa20",
   "metadata": {},
   "outputs": [],
   "source": [
    "# start your code here\n"
   ]
  },
  {
   "cell_type": "markdown",
   "id": "d51f7067",
   "metadata": {},
   "source": [
    "- Is the above line raises error?\n",
    "- What kind of error is raised?\n",
    "- Why the error is raised?\n",
    "- _Hint_: remember the **mutable** and **immutable** concepts"
   ]
  },
  {
   "cell_type": "markdown",
   "id": "86c9a7dd",
   "metadata": {},
   "source": [
    "**Answer**:"
   ]
  },
  {
   "cell_type": "markdown",
   "id": "60045dab",
   "metadata": {},
   "source": [
    "#### Exe 2: Shallow copy vs reference\n",
    "\n",
    "In this exerciese we will know why wee need to use shallow copy and could not simply use `=` operator to get a copy of list.\n",
    "\n",
    "Let's define a new list called `my_list_1`"
   ]
  },
  {
   "cell_type": "code",
   "execution_count": 7,
   "id": "9ef46f59",
   "metadata": {},
   "outputs": [],
   "source": [
    "# run this cell\n",
    "my_list_1 = [1, 2, 3]"
   ]
  },
  {
   "cell_type": "markdown",
   "id": "598b691d",
   "metadata": {},
   "source": [
    "- We define `my_list_2` with assignment operator from `my_list_1`.      \n",
    "- We define `my_list_3` with shallow copy from `my_list_1`."
   ]
  },
  {
   "cell_type": "code",
   "execution_count": 8,
   "id": "c80fb9ec",
   "metadata": {},
   "outputs": [],
   "source": [
    "# run this cell\n",
    "my_list_2 = my_list_1  # assign my_list_1 to my_list_2\n",
    "my_list_3 = my_list_1[:]  # define my_list_3 as a shallow copy my_list_1"
   ]
  },
  {
   "cell_type": "code",
   "execution_count": 9,
   "id": "21ed50a6",
   "metadata": {},
   "outputs": [
    {
     "name": "stdout",
     "output_type": "stream",
     "text": [
      "my_list_1 = [1, 2, 3]\n",
      "my_list_2 = [1, 2, 3]\n",
      "my_list_3 = [1, 2, 3]\n"
     ]
    }
   ],
   "source": [
    "# run this cell\n",
    "print(\"my_list_1 =\", my_list_1)\n",
    "print(\"my_list_2 =\", my_list_2)\n",
    "print(\"my_list_3 =\", my_list_3)"
   ]
  },
  {
   "cell_type": "markdown",
   "id": "8a679520",
   "metadata": {},
   "source": [
    "Append number `4` to `my_list_3`"
   ]
  },
  {
   "cell_type": "code",
   "execution_count": 10,
   "id": "2750e7cc",
   "metadata": {},
   "outputs": [],
   "source": [
    "# start your code here\n",
    "# append number 4 to my_list_3\n"
   ]
  },
  {
   "cell_type": "code",
   "execution_count": 11,
   "id": "072d94bf",
   "metadata": {},
   "outputs": [
    {
     "name": "stdout",
     "output_type": "stream",
     "text": [
      "my_list_1 = [1, 2, 3]\n",
      "my_list_2 = [1, 2, 3]\n",
      "my_list_3 = [1, 2, 3, 4]\n"
     ]
    }
   ],
   "source": [
    "# run this cell\n",
    "print(\"my_list_1 =\", my_list_1)\n",
    "print(\"my_list_2 =\", my_list_2)\n",
    "print(\"my_list_3 =\", my_list_3)"
   ]
  },
  {
   "cell_type": "markdown",
   "id": "bf339a33",
   "metadata": {},
   "source": [
    "- Do `my_list_3` change?\n",
    "- Do `my_list_1` or `my_list_2` change?"
   ]
  },
  {
   "cell_type": "markdown",
   "id": "1cf44044",
   "metadata": {},
   "source": [
    "**Answer:**"
   ]
  },
  {
   "cell_type": "markdown",
   "id": "848f4db3",
   "metadata": {},
   "source": [
    "Append number `Hello` to my_list_2"
   ]
  },
  {
   "cell_type": "code",
   "execution_count": 12,
   "id": "04434b45",
   "metadata": {},
   "outputs": [],
   "source": [
    "# start your code here\n",
    "# append 'Hello' to my_list_2\n"
   ]
  },
  {
   "cell_type": "code",
   "execution_count": 13,
   "id": "08979674",
   "metadata": {},
   "outputs": [
    {
     "name": "stdout",
     "output_type": "stream",
     "text": [
      "my_list_1 = [1, 2, 3, 'Hello']\n",
      "my_list_2 = [1, 2, 3, 'Hello']\n",
      "my_list_3 = [1, 2, 3, 4]\n"
     ]
    }
   ],
   "source": [
    "# run this cell\n",
    "print(\"my_list_1 =\", my_list_1)\n",
    "print(\"my_list_2 =\", my_list_2)\n",
    "print(\"my_list_3 =\", my_list_3)"
   ]
  },
  {
   "cell_type": "markdown",
   "id": "14f8d69b",
   "metadata": {},
   "source": [
    "- Do `my_list_3` change?\n",
    "- Do `my_list_2` change?\n",
    "- Do `my_list_1` change?\n",
    "- Is it surprising?\n",
    "- The `my_list_2` and `my_list_3` are both created from `my_list_1`. What is the difference between these two?"
   ]
  },
  {
   "cell_type": "markdown",
   "id": "d5bdcc3b",
   "metadata": {},
   "source": [
    "**Answer:**"
   ]
  },
  {
   "cell_type": "markdown",
   "id": "9e050fb9",
   "metadata": {},
   "source": [
    "#### Exe 3: working with lists\n",
    "\n",
    "In this exercise, we will learn what we can do with lists methods"
   ]
  },
  {
   "cell_type": "code",
   "execution_count": 14,
   "id": "4c46306e",
   "metadata": {},
   "outputs": [],
   "source": [
    "scientists = [\n",
    "    [1, 2, 3, 4, 5, 6],\n",
    "    ['Einstein', 'Molana', 'Newton', 'Planck', 'Sina', 'Khayyam'],\n",
    "    ['German', 'Iranian', 'British', 'German', 'Iranian', 'Iranian'],\n",
    "]"
   ]
  },
  {
   "cell_type": "markdown",
   "id": "45d10703",
   "metadata": {},
   "source": [
    "What is the length of `scientists` list"
   ]
  },
  {
   "cell_type": "code",
   "execution_count": 15,
   "id": "19e1ab92",
   "metadata": {},
   "outputs": [
    {
     "data": {
      "text/plain": [
       "3"
      ]
     },
     "execution_count": 15,
     "metadata": {},
     "output_type": "execute_result"
    }
   ],
   "source": [
    "# start your code here\n"
   ]
  },
  {
   "cell_type": "markdown",
   "id": "4c692ee0",
   "metadata": {},
   "source": [
    "The `scientists` list is a nested lists.     \n",
    "What is lenght of each of the lists inside `scientists` list?"
   ]
  },
  {
   "cell_type": "code",
   "execution_count": 16,
   "id": "ecbf9db0",
   "metadata": {},
   "outputs": [
    {
     "data": {
      "text/plain": [
       "6"
      ]
     },
     "execution_count": 16,
     "metadata": {},
     "output_type": "execute_result"
    }
   ],
   "source": [
    "# start your code here\n",
    "# lenght of first list\n"
   ]
  },
  {
   "cell_type": "code",
   "execution_count": 17,
   "id": "0271bd6c",
   "metadata": {},
   "outputs": [
    {
     "data": {
      "text/plain": [
       "6"
      ]
     },
     "execution_count": 17,
     "metadata": {},
     "output_type": "execute_result"
    }
   ],
   "source": [
    "# start your code here\n",
    "# lenght of second list\n"
   ]
  },
  {
   "cell_type": "code",
   "execution_count": 18,
   "id": "63829101",
   "metadata": {},
   "outputs": [
    {
     "data": {
      "text/plain": [
       "6"
      ]
     },
     "execution_count": 18,
     "metadata": {},
     "output_type": "execute_result"
    }
   ],
   "source": [
    "# start your code here\n",
    "# lenght of third list\n"
   ]
  },
  {
   "cell_type": "markdown",
   "id": "536218c5",
   "metadata": {},
   "source": [
    "the `scientists` list has `Molana` in its second list, but `Molana` was not a scientist. We need to `remove` Molana from this list.\n",
    "\n",
    "\n",
    "You need to the followings:\n",
    "- Find the index where `Molana` appears in second list nested inside `scientists` list.\n",
    "- Store the index in variable called `removable_index`.\n",
    "\n",
    "\n",
    "- Remove `Molana` from second list of `scientists` list using `.remove` method.\n",
    "- _Hint_: You need to use `.remove` method for second list of `scientists` list, not the `scientists` list itself.\n",
    "- _Hint_: Use Shift + Tab in keyboard to seed how the `.remove` method works\n",
    "\n",
    "- Remove the item at `removable_index` from first and third nested lists of `scientists`. You need to use `.pop` method of list"
   ]
  },
  {
   "cell_type": "code",
   "execution_count": 19,
   "id": "07bfa9e3",
   "metadata": {},
   "outputs": [],
   "source": [
    "# start your code here\n",
    "# Find the index where `Molana` appears \n",
    "# in second list nested inside `scientists` list.\n",
    "# Store the index in variable called `removable_index`.\n"
   ]
  },
  {
   "cell_type": "code",
   "execution_count": 20,
   "id": "8e0db745",
   "metadata": {},
   "outputs": [
    {
     "data": {
      "text/plain": [
       "1"
      ]
     },
     "execution_count": 20,
     "metadata": {},
     "output_type": "execute_result"
    }
   ],
   "source": [
    "# run this cell\n",
    "removable_index"
   ]
  },
  {
   "cell_type": "code",
   "execution_count": 21,
   "id": "d5cf3687",
   "metadata": {},
   "outputs": [],
   "source": [
    "# start your code here\n",
    "# Remove `Molana` from second list of `scientists` list using `.remove` method.\n"
   ]
  },
  {
   "cell_type": "code",
   "execution_count": 22,
   "id": "b85a665a",
   "metadata": {},
   "outputs": [
    {
     "data": {
      "text/plain": [
       "'Iranian'"
      ]
     },
     "execution_count": 22,
     "metadata": {},
     "output_type": "execute_result"
    }
   ],
   "source": [
    "# start your code here\n",
    "# Remove the item at removable_index from first and third nested lists\n",
    "# of `scientists`. You need to use `.pop` method of list\n"
   ]
  },
  {
   "cell_type": "code",
   "execution_count": 23,
   "id": "da2ca2b3",
   "metadata": {},
   "outputs": [
    {
     "data": {
      "text/plain": [
       "[[1, 3, 4, 5, 6],\n",
       " ['Einstein', 'Newton', 'Planck', 'Sina', 'Khayyam'],\n",
       " ['German', 'British', 'German', 'Iranian', 'Iranian']]"
      ]
     },
     "execution_count": 23,
     "metadata": {},
     "output_type": "execute_result"
    }
   ],
   "source": [
    "# run this cell\n",
    "scientists"
   ]
  },
  {
   "cell_type": "markdown",
   "id": "c9bf8a2e",
   "metadata": {},
   "source": [
    "How many Iranina scientists are in the list?\n",
    "\n",
    "Use `.count` method to answert this question"
   ]
  },
  {
   "cell_type": "code",
   "execution_count": 24,
   "id": "99d5699b",
   "metadata": {},
   "outputs": [
    {
     "data": {
      "text/plain": [
       "2"
      ]
     },
     "execution_count": 24,
     "metadata": {},
     "output_type": "execute_result"
    }
   ],
   "source": [
    "# start your code here\n",
    "# count the number of Iranian scientists\n"
   ]
  },
  {
   "cell_type": "markdown",
   "id": "c58e2c32",
   "metadata": {},
   "source": [
    "Get a **shallow copy** of names of scientist in new list called `scientists_names`"
   ]
  },
  {
   "cell_type": "code",
   "execution_count": 25,
   "id": "e9063547",
   "metadata": {},
   "outputs": [],
   "source": [
    "# start your code here\n",
    "# get a shallow copy of the names of scientists\n"
   ]
  },
  {
   "cell_type": "code",
   "execution_count": 26,
   "id": "1b334884",
   "metadata": {},
   "outputs": [
    {
     "data": {
      "text/plain": [
       "['Einstein', 'Newton', 'Planck', 'Sina', 'Khayyam']"
      ]
     },
     "execution_count": 26,
     "metadata": {},
     "output_type": "execute_result"
    }
   ],
   "source": [
    "# run this cell\n",
    "scientists_names"
   ]
  },
  {
   "cell_type": "markdown",
   "id": "abf42fa4",
   "metadata": {},
   "source": [
    "Sort the names of scientists in `scientists_names` alphabetically.      \n",
    "\n",
    "You need to use `.sort` method"
   ]
  },
  {
   "cell_type": "code",
   "execution_count": 27,
   "id": "b872363d",
   "metadata": {},
   "outputs": [],
   "source": [
    "# start your code here\n",
    "# sort the scientists_names list to have\n",
    "# the names of scientists in alphabetical order\n"
   ]
  },
  {
   "cell_type": "code",
   "execution_count": 28,
   "id": "7be6a02c",
   "metadata": {},
   "outputs": [
    {
     "data": {
      "text/plain": [
       "['Einstein', 'Khayyam', 'Newton', 'Planck', 'Sina']"
      ]
     },
     "execution_count": 28,
     "metadata": {},
     "output_type": "execute_result"
    }
   ],
   "source": [
    "# run this cell\n",
    "scientists_names"
   ]
  },
  {
   "cell_type": "markdown",
   "id": "4b520efe",
   "metadata": {},
   "source": [
    "#### Exe 4: Strings and lists together\n",
    "\n",
    "In this exercise, we will learn about `.split` method of strings. We will use both `str` and `list` data types.\n",
    "\n",
    "Let's define a string which contains peom by Saadi:"
   ]
  },
  {
   "cell_type": "code",
   "execution_count": 29,
   "id": "a5518d3c",
   "metadata": {},
   "outputs": [],
   "source": [
    "saadi_poem = \"\"\"عشق و درویشی و انگشت نمایی و ملامت\n",
    "همه سهلست تحمل نکنم بار جدایی\n",
    "روز صحرا و سماعست و لب جوی و تماشا\n",
    "در همه شهر دلی نیست که دیگر بربایی\n",
    "گفته بودم چو بیایی غم دل با تو بگویم\n",
    "چه بگویم که غم از دل برود چون تو بیایی\n",
    "شمع را باید از این خانه به دربردن و کشتن\n",
    "تا به همسایه نگوید که تو در خانه مایی\n",
    "سعدی آن نیست که هرگز ز کمندت بگریزد\n",
    "که بدانست که دربند تو خوشتر که رهایی\"\"\""
   ]
  },
  {
   "cell_type": "markdown",
   "id": "46762b5b",
   "metadata": {},
   "source": [
    "Use `.split` method of *string* data types to split the `saadi_poem` based on the occurence of the `\\n` character. Store the result in `saadi_poem_splitted` variable."
   ]
  },
  {
   "cell_type": "code",
   "execution_count": 30,
   "id": "ab41366f",
   "metadata": {},
   "outputs": [],
   "source": [
    "# start your code here\n",
    "# split the saadi_poem by '\\n' chracter and \n",
    "# store the result in saadi_poem_splitted variable\n"
   ]
  },
  {
   "cell_type": "code",
   "execution_count": 31,
   "id": "b358cf2d",
   "metadata": {},
   "outputs": [
    {
     "data": {
      "text/plain": [
       "['عشق و درویشی و انگشت نمایی و ملامت',\n",
       " 'همه سهلست تحمل نکنم بار جدایی',\n",
       " 'روز صحرا و سماعست و لب جوی و تماشا',\n",
       " 'در همه شهر دلی نیست که دیگر بربایی',\n",
       " 'گفته بودم چو بیایی غم دل با تو بگویم',\n",
       " 'چه بگویم که غم از دل برود چون تو بیایی',\n",
       " 'شمع را باید از این خانه به دربردن و کشتن',\n",
       " 'تا به همسایه نگوید که تو در خانه مایی',\n",
       " 'سعدی آن نیست که هرگز ز کمندت بگریزد',\n",
       " 'که بدانست که دربند تو خوشتر که رهایی']"
      ]
     },
     "execution_count": 31,
     "metadata": {},
     "output_type": "execute_result"
    }
   ],
   "source": [
    "# run this cell\n",
    "saadi_poem_splitted"
   ]
  },
  {
   "cell_type": "markdown",
   "id": "f366eed6",
   "metadata": {},
   "source": [
    "What is the type of `saadi_poem_splitted`?"
   ]
  },
  {
   "cell_type": "code",
   "execution_count": 32,
   "id": "3655f52c",
   "metadata": {},
   "outputs": [
    {
     "data": {
      "text/plain": [
       "list"
      ]
     },
     "execution_count": 32,
     "metadata": {},
     "output_type": "execute_result"
    }
   ],
   "source": [
    "# start your code here\n"
   ]
  },
  {
   "cell_type": "markdown",
   "id": "62c6f8b5",
   "metadata": {},
   "source": [
    "چند مصرع در این شعر وجود دارد؟\n",
    "\n",
    "How many hemistich are there in this peom has?\n",
    "\n",
    "You need to use appropriate method of list objects to find this."
   ]
  },
  {
   "cell_type": "code",
   "execution_count": 33,
   "id": "01c6ff9b",
   "metadata": {},
   "outputs": [
    {
     "data": {
      "text/plain": [
       "10"
      ]
     },
     "execution_count": 33,
     "metadata": {},
     "output_type": "execute_result"
    }
   ],
   "source": [
    "# start your code here\n",
    "# find the number of hemistich in the poem\n"
   ]
  },
  {
   "cell_type": "markdown",
   "id": "6e88db09",
   "metadata": {},
   "source": [
    "### Congratulations!\n",
    "You finished the first assignment and now you are ready for your next step in Python journey."
   ]
  }
 ],
 "metadata": {
  "kernelspec": {
   "display_name": "Python 3",
   "language": "python",
   "name": "python3"
  },
  "language_info": {
   "codemirror_mode": {
    "name": "ipython",
    "version": 3
   },
   "file_extension": ".py",
   "mimetype": "text/x-python",
   "name": "python",
   "nbconvert_exporter": "python",
   "pygments_lexer": "ipython3",
   "version": "3.9.5"
  }
 },
 "nbformat": 4,
 "nbformat_minor": 5
}
