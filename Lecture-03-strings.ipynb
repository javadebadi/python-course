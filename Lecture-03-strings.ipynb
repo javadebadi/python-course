{
 "cells": [
  {
   "cell_type": "markdown",
   "metadata": {},
   "source": [
    "<div style=\"display: grid;\n",
    "  grid-template-columns: auto auto auto;\n",
    "  background-color: #AF96F3;\n",
    "  padding: = 7px;\n",
    "            width:100%;\">\n",
    "  <div style=\"background-color: rgba(255, 255, 255, 0.8);\n",
    "  border: 1px solid rgba(0, 0, 0, 0.8);\n",
    "  padding: 10px 10px 20px;\n",
    "  display:flex; justify-content: space-between;\"><div style=\"text-aling:left; width:80%\"><h1>Lecture 03: Strings</h1></div><div style=\"text-align:right;width:20%;font-size: 10px;\">Date: 6/25/2021</div></div>\n",
    "  <div style=\"background-color: rgba(255, 255, 255, 0.8);\n",
    "  border: 1px solid rgba(0, 0, 0, 0.8);\n",
    "  padding: 10px;\n",
    "  font-size: 16px;text-align: left;\"><p>Author: Javad Ebadi</p></div>\n",
    "  <div style=\"background-color: rgba(255, 255, 255, 0.8);\n",
    "  border: 1px solid rgba(0, 0, 0, 0.8);\n",
    "  padding: 0px;\n",
    "  font-size: 14px; display:flex; justify-content: space-between;\">\n",
    "      <div style=\"width:33.3%; text-align:left; margin:5px; padding:5px;\"><p>Email: javad.ebadi.1990@gmail.com</div>\n",
    "      <div style=\"width:33.3%; text-align:center; margin:5px; padding:5px;\"><p>Telegram: <a href=\"https://t.me/javadebadi1990\">@javadebadi1990</a></p></div>\n",
    "      <div style=\"width:33.3%; text-align:right; margin:5px; padding:5px;\"><p>GitHub: <a href=\"https://github.com/javadebadi\">javadebadi</a></p></div>\n",
    "   </div>\n",
    "  <div style=\"background-color: rgba(255, 255, 255, 0.8);\n",
    "  border: 1px solid rgba(0, 0, 0, 0.8);\n",
    "  padding: 10px;\n",
    "  font-size: 14px;\n",
    "              text-align: left;\"><p>\n",
    "      Table of Contents</p>\n",
    "      <ul>\n",
    "    <li><a href=\"#strings\">3.1 Strings</a>\n",
    "        <ul><li><a href=\"#strings-define\">3.1.1 Strings define</a></li></ul>\n",
    "        <ul><li><a href=\"#strings-special-characters\">3.1.1 Special characters</a></li></ul>\n",
    "    </li>\n",
    "    <li><a href=\"#strings-operations\">3.2 Strings operation</a>\n",
    "        <ul>\n",
    "            <li><a href=\"#strings-slice\">3.2.1 String slicing</a></li>\n",
    "            <li><a href=\"#strings-methods\">2.2.2 String methods</a></li>\n",
    "        </ul>\n",
    "    </li>\n",
    "</ul>\n",
    "      <b> Expected time to complete this notebook: 1 hour</b>\n",
    "</div>\n",
    "</div>\n",
    "\n",
    "\n",
    "\n",
    "    "
   ]
  },
  {
   "cell_type": "markdown",
   "metadata": {},
   "source": [
    "## 3.1 Strings <a id=\"strings\"></a>\n",
    "\n",
    "Text data are represented by **string**s in many programming languages. In Python, strings are denoted by `str` data type.\n",
    "\n",
    "In this notebook, we will learn how to define strings in Python. In addition, we will learn to do some common operations on strings."
   ]
  },
  {
   "cell_type": "markdown",
   "metadata": {},
   "source": [
    "## 3.1.1 Define string <a id=\"strings-define\"></a>\n",
    "\n",
    "To define string literal or string variables we can use three methods:\n",
    "- single quote: `'Hello World!'`\n",
    "- double quote: `\"Hello World!\"`\n",
    "- triple single quotes: `'''Hello World'''`\n",
    "- triple double quotes: `\"\"\"Hello World\"\"\"`\n",
    "\n",
    "All of the above expression, will result in exactly same string."
   ]
  },
  {
   "cell_type": "code",
   "execution_count": 1,
   "metadata": {},
   "outputs": [
    {
     "name": "stdout",
     "output_type": "stream",
     "text": [
      "Hello World!\n"
     ]
    }
   ],
   "source": [
    "s_1 = 'Hello World!'\n",
    "print(s_1)"
   ]
  },
  {
   "cell_type": "code",
   "execution_count": 2,
   "metadata": {},
   "outputs": [
    {
     "name": "stdout",
     "output_type": "stream",
     "text": [
      "Hello World!\n"
     ]
    }
   ],
   "source": [
    "s_2 = \"Hello World!\"\n",
    "print(s_2)"
   ]
  },
  {
   "cell_type": "code",
   "execution_count": 4,
   "metadata": {},
   "outputs": [
    {
     "name": "stdout",
     "output_type": "stream",
     "text": [
      "Hello World!\n"
     ]
    }
   ],
   "source": [
    "s_3 = \"\"\"Hello World!\"\"\"\n",
    "print(s_3)"
   ]
  },
  {
   "cell_type": "markdown",
   "metadata": {},
   "source": [
    ">Question: What would happen if we want to use `\"` character inside an string defined which is defined by double quote?"
   ]
  },
  {
   "cell_type": "code",
   "execution_count": 5,
   "metadata": {},
   "outputs": [
    {
     "ename": "SyntaxError",
     "evalue": "invalid syntax (<ipython-input-5-7d3b6f5d748f>, line 1)",
     "output_type": "error",
     "traceback": [
      "\u001b[1;36m  File \u001b[1;32m\"<ipython-input-5-7d3b6f5d748f>\"\u001b[1;36m, line \u001b[1;32m1\u001b[0m\n\u001b[1;33m    \"Hello \" World!\"\u001b[0m\n\u001b[1;37m             ^\u001b[0m\n\u001b[1;31mSyntaxError\u001b[0m\u001b[1;31m:\u001b[0m invalid syntax\n"
     ]
    }
   ],
   "source": [
    "\"Hello \" World!\""
   ]
  },
  {
   "cell_type": "markdown",
   "metadata": {},
   "source": [
    "To solve, this problem, we have 3 solutions:\n",
    "1. solution 1: use `\\` (escape character) with `\"` to say to Python to consider `\"` as a character insdie string.\n",
    "2. solution 2: define your string with single quotes `'` instead of double quotes\n",
    "3. solution 3: Use triple quotes instead of single or double quote"
   ]
  },
  {
   "cell_type": "code",
   "execution_count": 7,
   "metadata": {},
   "outputs": [
    {
     "name": "stdout",
     "output_type": "stream",
     "text": [
      "Hello \" World!\n"
     ]
    }
   ],
   "source": [
    "# solution 1: use escape character\n",
    "s_4 = \"Hello \\\" World!\"\n",
    "print(s_4)"
   ]
  },
  {
   "cell_type": "code",
   "execution_count": 8,
   "metadata": {},
   "outputs": [
    {
     "name": "stdout",
     "output_type": "stream",
     "text": [
      "Hello \" World!\n"
     ]
    }
   ],
   "source": [
    "# solution 2: use single quote\n",
    "s_4 = 'Hello \" World!'\n",
    "print(s_4)"
   ]
  },
  {
   "cell_type": "code",
   "execution_count": 9,
   "metadata": {},
   "outputs": [
    {
     "name": "stdout",
     "output_type": "stream",
     "text": [
      "Hello \" World!\n"
     ]
    }
   ],
   "source": [
    "# solution 3: use triple quotes\n",
    "s_4 = \"\"\"Hello \" World!\"\"\" \n",
    "print(s_4)"
   ]
  },
  {
   "cell_type": "markdown",
   "metadata": {},
   "source": [
    "Let's see what is the type of an string:"
   ]
  },
  {
   "cell_type": "code",
   "execution_count": 10,
   "metadata": {},
   "outputs": [
    {
     "data": {
      "text/plain": [
       "str"
      ]
     },
     "execution_count": 10,
     "metadata": {},
     "output_type": "execute_result"
    }
   ],
   "source": [
    "type(s_4)"
   ]
  },
  {
   "cell_type": "markdown",
   "metadata": {},
   "source": [
    "## 3.1.2 Special characters <a id='strings-special-characters'></a>\n",
    "\n",
    "Special characters are characters such as `\\\"` which we seen before. They have special meaning in strings. In the below table, some of special characters are shown:\n",
    "\n",
    "|special character| meaning |\n",
    "|----|----|\n",
    "|`\\n`| new line |\n",
    "|`\\\\`| backslash |\n",
    "|`\\t`| tab |"
   ]
  },
  {
   "cell_type": "code",
   "execution_count": 12,
   "metadata": {},
   "outputs": [
    {
     "name": "stdout",
     "output_type": "stream",
     "text": [
      "This is first line.\n",
      "This second line.\n"
     ]
    }
   ],
   "source": [
    "s_5 = \"This is first line.\\nThis second line.\"\n",
    "print(s_5)"
   ]
  },
  {
   "cell_type": "code",
   "execution_count": 13,
   "metadata": {},
   "outputs": [
    {
     "name": "stdout",
     "output_type": "stream",
     "text": [
      "\tThis is firs line.\n",
      "This second line\\.\n"
     ]
    }
   ],
   "source": [
    "s_6 = \"\\tThis is firs line.\\nThis second line\\\\.\"\n",
    "print(s_6)"
   ]
  },
  {
   "cell_type": "markdown",
   "metadata": {},
   "source": [
    "There are other special characters which we will not cover them here. \n",
    "\n",
    "The new line character can be used in single or double quote strings to add new lines. However, in triple quote strings, we can just add new line as we add in a normal text:"
   ]
  },
  {
   "cell_type": "code",
   "execution_count": 15,
   "metadata": {},
   "outputs": [
    {
     "ename": "SyntaxError",
     "evalue": "EOL while scanning string literal (<ipython-input-15-efc3bcf12d52>, line 2)",
     "output_type": "error",
     "traceback": [
      "\u001b[1;36m  File \u001b[1;32m\"<ipython-input-15-efc3bcf12d52>\"\u001b[1;36m, line \u001b[1;32m2\u001b[0m\n\u001b[1;33m    \"This is first line\u001b[0m\n\u001b[1;37m                       ^\u001b[0m\n\u001b[1;31mSyntaxError\u001b[0m\u001b[1;31m:\u001b[0m EOL while scanning string literal\n"
     ]
    }
   ],
   "source": [
    "# EOL : End Of Line\n",
    "\"This is first line\n",
    "This second line\""
   ]
  },
  {
   "cell_type": "code",
   "execution_count": 16,
   "metadata": {},
   "outputs": [
    {
     "name": "stdout",
     "output_type": "stream",
     "text": [
      "This first line\n",
      "This is second line\n"
     ]
    }
   ],
   "source": [
    "s_7 = \"This first line\\nThis is second line\"\n",
    "print(s_7)"
   ]
  },
  {
   "cell_type": "code",
   "execution_count": 21,
   "metadata": {},
   "outputs": [
    {
     "name": "stdout",
     "output_type": "stream",
     "text": [
      "This is first line\n",
      "This is second line\n"
     ]
    }
   ],
   "source": [
    "s_8 = \"\"\"This is first line\n",
    "This is second line\"\"\"\n",
    "print(s_8)\n",
    "# s_8"
   ]
  },
  {
   "cell_type": "markdown",
   "metadata": {},
   "source": [
    "## 3.2 Strings operations <a id='strings-operations'></a>\n",
    "\n",
    "Strings can be concatenated using `+` operator:"
   ]
  },
  {
   "cell_type": "code",
   "execution_count": 24,
   "metadata": {},
   "outputs": [
    {
     "name": "stdout",
     "output_type": "stream",
     "text": [
      "White Hello!\n"
     ]
    }
   ],
   "source": [
    "s_9 = \"Hello \" + \"World\" + \"!\" # concatenation\n",
    "print(s_9)"
   ]
  },
  {
   "cell_type": "code",
   "execution_count": 27,
   "metadata": {},
   "outputs": [
    {
     "ename": "TypeError",
     "evalue": "unsupported operand type(s) for -: 'str' and 'str'",
     "output_type": "error",
     "traceback": [
      "\u001b[1;31m---------------------------------------------------------------------------\u001b[0m",
      "\u001b[1;31mTypeError\u001b[0m                                 Traceback (most recent call last)",
      "\u001b[1;32m<ipython-input-27-5461d89b0728>\u001b[0m in \u001b[0;36m<module>\u001b[1;34m\u001b[0m\n\u001b[1;32m----> 1\u001b[1;33m \u001b[1;34m\"Hello \"\u001b[0m \u001b[1;33m-\u001b[0m \u001b[1;34m\"World\"\u001b[0m\u001b[1;33m\u001b[0m\u001b[1;33m\u001b[0m\u001b[0m\n\u001b[0m",
      "\u001b[1;31mTypeError\u001b[0m: unsupported operand type(s) for -: 'str' and 'str'"
     ]
    }
   ],
   "source": [
    "\"Hello \" - \"World\""
   ]
  },
  {
   "cell_type": "code",
   "execution_count": 29,
   "metadata": {},
   "outputs": [
    {
     "name": "stdout",
     "output_type": "stream",
     "text": [
      "Hello World!\n"
     ]
    }
   ],
   "source": [
    "s_10 = \"Hello\"\n",
    "s_10 += \" \"\n",
    "s_10 += \"World\"\n",
    "s_10 += \"!\"\n",
    "print(s_10)"
   ]
  },
  {
   "cell_type": "markdown",
   "metadata": {},
   "source": [
    "### 3.2.1 String slicing <a id=\"strings-slice\"></a>\n",
    "\n",
    "Strings have length which can be found using Python's `len` function:"
   ]
  },
  {
   "cell_type": "code",
   "execution_count": 31,
   "metadata": {},
   "outputs": [
    {
     "data": {
      "text/plain": [
       "6"
      ]
     },
     "execution_count": 31,
     "metadata": {},
     "output_type": "execute_result"
    }
   ],
   "source": [
    "python_string = \"Python\"\n",
    "len(\"Python\")"
   ]
  },
  {
   "cell_type": "markdown",
   "metadata": {},
   "source": [
    "String can be sliced because in Python they are sequences.\n",
    "\n",
    "|P|y|t|h|o|n|\n",
    "|-|-|-|-|-|-|\n",
    "|0|1|2|3|4|5|"
   ]
  },
  {
   "cell_type": "code",
   "execution_count": 32,
   "metadata": {},
   "outputs": [
    {
     "data": {
      "text/plain": [
       "'P'"
      ]
     },
     "execution_count": 32,
     "metadata": {},
     "output_type": "execute_result"
    }
   ],
   "source": [
    "python_string[0]"
   ]
  },
  {
   "cell_type": "code",
   "execution_count": 33,
   "metadata": {},
   "outputs": [
    {
     "data": {
      "text/plain": [
       "'h'"
      ]
     },
     "execution_count": 33,
     "metadata": {},
     "output_type": "execute_result"
    }
   ],
   "source": [
    "python_string[3]"
   ]
  },
  {
   "cell_type": "code",
   "execution_count": 36,
   "metadata": {},
   "outputs": [
    {
     "data": {
      "text/plain": [
       "'Pyth'"
      ]
     },
     "execution_count": 36,
     "metadata": {},
     "output_type": "execute_result"
    }
   ],
   "source": [
    "python_string[0:4] # slice string from index 0 to index 4 excluded"
   ]
  },
  {
   "cell_type": "markdown",
   "metadata": {},
   "source": [
    "|P|y|t|h|o|n|\n",
    "|-|-|-|-|-|-|\n",
    "|0|1|2|3|4|5|\n",
    "|-6|-5|-4|-3|-2|-1|"
   ]
  },
  {
   "cell_type": "code",
   "execution_count": 37,
   "metadata": {},
   "outputs": [
    {
     "data": {
      "text/plain": [
       "'n'"
      ]
     },
     "execution_count": 37,
     "metadata": {},
     "output_type": "execute_result"
    }
   ],
   "source": [
    "\"Python\"[-1]"
   ]
  },
  {
   "cell_type": "code",
   "execution_count": 38,
   "metadata": {},
   "outputs": [
    {
     "data": {
      "text/plain": [
       "'P'"
      ]
     },
     "execution_count": 38,
     "metadata": {},
     "output_type": "execute_result"
    }
   ],
   "source": [
    "\"Python\"[-6]"
   ]
  },
  {
   "cell_type": "code",
   "execution_count": 40,
   "metadata": {},
   "outputs": [
    {
     "data": {
      "text/plain": [
       "'Pyth'"
      ]
     },
     "execution_count": 40,
     "metadata": {},
     "output_type": "execute_result"
    }
   ],
   "source": [
    "\"Python\"[-6:-2]"
   ]
  },
  {
   "cell_type": "code",
   "execution_count": 44,
   "metadata": {},
   "outputs": [
    {
     "ename": "IndexError",
     "evalue": "string index out of range",
     "output_type": "error",
     "traceback": [
      "\u001b[1;31m---------------------------------------------------------------------------\u001b[0m",
      "\u001b[1;31mIndexError\u001b[0m                                Traceback (most recent call last)",
      "\u001b[1;32m<ipython-input-44-83384e85b11d>\u001b[0m in \u001b[0;36m<module>\u001b[1;34m\u001b[0m\n\u001b[0;32m      1\u001b[0m \u001b[1;31m# index error\u001b[0m\u001b[1;33m\u001b[0m\u001b[1;33m\u001b[0m\u001b[1;33m\u001b[0m\u001b[0m\n\u001b[1;32m----> 2\u001b[1;33m \u001b[1;34m\"Python\"\u001b[0m\u001b[1;33m[\u001b[0m\u001b[1;36m6\u001b[0m\u001b[1;33m]\u001b[0m \u001b[1;31m# 0 1 2 3 4 5\u001b[0m\u001b[1;33m\u001b[0m\u001b[1;33m\u001b[0m\u001b[0m\n\u001b[0m",
      "\u001b[1;31mIndexError\u001b[0m: string index out of range"
     ]
    }
   ],
   "source": [
    "# index error\n",
    "\"Python\"[6]"
   ]
  },
  {
   "cell_type": "markdown",
   "metadata": {},
   "source": [
    "Python slicing has an interesting consequense:"
   ]
  },
  {
   "cell_type": "code",
   "execution_count": 48,
   "metadata": {},
   "outputs": [
    {
     "data": {
      "text/plain": [
       "'Python'"
      ]
     },
     "execution_count": 48,
     "metadata": {},
     "output_type": "execute_result"
    }
   ],
   "source": [
    "python_string = \"Python\"\n",
    "python_string[0:3] + python_string[3:6]"
   ]
  },
  {
   "cell_type": "markdown",
   "metadata": {},
   "source": [
    "Python strings are **immutable** which mean that once an string object is created, it cannote be modified. Let's try to modify an string:"
   ]
  },
  {
   "cell_type": "code",
   "execution_count": 52,
   "metadata": {},
   "outputs": [
    {
     "ename": "TypeError",
     "evalue": "'str' object does not support item assignment",
     "output_type": "error",
     "traceback": [
      "\u001b[1;31m---------------------------------------------------------------------------\u001b[0m",
      "\u001b[1;31mTypeError\u001b[0m                                 Traceback (most recent call last)",
      "\u001b[1;32m<ipython-input-52-1526dc2f0d5f>\u001b[0m in \u001b[0;36m<module>\u001b[1;34m\u001b[0m\n\u001b[0;32m      1\u001b[0m \u001b[0mpython_string\u001b[0m \u001b[1;33m=\u001b[0m \u001b[1;34m\"Python\"\u001b[0m\u001b[1;33m\u001b[0m\u001b[1;33m\u001b[0m\u001b[0m\n\u001b[1;32m----> 2\u001b[1;33m \u001b[0mpython_string\u001b[0m\u001b[1;33m[\u001b[0m\u001b[1;36m5\u001b[0m\u001b[1;33m]\u001b[0m \u001b[1;33m=\u001b[0m \u001b[1;34m\"c\"\u001b[0m\u001b[1;33m\u001b[0m\u001b[1;33m\u001b[0m\u001b[0m\n\u001b[0m",
      "\u001b[1;31mTypeError\u001b[0m: 'str' object does not support item assignment"
     ]
    }
   ],
   "source": [
    "python_string = \"Python\"\n",
    "python_string[5] = \"c\""
   ]
  },
  {
   "cell_type": "markdown",
   "metadata": {},
   "source": [
    "### 3.2.2 String methods <a id=\"strings-methods\"></a>"
   ]
  },
  {
   "cell_type": "code",
   "execution_count": 53,
   "metadata": {},
   "outputs": [],
   "source": [
    "myString = \"I love Python.              Python is Great!\""
   ]
  },
  {
   "cell_type": "code",
   "execution_count": 55,
   "metadata": {},
   "outputs": [
    {
     "name": "stdout",
     "output_type": "stream",
     "text": [
      "i love python.              python is great!\n"
     ]
    }
   ],
   "source": [
    "# make all letters in string lowercase\n",
    "myStringLowered = myString.lower()\n",
    "print(myStringLowered)"
   ]
  },
  {
   "cell_type": "code",
   "execution_count": 56,
   "metadata": {},
   "outputs": [
    {
     "data": {
      "text/plain": [
       "'I LOVE PYTHON.              PYTHON IS GREAT!'"
      ]
     },
     "execution_count": 56,
     "metadata": {},
     "output_type": "execute_result"
    }
   ],
   "source": [
    "# make all letters in string uppercase\n",
    "myString.upper()"
   ]
  },
  {
   "cell_type": "code",
   "execution_count": 57,
   "metadata": {},
   "outputs": [
    {
     "data": {
      "text/plain": [
       "'I love python.              python is great!'"
      ]
     },
     "execution_count": 57,
     "metadata": {},
     "output_type": "execute_result"
    }
   ],
   "source": [
    "# captialize the string\n",
    "myString.capitalize()"
   ]
  },
  {
   "cell_type": "code",
   "execution_count": 59,
   "metadata": {},
   "outputs": [
    {
     "data": {
      "text/plain": [
       "True"
      ]
     },
     "execution_count": 59,
     "metadata": {},
     "output_type": "execute_result"
    }
   ],
   "source": [
    "# check if string ends with give string\n",
    "myString.endswith(\"!\")"
   ]
  },
  {
   "cell_type": "code",
   "execution_count": 61,
   "metadata": {},
   "outputs": [
    {
     "data": {
      "text/plain": [
       "True"
      ]
     },
     "execution_count": 61,
     "metadata": {},
     "output_type": "execute_result"
    }
   ],
   "source": [
    "# check if string ends with give string\n",
    "myString.endswith(\"Great!\")"
   ]
  },
  {
   "cell_type": "code",
   "execution_count": 62,
   "metadata": {},
   "outputs": [
    {
     "data": {
      "text/plain": [
       "False"
      ]
     },
     "execution_count": 62,
     "metadata": {},
     "output_type": "execute_result"
    }
   ],
   "source": [
    "# check if string ends with give string\n",
    "myString.endswith(\"great!\")"
   ]
  },
  {
   "cell_type": "code",
   "execution_count": 64,
   "metadata": {},
   "outputs": [
    {
     "data": {
      "text/plain": [
       "True"
      ]
     },
     "execution_count": 64,
     "metadata": {},
     "output_type": "execute_result"
    }
   ],
   "source": [
    "# check if strings starts with given string\n",
    "farsi_string = \"سلامی چو بوی خوش آشنایی\"\n",
    "farsi_string.startswith(\"سلام\")"
   ]
  },
  {
   "cell_type": "code",
   "execution_count": 68,
   "metadata": {},
   "outputs": [
    {
     "data": {
      "text/plain": [
       "'I Love Python.'"
      ]
     },
     "execution_count": 68,
     "metadata": {},
     "output_type": "execute_result"
    }
   ],
   "source": [
    "# define an string with extra whitespace at the start and end  of the string\n",
    "my_string = \"            I Love Python.           \"\n",
    "# print(my_string)\n",
    "# get a copy of the string with leading and trailing whitespace removed.\n",
    "my_string.strip() # shift + tab"
   ]
  },
  {
   "cell_type": "markdown",
   "metadata": {},
   "source": [
    "We can replace parts of strings with other strings"
   ]
  },
  {
   "cell_type": "code",
   "execution_count": 70,
   "metadata": {},
   "outputs": [
    {
     "data": {
      "text/plain": [
       "'I Love C++!'"
      ]
     },
     "execution_count": 70,
     "metadata": {},
     "output_type": "execute_result"
    }
   ],
   "source": [
    "python_string = \"I Love Python!\"\n",
    "python_string.replace(\"Python\", \"C++\")"
   ]
  },
  {
   "cell_type": "markdown",
   "metadata": {},
   "source": [
    "We can find a place where a substring occurs inside string:"
   ]
  },
  {
   "cell_type": "code",
   "execution_count": 71,
   "metadata": {},
   "outputs": [
    {
     "data": {
      "text/plain": [
       "7"
      ]
     },
     "execution_count": 71,
     "metadata": {},
     "output_type": "execute_result"
    }
   ],
   "source": [
    "python_string.find(\"Python\")"
   ]
  },
  {
   "cell_type": "code",
   "execution_count": 74,
   "metadata": {},
   "outputs": [
    {
     "data": {
      "text/plain": [
       "'Python'"
      ]
     },
     "execution_count": 74,
     "metadata": {},
     "output_type": "execute_result"
    }
   ],
   "source": [
    "python_string[7:7+6]"
   ]
  },
  {
   "cell_type": "code",
   "execution_count": 79,
   "metadata": {},
   "outputs": [
    {
     "data": {
      "text/plain": [
       "7"
      ]
     },
     "execution_count": 79,
     "metadata": {},
     "output_type": "execute_result"
    }
   ],
   "source": [
    "python_string = \"I Love Python Python Python\"\n",
    "python_string.find(\"Python\")"
   ]
  },
  {
   "cell_type": "code",
   "execution_count": 80,
   "metadata": {},
   "outputs": [
    {
     "data": {
      "text/plain": [
       "14"
      ]
     },
     "execution_count": 80,
     "metadata": {},
     "output_type": "execute_result"
    }
   ],
   "source": [
    "python_string = \"I Love Python Python Python\"\n",
    "python_string.find(\"Python\", 8)"
   ]
  },
  {
   "cell_type": "markdown",
   "metadata": {},
   "source": [
    "We can use `.count()` method to see how many times a substring appreas in string"
   ]
  },
  {
   "cell_type": "code",
   "execution_count": 81,
   "metadata": {},
   "outputs": [
    {
     "data": {
      "text/plain": [
       "5"
      ]
     },
     "execution_count": 81,
     "metadata": {},
     "output_type": "execute_result"
    }
   ],
   "source": [
    "python_string = \"I Love Python Python Python Python Python\"\n",
    "python_string.count(\"Python\")"
   ]
  },
  {
   "cell_type": "markdown",
   "metadata": {},
   "source": [
    "We can use strings `.digit()` method to see if string contains only digits or not. In addition, we can use `.aplha()` method to see if string contains only alphabetic characters."
   ]
  },
  {
   "cell_type": "code",
   "execution_count": 82,
   "metadata": {},
   "outputs": [
    {
     "data": {
      "text/plain": [
       "True"
      ]
     },
     "execution_count": 82,
     "metadata": {},
     "output_type": "execute_result"
    }
   ],
   "source": [
    "\"0123456789\".isdigit()"
   ]
  },
  {
   "cell_type": "code",
   "execution_count": 83,
   "metadata": {},
   "outputs": [
    {
     "data": {
      "text/plain": [
       "False"
      ]
     },
     "execution_count": 83,
     "metadata": {},
     "output_type": "execute_result"
    }
   ],
   "source": [
    "\"1.5\".isdigit()"
   ]
  },
  {
   "cell_type": "code",
   "execution_count": 84,
   "metadata": {},
   "outputs": [
    {
     "data": {
      "text/plain": [
       "False"
      ]
     },
     "execution_count": 84,
     "metadata": {},
     "output_type": "execute_result"
    }
   ],
   "source": [
    "\"Hello Python 123\".isdigit()"
   ]
  },
  {
   "cell_type": "code",
   "execution_count": 86,
   "metadata": {},
   "outputs": [
    {
     "data": {
      "text/plain": [
       "True"
      ]
     },
     "execution_count": 86,
     "metadata": {},
     "output_type": "execute_result"
    }
   ],
   "source": [
    "\"Hello\".isalpha()"
   ]
  },
  {
   "cell_type": "code",
   "execution_count": 87,
   "metadata": {},
   "outputs": [
    {
     "data": {
      "text/plain": [
       "False"
      ]
     },
     "execution_count": 87,
     "metadata": {},
     "output_type": "execute_result"
    }
   ],
   "source": [
    "\"Hello !20\".isalpha()"
   ]
  },
  {
   "cell_type": "code",
   "execution_count": 88,
   "metadata": {},
   "outputs": [
    {
     "data": {
      "text/plain": [
       "True"
      ]
     },
     "execution_count": 88,
     "metadata": {},
     "output_type": "execute_result"
    }
   ],
   "source": [
    "\"سلام\".isalpha()"
   ]
  },
  {
   "cell_type": "markdown",
   "metadata": {},
   "source": [
    "## Optional \n",
    "\n",
    "https://utf8-chartable.de/unicode-utf8-table.pl?start=1536&number=128&names=-&utf8=string-literal"
   ]
  },
  {
   "cell_type": "code",
   "execution_count": 91,
   "metadata": {},
   "outputs": [
    {
     "data": {
      "text/plain": [
       "b'\\xd8\\xb3\\xd9\\x84\\xd8\\xa7\\xd9\\x85'"
      ]
     },
     "execution_count": 91,
     "metadata": {},
     "output_type": "execute_result"
    }
   ],
   "source": [
    "\"سلام\".encode(encoding='utf-8')"
   ]
  },
  {
   "cell_type": "code",
   "execution_count": 96,
   "metadata": {},
   "outputs": [
    {
     "data": {
      "text/plain": [
       "bytes"
      ]
     },
     "execution_count": 96,
     "metadata": {},
     "output_type": "execute_result"
    }
   ],
   "source": [
    "type(b'\\xd8\\xb3\\xd9\\x84\\xd8\\xa7\\xd9\\x85')"
   ]
  },
  {
   "cell_type": "code",
   "execution_count": 97,
   "metadata": {},
   "outputs": [
    {
     "data": {
      "text/plain": [
       "'سلام'"
      ]
     },
     "execution_count": 97,
     "metadata": {},
     "output_type": "execute_result"
    }
   ],
   "source": [
    "b'\\xd8\\xb3\\xd9\\x84\\xd8\\xa7\\xd9\\x85'.decode()"
   ]
  },
  {
   "cell_type": "markdown",
   "metadata": {},
   "source": [
    "https://www.google.com/search?q=%D8%B3%D9%84%D8%A7%D9%85&source=hp&ei=4KLVYL_aGMrhgwexpLWwBw&iflsig=AINFCbYAAAAAYNWw8IrUI4XBfEwwaGTeCQEwMzl3GaFZ&oq=%D8%B3%D9%84%D8%A7%D9%85&gs_lcp=Cgdnd3Mtd2l6EAMyAggAMgIIADICCAAyAggAMgIIADICCAAyAgguMgIIADICCAAyAggAUKMIWKMWYO8YaAJwAHgCgAGJA4gB6AySAQcwLjEuMC40mAEAoAEBqgEHZ3dzLXdperABAA&sclient=gws-wiz&ved=0ahUKEwi_yrKkvbLxAhXK8OAKHTFSDXYQ4dUDCAc&uact=5"
   ]
  }
 ],
 "metadata": {
  "kernelspec": {
   "display_name": "Python 3",
   "language": "python",
   "name": "python3"
  },
  "language_info": {
   "codemirror_mode": {
    "name": "ipython",
    "version": 3
   },
   "file_extension": ".py",
   "mimetype": "text/x-python",
   "name": "python",
   "nbconvert_exporter": "python",
   "pygments_lexer": "ipython3",
   "version": "3.9.5"
  }
 },
 "nbformat": 4,
 "nbformat_minor": 4
}
