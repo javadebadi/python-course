{
 "cells": [
  {
   "cell_type": "markdown",
   "id": "ca357c16",
   "metadata": {},
   "source": [
    "<div style=\"display: grid;\n",
    "  grid-template-columns: auto auto auto;\n",
    "  background-color: #AF96F3;\n",
    "  padding: = 7px;\n",
    "            width:100%;\">\n",
    "  <div style=\"background-color: rgba(255, 255, 255, 0.8);\n",
    "  border: 1px solid rgba(0, 0, 0, 0.8);\n",
    "  padding: 10px 10px 20px;\n",
    "  display:flex; justify-content: space-between;\"><div style=\"text-aling:left; width:80%\"><h1>Lecture 08: Loops in Python</h1></div><div style=\"text-align:right;width:20%;font-size: 10px;\">Date: 07/05/2021</div></div>\n",
    "  <div style=\"background-color: rgba(255, 255, 255, 0.8);\n",
    "  border: 1px solid rgba(0, 0, 0, 0.8);\n",
    "  padding: 10px;\n",
    "  font-size: 16px;text-align: left;\"><p>Author: Javad Ebadi</p></div>\n",
    "  <div style=\"background-color: rgba(255, 255, 255, 0.8);\n",
    "  border: 1px solid rgba(0, 0, 0, 0.8);\n",
    "  padding: 0px;\n",
    "  font-size: 14px; display:flex; justify-content: space-between;\">\n",
    "      <div style=\"width:33.3%; text-align:left; margin:5px; padding:5px;\"><p>Email: javad.ebadi.1990@gmail.com</div>\n",
    "      <div style=\"width:33.3%; text-align:center; margin:5px; padding:5px;\"><p>Telegram: <a href=\"https://t.me/javadebadi1990\">@javadebadi1990</a></p></div>\n",
    "      <div style=\"width:33.3%; text-align:right; margin:5px; padding:5px;\"><p>GitHub: <a href=\"https://github.com/javadebadi\">javadebadi</a></p></div>\n",
    "   </div>\n",
    "  <div style=\"background-color: rgba(255, 255, 255, 0.8);\n",
    "  border: 1px solid rgba(0, 0, 0, 0.8);\n",
    "  padding: 10px;\n",
    "  font-size: 14px;\n",
    "              text-align: left;\"><p>\n",
    "      Table of Contents</p>\n",
    "<ul>\n",
    "    <li><a href=\"#flowchar-loop\">8.1 Flowchart with a loop</a>\n",
    "    <li><a href=\"#function-range\">8.2 range</a>\n",
    "        <li><a href=\"#for-loop\">8.3 for loop</a>\n",
    "            <ul>\n",
    "                <li><a href=\"#function-enumerate\">8.3.1 enumerate</a></li>\n",
    "            </ul>\n",
    "    <li><a href=\"#loop-break-continue\">8.4 break and continue</a></li>\n",
    "    <ul>\n",
    "        <li><a href=\"#loop-break\">8.4.1 break</a></li>\n",
    "        <li><a href=\"#loop-continue\">8.4.2 continue</a></li>\n",
    "    </ul>\n",
    "    <li><a href=\"#pass-statements\">8.5 pass statements</a></li>\n",
    "    <li><a href=\"#anonymous-for-loop-variable\">8.6 Anonymous for loop variable</a></li>\n",
    "</ul>\n",
    "      <b> Expected time to complete this notebook: 1 hour</b>\n",
    "</div>\n",
    "</div>"
   ]
  },
  {
   "cell_type": "markdown",
   "id": "cbb393bb",
   "metadata": {},
   "source": [
    "## 8.1 Flowchart with a loop <a id=\"flowchar-loop\"></a>\n",
    "\n",
    "<img src=\"./images/flow-chart-loop.svg\" width=\"500\">"
   ]
  },
  {
   "cell_type": "code",
   "execution_count": 1,
   "id": "b0ee83fe",
   "metadata": {},
   "outputs": [
    {
     "name": "stdout",
     "output_type": "stream",
     "text": [
      "Please enter a positive integer:10\n",
      "10 9 8 7 6 5 4 3 2 1 "
     ]
    }
   ],
   "source": [
    "# print positive integers smaller than given input\n",
    "\n",
    "number = int(input(\"Please enter a positive integer:\"))\n",
    "\n",
    "while number > 0:\n",
    "    print(number, end=\" \")\n",
    "    number -= 1"
   ]
  },
  {
   "cell_type": "markdown",
   "id": "c9242289",
   "metadata": {},
   "source": [
    "## 8.2 range function <a id=\"function-range\"></a>"
   ]
  },
  {
   "cell_type": "code",
   "execution_count": 2,
   "id": "be7b4e12",
   "metadata": {},
   "outputs": [
    {
     "data": {
      "text/plain": [
       "range(0, 10)"
      ]
     },
     "execution_count": 2,
     "metadata": {},
     "output_type": "execute_result"
    }
   ],
   "source": [
    "range(10)  # returns a range iterable for numbers from 0 (included) to 10 (excluded)"
   ]
  },
  {
   "cell_type": "code",
   "execution_count": 3,
   "id": "3f1161cb",
   "metadata": {},
   "outputs": [
    {
     "data": {
      "text/plain": [
       "[0, 1, 2, 3, 4, 5, 6, 7, 8, 9]"
      ]
     },
     "execution_count": 3,
     "metadata": {},
     "output_type": "execute_result"
    }
   ],
   "source": [
    "# iterable\n",
    "[*range(10)]"
   ]
  },
  {
   "cell_type": "code",
   "execution_count": 4,
   "id": "ac781043",
   "metadata": {},
   "outputs": [
    {
     "data": {
      "text/plain": [
       "[5, 6, 7, 8, 9]"
      ]
     },
     "execution_count": 4,
     "metadata": {},
     "output_type": "execute_result"
    }
   ],
   "source": [
    "[*range(5, 10)] # returns a range iterable for numbers from 5 (included) to 10 (excluded)"
   ]
  },
  {
   "cell_type": "code",
   "execution_count": 5,
   "id": "14403076",
   "metadata": {},
   "outputs": [
    {
     "data": {
      "text/plain": [
       "[0, 2, 4, 6, 8]"
      ]
     },
     "execution_count": 5,
     "metadata": {},
     "output_type": "execute_result"
    }
   ],
   "source": [
    "# returns a range iterable for numbers from 5 (included) to 10 (excluded) with steps of 2\n",
    "[*range(0, 10, 2)]"
   ]
  },
  {
   "cell_type": "code",
   "execution_count": 6,
   "id": "b783f4d4",
   "metadata": {},
   "outputs": [
    {
     "data": {
      "text/plain": [
       "[-100, -90, -80, -70, -60]"
      ]
     },
     "execution_count": 6,
     "metadata": {},
     "output_type": "execute_result"
    }
   ],
   "source": [
    "# returns a range iterable for numbers from -100 (included) to -50 (excluded) with steps of 10\n",
    "[*range(-100, -50, 10)]"
   ]
  },
  {
   "cell_type": "code",
   "execution_count": 7,
   "id": "f0f5cf1d",
   "metadata": {},
   "outputs": [
    {
     "data": {
      "text/plain": [
       "[]"
      ]
     },
     "execution_count": 7,
     "metadata": {},
     "output_type": "execute_result"
    }
   ],
   "source": [
    "# returns a range iterable for numbers from -100 (included) to -50 (excluded) with steps of -10\n",
    "[*range(-100, -50, -10)]"
   ]
  },
  {
   "cell_type": "code",
   "execution_count": 8,
   "id": "4b624b38",
   "metadata": {},
   "outputs": [
    {
     "data": {
      "text/plain": [
       "[-50, -60, -70, -80, -90]"
      ]
     },
     "execution_count": 8,
     "metadata": {},
     "output_type": "execute_result"
    }
   ],
   "source": [
    "# returns a range iterable for numbers from -50 (included) to -100 (excluded) with steps of -10\n",
    "[*range(-50, -100, -10)]"
   ]
  },
  {
   "cell_type": "markdown",
   "id": "882f3b34",
   "metadata": {},
   "source": [
    "for **iterable**s in Python we can do iterations and we can give them to functions which take iterables as argumetns such as `sum`"
   ]
  },
  {
   "cell_type": "code",
   "execution_count": 9,
   "id": "52607247",
   "metadata": {},
   "outputs": [
    {
     "data": {
      "text/plain": [
       "6"
      ]
     },
     "execution_count": 9,
     "metadata": {},
     "output_type": "execute_result"
    }
   ],
   "source": [
    "sum([1, 2, 3])"
   ]
  },
  {
   "cell_type": "code",
   "execution_count": 10,
   "id": "627d1559",
   "metadata": {},
   "outputs": [
    {
     "data": {
      "text/plain": [
       "6"
      ]
     },
     "execution_count": 10,
     "metadata": {},
     "output_type": "execute_result"
    }
   ],
   "source": [
    "sum(range(4))"
   ]
  },
  {
   "cell_type": "markdown",
   "id": "ad2d0d2e",
   "metadata": {},
   "source": [
    "## 8.3 for loop <a id=\"for-loop\"></a>\n",
    "\n",
    "In python we use `for` keyword to write for loops.\n",
    "\n",
    "```Python\n",
    "for <item> in <iterable>:\n",
    "    process 1\n",
    "    process 2\n",
    "    process 3\n",
    "```"
   ]
  },
  {
   "cell_type": "code",
   "execution_count": 11,
   "id": "2f849b72",
   "metadata": {},
   "outputs": [
    {
     "name": "stdout",
     "output_type": "stream",
     "text": [
      "0, 1, 4, 9, 16, 25, 36, 49, 64, 81, "
     ]
    }
   ],
   "source": [
    "for item in range(10):\n",
    "    print(item**2, end=\", \")"
   ]
  },
  {
   "cell_type": "code",
   "execution_count": 12,
   "id": "1d6b8e73",
   "metadata": {},
   "outputs": [
    {
     "name": "stdout",
     "output_type": "stream",
     "text": [
      "Hi Einstein\n",
      "Hi Newton\n",
      "Hi Tukey\n",
      "Hi Khayyam\n"
     ]
    }
   ],
   "source": [
    "scientists = [\"Einstein\", \"Newton\", \"Tukey\", \"Khayyam\"]\n",
    "\n",
    "for scientist in scientists:\n",
    "    print(\"Hi \" + scientist)"
   ]
  },
  {
   "cell_type": "code",
   "execution_count": 13,
   "id": "f7a41389",
   "metadata": {},
   "outputs": [
    {
     "name": "stdout",
     "output_type": "stream",
     "text": [
      "Hi Einstein\n",
      "Hi Newton\n",
      "Hi Tukey\n",
      "Hi Khayyam\n"
     ]
    }
   ],
   "source": [
    "scientists = [\"Einstein\", \"Newton\", \"Tukey\", \"Khayyam\"]\n",
    "\n",
    "for index in range(len(scientists)):\n",
    "    print(\"Hi \" + scientists[index])"
   ]
  },
  {
   "cell_type": "markdown",
   "id": "2a504bc5",
   "metadata": {},
   "source": [
    "### 8.3.1 enumerate function <a id=\"function-enumerate\"></a>"
   ]
  },
  {
   "cell_type": "code",
   "execution_count": 14,
   "id": "b2916b69",
   "metadata": {},
   "outputs": [
    {
     "data": {
      "text/plain": [
       "[(0, 'Einstein'), (1, 'Newton'), (2, 'Tukey'), (3, 'Khayyam')]"
      ]
     },
     "execution_count": 14,
     "metadata": {},
     "output_type": "execute_result"
    }
   ],
   "source": [
    "[*enumerate(scientists)]"
   ]
  },
  {
   "cell_type": "code",
   "execution_count": 15,
   "id": "21b3a5c2",
   "metadata": {},
   "outputs": [
    {
     "name": "stdout",
     "output_type": "stream",
     "text": [
      "scientist at index 0 is Einstein\n",
      "scientist at index 1 is Newton\n",
      "scientist at index 2 is Tukey\n",
      "scientist at index 3 is Khayyam\n"
     ]
    }
   ],
   "source": [
    "for index, scientist in enumerate(scientists):\n",
    "    print(\"scientist at index \" + str(index) + \" is \" + scientist)"
   ]
  },
  {
   "cell_type": "markdown",
   "id": "cebc997c",
   "metadata": {},
   "source": [
    "## 8.4 break and continue <a id=\"loop-break-continue\"></a>\n",
    "\n",
    "Python has to keywords `break` and `continue` which can be used insided loop.     \n",
    "When Python reaches to `break` inside a loop, it immediately gets out the loop.      \n",
    "When Python reaches to `continue` inside a loop, it stops executing the lines below and starts the next iteration in the loop."
   ]
  },
  {
   "cell_type": "markdown",
   "id": "7bf35891",
   "metadata": {},
   "source": [
    "### 8.4.1 break <a id=\"loop-break\"></a>\n",
    "\n",
    "<img src=\"./images/flow-chart-break.svg\" width=\"500\">"
   ]
  },
  {
   "cell_type": "code",
   "execution_count": 16,
   "id": "93eca5fa",
   "metadata": {},
   "outputs": [
    {
     "name": "stdout",
     "output_type": "stream",
     "text": [
      "0, 1, 2, 3, 4, 5, 6, 7, 8, 9, "
     ]
    }
   ],
   "source": [
    "for number in range(10):\n",
    "    print(number, end=\", \")\n",
    "    if number % 9 == 7:\n",
    "        if number % 9 == 8:\n",
    "            break\n",
    "    "
   ]
  },
  {
   "cell_type": "markdown",
   "id": "03a04238",
   "metadata": {},
   "source": [
    "### 8.4.2 continue <a id=\"loop-continue\"></a>\n",
    "<img src=\"./images/flow-chart-continue.svg\" width=\"500\">"
   ]
  },
  {
   "cell_type": "code",
   "execution_count": 17,
   "id": "e81e5ed5",
   "metadata": {},
   "outputs": [
    {
     "name": "stdout",
     "output_type": "stream",
     "text": [
      "Even number occured: 0\n",
      "Loop number = 1\n",
      "-----------------------\n",
      "Even number occured: 2\n",
      "Loop number = 3\n",
      "-----------------------\n",
      "Even number occured: 4\n",
      "Loop number = 5\n",
      "-----------------------\n",
      "Even number occured: 6\n",
      "Loop number = 7\n",
      "-----------------------\n",
      "Even number occured: 8\n",
      "Loop number = 9\n",
      "-----------------------\n"
     ]
    }
   ],
   "source": [
    "for i in range(10):\n",
    "    if i % 2 == 0:\n",
    "        print(\"Even number occured:\", str(i))\n",
    "        continue\n",
    "    print(\"Loop number = \"+ str(i))\n",
    "    print(\"-----------------------\")"
   ]
  },
  {
   "cell_type": "markdown",
   "id": "0203d53a",
   "metadata": {},
   "source": [
    "## 8.5 pass statements <a id=\"pass-statements\"></a>\n",
    "\n",
    "Python has a special keyworkd `pass`which means to do nothing"
   ]
  },
  {
   "cell_type": "code",
   "execution_count": 18,
   "id": "9d10bfb4",
   "metadata": {},
   "outputs": [],
   "source": [
    "for i in range(10):\n",
    "    pass  # complete this line of code later"
   ]
  },
  {
   "cell_type": "code",
   "execution_count": 19,
   "id": "316564f7",
   "metadata": {},
   "outputs": [],
   "source": [
    "def my_function():\n",
    "    pass  # implement this function later"
   ]
  },
  {
   "cell_type": "markdown",
   "id": "0ee54d08",
   "metadata": {},
   "source": [
    "## 8.6 Anonymous for loop variable <a id=\"anonymous-for-loop-variable\"></a>"
   ]
  },
  {
   "cell_type": "code",
   "execution_count": 20,
   "id": "63535169",
   "metadata": {},
   "outputs": [
    {
     "name": "stdout",
     "output_type": "stream",
     "text": [
      "hello\n",
      "hello\n",
      "hello\n",
      "hello\n",
      "hello\n",
      "hello\n",
      "hello\n",
      "hello\n",
      "hello\n",
      "hello\n"
     ]
    }
   ],
   "source": [
    "for _ in range(10):\n",
    "    print(\"hello\")"
   ]
  }
 ],
 "metadata": {
  "kernelspec": {
   "display_name": "Python 3",
   "language": "python",
   "name": "python3"
  },
  "language_info": {
   "codemirror_mode": {
    "name": "ipython",
    "version": 3
   },
   "file_extension": ".py",
   "mimetype": "text/x-python",
   "name": "python",
   "nbconvert_exporter": "python",
   "pygments_lexer": "ipython3",
   "version": "3.9.5"
  }
 },
 "nbformat": 4,
 "nbformat_minor": 5
}
