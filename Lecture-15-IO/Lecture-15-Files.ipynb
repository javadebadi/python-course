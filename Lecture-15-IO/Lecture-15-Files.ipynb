{
 "cells": [
  {
   "cell_type": "markdown",
   "id": "cdacb47d",
   "metadata": {},
   "source": [
    "# Lecture 15: Working with Files\n",
    "\n",
    "mode = 'r', 'w', 'a', 'b', 'r+'"
   ]
  },
  {
   "cell_type": "markdown",
   "id": "c7cf1b44",
   "metadata": {},
   "source": [
    "In Python we can **open** a file to read, write or append using `open` function. The `open` takes one required positional argument calle `filename`. The second most important argument of `open` is `mode`. The `mode` determines the purpose of the code from accessing the file. For example:\n",
    "- `mode='r'`: open to read\n",
    "- `mode='w'`: open to write\n",
    "- `mode='a'`: open to append\n",
    "- `mode='b'`: open in binary mode\n",
    "\n",
    "It is important to close the file after it is opened."
   ]
  },
  {
   "cell_type": "code",
   "execution_count": 1,
   "id": "4bbb0a42",
   "metadata": {},
   "outputs": [],
   "source": [
    "f = open('new_file.txt', 'w')"
   ]
  },
  {
   "cell_type": "code",
   "execution_count": 3,
   "id": "f995785d",
   "metadata": {},
   "outputs": [
    {
     "data": {
      "text/plain": [
       "False"
      ]
     },
     "execution_count": 3,
     "metadata": {},
     "output_type": "execute_result"
    }
   ],
   "source": [
    "f.closed"
   ]
  },
  {
   "cell_type": "code",
   "execution_count": 4,
   "id": "8fa634ca",
   "metadata": {},
   "outputs": [],
   "source": [
    "f.close()"
   ]
  },
  {
   "cell_type": "code",
   "execution_count": 5,
   "id": "5432b621",
   "metadata": {},
   "outputs": [
    {
     "data": {
      "text/plain": [
       "True"
      ]
     },
     "execution_count": 5,
     "metadata": {},
     "output_type": "execute_result"
    }
   ],
   "source": [
    "f.closed"
   ]
  },
  {
   "cell_type": "code",
   "execution_count": 22,
   "id": "5d82a1cc",
   "metadata": {},
   "outputs": [],
   "source": [
    "f = open('new_file.txt', 'w')  # open the file\n",
    "... # do something\n",
    "f.close()  # close the file"
   ]
  },
  {
   "cell_type": "markdown",
   "id": "e4f65b8d",
   "metadata": {},
   "source": [
    "## Write to file"
   ]
  },
  {
   "cell_type": "code",
   "execution_count": 23,
   "id": "3141fddd",
   "metadata": {},
   "outputs": [],
   "source": [
    "with open('new_file.txt', 'w') as f:\n",
    "    f.write(\"The Book\\n\")\n",
    "    f.write(\"The book of nature is written in the language of mathematics.\\n\")\n",
    "    f.write(\"\\n\")\n",
    "    f.write(\"The End\\n\")"
   ]
  },
  {
   "cell_type": "code",
   "execution_count": 10,
   "id": "c5cfc38d",
   "metadata": {},
   "outputs": [],
   "source": [
    "with open('new_file.txt', 'a') as f:\n",
    "    f.write(\"=========== END ==============\")"
   ]
  },
  {
   "cell_type": "markdown",
   "id": "ce5a3323",
   "metadata": {},
   "source": [
    "### Define to_text method for a class"
   ]
  },
  {
   "cell_type": "code",
   "execution_count": 20,
   "id": "39b3dd93",
   "metadata": {},
   "outputs": [],
   "source": [
    "class Book:\n",
    "    \n",
    "    def __init__(self, title, body=\"\"):\n",
    "        self.title = title\n",
    "        self.body = body\n",
    "        \n",
    "    def to_text(self, filename):\n",
    "        with open(filename, 'w') as f:\n",
    "            f.write(\"\\n\")\n",
    "            f.write(\"============ \" + self.title.upper() + \" ===========\\n\")\n",
    "            f.write(\"\\n\")\n",
    "            f.write(self.body.capitalize())\n",
    "            f.write(\"\\n\\n\")\n",
    "            f.write(\"The End\")\n",
    "        \n",
    "my_book = Book(\"Book of Nature\")\n",
    "my_book.body = 'The book of nature is written in the language of mathematics.'\n",
    "my_book.to_text('my_book.txt')"
   ]
  },
  {
   "cell_type": "code",
   "execution_count": 18,
   "id": "e9882789",
   "metadata": {},
   "outputs": [],
   "source": [
    "with open('new_file.txt', 'w') as f:\n",
    "    f.write(\"============ \" + my_book.title + \" ===========\\n\")\n",
    "    f.write(\"\\n\")\n",
    "    f.write(my_book.body)\n",
    "    f.write(\"\\n\")\n",
    "    f.write(\"The End\")"
   ]
  },
  {
   "cell_type": "markdown",
   "id": "5da33c25",
   "metadata": {},
   "source": [
    "## Read from file"
   ]
  },
  {
   "cell_type": "code",
   "execution_count": 27,
   "id": "5e6eedb9",
   "metadata": {},
   "outputs": [
    {
     "name": "stdout",
     "output_type": "stream",
     "text": [
      "\n",
      "============ BOOK OF NATURE ===========\n",
      "\n",
      "The book of nature is written in the language of mathematics.\n",
      "\n",
      "The End\n"
     ]
    }
   ],
   "source": [
    "# read whole of the file at once\n",
    "with open('my_book.txt', 'r') as f:\n",
    "    text = f.read()\n",
    "    \n",
    "print(text)"
   ]
  },
  {
   "cell_type": "code",
   "execution_count": 35,
   "id": "2339ce13",
   "metadata": {},
   "outputs": [
    {
     "name": "stdout",
     "output_type": "stream",
     "text": [
      "\n",
      " BOOK OF NATURE \n",
      "\n",
      "The book of nature is written in the language of mathematics.\n",
      "\n",
      "The End"
     ]
    }
   ],
   "source": [
    "# read file line by line\n",
    "with open('my_book.txt', 'r') as f:\n",
    "    for line in f:\n",
    "        print(line.replace(\"=\",\"\"), end='')"
   ]
  },
  {
   "cell_type": "code",
   "execution_count": 38,
   "id": "6d0696c8",
   "metadata": {},
   "outputs": [
    {
     "name": "stdout",
     "output_type": "stream",
     "text": [
      "['\\n', '============ BOOK OF NATURE ===========\\n', '\\n', 'The book of nature is written in the language of mathematics.\\n', '\\n', 'The End']\n"
     ]
    }
   ],
   "source": [
    "# read the whole file as a list of string\n",
    "with open('my_book.txt', 'r') as f:\n",
    "    text_list = f.readlines()\n",
    "    \n",
    "print(text_list)"
   ]
  },
  {
   "cell_type": "code",
   "execution_count": 46,
   "id": "4fcde8c0",
   "metadata": {},
   "outputs": [
    {
     "name": "stdout",
     "output_type": "stream",
     "text": [
      "\n",
      "============ BOOK OF NATURE ===========\n",
      "\n",
      "The book\n",
      "------------------->\n",
      " of nature is written in the language of mathemati\n",
      "------------------->\n",
      "cs.\n",
      "\n",
      "The End\n",
      "------------------->\n",
      "\n",
      "------------------->\n"
     ]
    }
   ],
   "source": [
    "# read 30 first character of the file at once\n",
    "with open('my_book.txt', 'r') as f:\n",
    "    while True:\n",
    "        text = f.read(50)\n",
    "        print(text, end='\\n------------------->\\n')\n",
    "        if text == '':\n",
    "            break\n",
    "        \n",
    "    \n",
    "# print(text)"
   ]
  },
  {
   "cell_type": "code",
   "execution_count": 52,
   "id": "0807035e",
   "metadata": {},
   "outputs": [],
   "source": [
    "f = open('my_book.txt', 'r')"
   ]
  },
  {
   "cell_type": "code",
   "execution_count": 62,
   "id": "7111cce4",
   "metadata": {},
   "outputs": [
    {
     "data": {
      "text/plain": [
       "50"
      ]
     },
     "execution_count": 62,
     "metadata": {},
     "output_type": "execute_result"
    }
   ],
   "source": [
    "f.seek(50)"
   ]
  },
  {
   "cell_type": "code",
   "execution_count": 63,
   "id": "505e0bd9",
   "metadata": {},
   "outputs": [
    {
     "data": {
      "text/plain": [
       "'ook of nat'"
      ]
     },
     "execution_count": 63,
     "metadata": {},
     "output_type": "execute_result"
    }
   ],
   "source": [
    "f.read(10)"
   ]
  },
  {
   "cell_type": "code",
   "execution_count": 64,
   "id": "c0cfc12c",
   "metadata": {},
   "outputs": [],
   "source": [
    "f.close()"
   ]
  },
  {
   "cell_type": "code",
   "execution_count": 65,
   "id": "6a447ac0",
   "metadata": {},
   "outputs": [
    {
     "data": {
      "text/plain": [
       "True"
      ]
     },
     "execution_count": 65,
     "metadata": {},
     "output_type": "execute_result"
    }
   ],
   "source": [
    "f.closed"
   ]
  },
  {
   "cell_type": "markdown",
   "id": "91492ad9",
   "metadata": {},
   "source": [
    "## Saving structured data as JSON\n",
    "Python allows you to use the popular data interchange format called **JSON (JavaScript Object Notation)**. The standard module called `json` can take Python data hierarchies, and convert them to string representations; this process is called **serializing**. Reconstructing the data from the string representation is called **deserializing**."
   ]
  },
  {
   "cell_type": "code",
   "execution_count": 66,
   "id": "46de51e0",
   "metadata": {},
   "outputs": [],
   "source": [
    "x = [1, 2.35, \"Hello World!\"]"
   ]
  },
  {
   "cell_type": "code",
   "execution_count": 69,
   "id": "032811a9",
   "metadata": {},
   "outputs": [],
   "source": [
    "with open(\"my_data.txt\", 'w') as f:\n",
    "    f.write(str(x[0]))\n",
    "    f.write(\",\")\n",
    "    f.write(str(x[1]))\n",
    "    f.write(\",\")\n",
    "    f.write(x[2])"
   ]
  },
  {
   "cell_type": "code",
   "execution_count": 72,
   "id": "800e6dfe",
   "metadata": {},
   "outputs": [],
   "source": [
    "with open(\"my_data.txt\", 'r') as f:\n",
    "    list_of_tokens = f.read().split(\",\")\n",
    "    list_of_tokens[0] = int(list_of_tokens[0])\n",
    "    list_of_tokens[1] = float(list_of_tokens[1])"
   ]
  },
  {
   "cell_type": "code",
   "execution_count": 73,
   "id": "15ff078c",
   "metadata": {},
   "outputs": [
    {
     "data": {
      "text/plain": [
       "[1, 2.35, 'Hello World!']"
      ]
     },
     "execution_count": 73,
     "metadata": {},
     "output_type": "execute_result"
    }
   ],
   "source": [
    "list_of_tokens"
   ]
  },
  {
   "cell_type": "code",
   "execution_count": 74,
   "id": "8e42bec8",
   "metadata": {},
   "outputs": [
    {
     "data": {
      "text/plain": [
       "'[1, 2.35, \"Hello World!\"]'"
      ]
     },
     "execution_count": 74,
     "metadata": {},
     "output_type": "execute_result"
    }
   ],
   "source": [
    "import json\n",
    "x = [1, 2.35, \"Hello World!\"]\n",
    "json.dumps(x)"
   ]
  },
  {
   "cell_type": "code",
   "execution_count": 77,
   "id": "187bf3a5",
   "metadata": {},
   "outputs": [],
   "source": [
    "import json\n",
    "x = [1, 2.35, \"Hello World!\"]\n",
    "with open(\"my_data.json\", 'w') as f:\n",
    "    json.dump(x, f)"
   ]
  },
  {
   "cell_type": "code",
   "execution_count": 78,
   "id": "b9950cff",
   "metadata": {},
   "outputs": [],
   "source": [
    "with open(\"my_data.json\", 'r') as f:\n",
    "    y = json.load(f)"
   ]
  },
  {
   "cell_type": "code",
   "execution_count": 81,
   "id": "b23ba9fc",
   "metadata": {},
   "outputs": [
    {
     "data": {
      "text/plain": [
       "[1, 2.35, 'Hello World!']"
      ]
     },
     "execution_count": 81,
     "metadata": {},
     "output_type": "execute_result"
    }
   ],
   "source": [
    "y"
   ]
  },
  {
   "cell_type": "markdown",
   "id": "4b88d561",
   "metadata": {},
   "source": [
    "### Pickle package\n",
    "To serialize user defined classe in Python we need to use `pickle`\n",
    "pickle --> future"
   ]
  },
  {
   "cell_type": "code",
   "execution_count": null,
   "id": "62680765",
   "metadata": {},
   "outputs": [],
   "source": []
  }
 ],
 "metadata": {
  "kernelspec": {
   "display_name": "Python 3",
   "language": "python",
   "name": "python3"
  },
  "language_info": {
   "codemirror_mode": {
    "name": "ipython",
    "version": 3
   },
   "file_extension": ".py",
   "mimetype": "text/x-python",
   "name": "python",
   "nbconvert_exporter": "python",
   "pygments_lexer": "ipython3",
   "version": "3.9.5"
  }
 },
 "nbformat": 4,
 "nbformat_minor": 5
}
