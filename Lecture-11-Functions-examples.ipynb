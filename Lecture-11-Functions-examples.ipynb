{
 "cells": [
  {
   "cell_type": "markdown",
   "id": "44b8a619",
   "metadata": {},
   "source": [
    "## Lecture 11: Functions examples"
   ]
  },
  {
   "cell_type": "markdown",
   "id": "79efe34b",
   "metadata": {},
   "source": [
    "\"1400/04/30\" -> 1400, 4, 30"
   ]
  },
  {
   "cell_type": "code",
   "execution_count": 83,
   "id": "9a069178",
   "metadata": {},
   "outputs": [],
   "source": [
    "def convert_to_jalali_date(jalali_string, sep=\"/\"):\n",
    "    \"\"\"Converts given string to jalali year, month and day.\n",
    "    \n",
    "    Args:\n",
    "        jalali_string (str): An string with exactly to `sep` characters\n",
    "        which describes string representation of jalali (Hijri Shamsi)\n",
    "        date\n",
    "        sep (str): A character which describes separation character in date\n",
    "        \n",
    "    Returns:\n",
    "        year (int), month (int), day (int)\n",
    "        \n",
    "    Raises:\n",
    "        TypeError: When jalali_string type is not string\n",
    "        ValueError: The number of seperators is not equal to 2\n",
    "        ValueError: non-numeric characters except than `sep` exists\n",
    "        ValueError: When the year is found to be bigger than 9999\n",
    "        ValueError: When month is less than 1 or bigger than 13\n",
    "        ValueError: When day is less than 1 or bigger than 31\n",
    "    \n",
    "    \"\"\"\n",
    "    if type(jalali_string) != str:\n",
    "        raise TypeError(f\"The jalali_string must be of type str but got type of {type(jalali_string)}\")\n",
    "        \n",
    "    jalali_list = jalali_string.split(sep)\n",
    "    if len(jalali_list) != 3:\n",
    "        raise ValueError(f\"The number of seperators must be exactly 2 but got {len(jalali_list) -1}\")\n",
    "    for item in jalali_list:\n",
    "        if item.isnumeric() is False:\n",
    "            raise ValueError(f\"non-separator characters in jalali_string must be numbers but found '{item}'\")\n",
    "            \n",
    "    year = int(jalali_list[0])\n",
    "    # check validity of year\n",
    "    if year > 9999:\n",
    "        raise ValueError(f\"Years bigger than 9999 are not supported, but year = {year} is given\")\n",
    "    \n",
    "    month = int(jalali_list[1])\n",
    "    # check validity of month\n",
    "    if month < 1 or month > 12:\n",
    "        raise ValueError(f\"month must be in range 1 ... 12 but found {month}\")\n",
    "    \n",
    "    day = int(jalali_list[2])\n",
    "    # check validity of day\n",
    "    if day < 0 or day > 31:\n",
    "        raise ValueError(f\"day must be in range 1 ... 31 but found {day}\")\n",
    "        \n",
    "    return year, month, day"
   ]
  },
  {
   "cell_type": "code",
   "execution_count": 84,
   "id": "78fb3919",
   "metadata": {},
   "outputs": [
    {
     "data": {
      "text/plain": [
       "(1400, 1, 30)"
      ]
     },
     "execution_count": 84,
     "metadata": {},
     "output_type": "execute_result"
    }
   ],
   "source": [
    "# test 1\n",
    "convert_to_jalali_date(\"1400-01-30\", sep=\"-\")"
   ]
  },
  {
   "cell_type": "code",
   "execution_count": 85,
   "id": "6c84f223",
   "metadata": {},
   "outputs": [
    {
     "ename": "ValueError",
     "evalue": "non-separator characters in jalali_string must be numbers but found 'www'",
     "output_type": "error",
     "traceback": [
      "\u001b[1;31m---------------------------------------------------------------------------\u001b[0m",
      "\u001b[1;31mValueError\u001b[0m                                Traceback (most recent call last)",
      "\u001b[1;32m<ipython-input-85-8e77b2122357>\u001b[0m in \u001b[0;36m<module>\u001b[1;34m\u001b[0m\n\u001b[0;32m      1\u001b[0m \u001b[1;31m# test 2\u001b[0m\u001b[1;33m\u001b[0m\u001b[1;33m\u001b[0m\u001b[1;33m\u001b[0m\u001b[0m\n\u001b[1;32m----> 2\u001b[1;33m \u001b[0mconvert_to_jalali_date\u001b[0m\u001b[1;33m(\u001b[0m\u001b[1;34m\"www-another-yet\"\u001b[0m\u001b[1;33m,\u001b[0m \u001b[0msep\u001b[0m\u001b[1;33m=\u001b[0m\u001b[1;34m\"-\"\u001b[0m\u001b[1;33m)\u001b[0m\u001b[1;33m\u001b[0m\u001b[1;33m\u001b[0m\u001b[0m\n\u001b[0m",
      "\u001b[1;32m<ipython-input-83-6443d97d24ab>\u001b[0m in \u001b[0;36mconvert_to_jalali_date\u001b[1;34m(jalali_string, sep)\u001b[0m\n\u001b[0;32m     28\u001b[0m     \u001b[1;32mfor\u001b[0m \u001b[0mitem\u001b[0m \u001b[1;32min\u001b[0m \u001b[0mjalali_list\u001b[0m\u001b[1;33m:\u001b[0m\u001b[1;33m\u001b[0m\u001b[1;33m\u001b[0m\u001b[0m\n\u001b[0;32m     29\u001b[0m         \u001b[1;32mif\u001b[0m \u001b[0mitem\u001b[0m\u001b[1;33m.\u001b[0m\u001b[0misnumeric\u001b[0m\u001b[1;33m(\u001b[0m\u001b[1;33m)\u001b[0m \u001b[1;32mis\u001b[0m \u001b[1;32mFalse\u001b[0m\u001b[1;33m:\u001b[0m\u001b[1;33m\u001b[0m\u001b[1;33m\u001b[0m\u001b[0m\n\u001b[1;32m---> 30\u001b[1;33m             \u001b[1;32mraise\u001b[0m \u001b[0mValueError\u001b[0m\u001b[1;33m(\u001b[0m\u001b[1;34mf\"non-separator characters in jalali_string must be numbers but found '{item}'\"\u001b[0m\u001b[1;33m)\u001b[0m\u001b[1;33m\u001b[0m\u001b[1;33m\u001b[0m\u001b[0m\n\u001b[0m\u001b[0;32m     31\u001b[0m \u001b[1;33m\u001b[0m\u001b[0m\n\u001b[0;32m     32\u001b[0m     \u001b[0myear\u001b[0m \u001b[1;33m=\u001b[0m \u001b[0mint\u001b[0m\u001b[1;33m(\u001b[0m\u001b[0mjalali_list\u001b[0m\u001b[1;33m[\u001b[0m\u001b[1;36m0\u001b[0m\u001b[1;33m]\u001b[0m\u001b[1;33m)\u001b[0m\u001b[1;33m\u001b[0m\u001b[1;33m\u001b[0m\u001b[0m\n",
      "\u001b[1;31mValueError\u001b[0m: non-separator characters in jalali_string must be numbers but found 'www'"
     ]
    }
   ],
   "source": [
    "# test 2\n",
    "convert_to_jalali_date(\"www-another-yet\", sep=\"-\")"
   ]
  },
  {
   "cell_type": "code",
   "execution_count": 86,
   "id": "8dfc17eb",
   "metadata": {},
   "outputs": [
    {
     "data": {
      "text/plain": [
       "(1400, 2, 12)"
      ]
     },
     "execution_count": 86,
     "metadata": {},
     "output_type": "execute_result"
    }
   ],
   "source": [
    "# test 2\n",
    "convert_to_jalali_date(\"1400-02-12\", sep=\"-\")"
   ]
  },
  {
   "cell_type": "code",
   "execution_count": 87,
   "id": "27afe59e",
   "metadata": {},
   "outputs": [
    {
     "ename": "ValueError",
     "evalue": "Years bigger than 9999 are not supported, but year = 19999 is given",
     "output_type": "error",
     "traceback": [
      "\u001b[1;31m---------------------------------------------------------------------------\u001b[0m",
      "\u001b[1;31mValueError\u001b[0m                                Traceback (most recent call last)",
      "\u001b[1;32m<ipython-input-87-ae1b0289ac54>\u001b[0m in \u001b[0;36m<module>\u001b[1;34m\u001b[0m\n\u001b[0;32m      1\u001b[0m \u001b[1;31m# test 3\u001b[0m\u001b[1;33m\u001b[0m\u001b[1;33m\u001b[0m\u001b[1;33m\u001b[0m\u001b[0m\n\u001b[1;32m----> 2\u001b[1;33m \u001b[0mconvert_to_jalali_date\u001b[0m\u001b[1;33m(\u001b[0m\u001b[1;34m\"19999-11-05\"\u001b[0m\u001b[1;33m,\u001b[0m \u001b[0msep\u001b[0m\u001b[1;33m=\u001b[0m\u001b[1;34m\"-\"\u001b[0m\u001b[1;33m)\u001b[0m\u001b[1;33m\u001b[0m\u001b[1;33m\u001b[0m\u001b[0m\n\u001b[0m",
      "\u001b[1;32m<ipython-input-83-6443d97d24ab>\u001b[0m in \u001b[0;36mconvert_to_jalali_date\u001b[1;34m(jalali_string, sep)\u001b[0m\n\u001b[0;32m     33\u001b[0m     \u001b[1;31m# check validity of year\u001b[0m\u001b[1;33m\u001b[0m\u001b[1;33m\u001b[0m\u001b[1;33m\u001b[0m\u001b[0m\n\u001b[0;32m     34\u001b[0m     \u001b[1;32mif\u001b[0m \u001b[0myear\u001b[0m \u001b[1;33m>\u001b[0m \u001b[1;36m9999\u001b[0m\u001b[1;33m:\u001b[0m\u001b[1;33m\u001b[0m\u001b[1;33m\u001b[0m\u001b[0m\n\u001b[1;32m---> 35\u001b[1;33m         \u001b[1;32mraise\u001b[0m \u001b[0mValueError\u001b[0m\u001b[1;33m(\u001b[0m\u001b[1;34mf\"Years bigger than 9999 are not supported, but year = {year} is given\"\u001b[0m\u001b[1;33m)\u001b[0m\u001b[1;33m\u001b[0m\u001b[1;33m\u001b[0m\u001b[0m\n\u001b[0m\u001b[0;32m     36\u001b[0m \u001b[1;33m\u001b[0m\u001b[0m\n\u001b[0;32m     37\u001b[0m     \u001b[0mmonth\u001b[0m \u001b[1;33m=\u001b[0m \u001b[0mint\u001b[0m\u001b[1;33m(\u001b[0m\u001b[0mjalali_list\u001b[0m\u001b[1;33m[\u001b[0m\u001b[1;36m1\u001b[0m\u001b[1;33m]\u001b[0m\u001b[1;33m)\u001b[0m\u001b[1;33m\u001b[0m\u001b[1;33m\u001b[0m\u001b[0m\n",
      "\u001b[1;31mValueError\u001b[0m: Years bigger than 9999 are not supported, but year = 19999 is given"
     ]
    }
   ],
   "source": [
    "# test 3\n",
    "convert_to_jalali_date(\"19999-11-05\", sep=\"-\")"
   ]
  },
  {
   "cell_type": "code",
   "execution_count": 88,
   "id": "e4f48721",
   "metadata": {},
   "outputs": [
    {
     "ename": "ValueError",
     "evalue": "The number of seperators must be exactly 2 but got 3",
     "output_type": "error",
     "traceback": [
      "\u001b[1;31m---------------------------------------------------------------------------\u001b[0m",
      "\u001b[1;31mValueError\u001b[0m                                Traceback (most recent call last)",
      "\u001b[1;32m<ipython-input-88-d2fea1c49cf0>\u001b[0m in \u001b[0;36m<module>\u001b[1;34m\u001b[0m\n\u001b[0;32m      1\u001b[0m \u001b[1;31m# test 4\u001b[0m\u001b[1;33m\u001b[0m\u001b[1;33m\u001b[0m\u001b[1;33m\u001b[0m\u001b[0m\n\u001b[1;32m----> 2\u001b[1;33m \u001b[0mconvert_to_jalali_date\u001b[0m\u001b[1;33m(\u001b[0m\u001b[1;34m\"19999-11-05-151545\"\u001b[0m\u001b[1;33m,\u001b[0m \u001b[0msep\u001b[0m\u001b[1;33m=\u001b[0m\u001b[1;34m\"-\"\u001b[0m\u001b[1;33m)\u001b[0m\u001b[1;33m\u001b[0m\u001b[1;33m\u001b[0m\u001b[0m\n\u001b[0m",
      "\u001b[1;32m<ipython-input-83-6443d97d24ab>\u001b[0m in \u001b[0;36mconvert_to_jalali_date\u001b[1;34m(jalali_string, sep)\u001b[0m\n\u001b[0;32m     25\u001b[0m     \u001b[0mjalali_list\u001b[0m \u001b[1;33m=\u001b[0m \u001b[0mjalali_string\u001b[0m\u001b[1;33m.\u001b[0m\u001b[0msplit\u001b[0m\u001b[1;33m(\u001b[0m\u001b[0msep\u001b[0m\u001b[1;33m)\u001b[0m\u001b[1;33m\u001b[0m\u001b[1;33m\u001b[0m\u001b[0m\n\u001b[0;32m     26\u001b[0m     \u001b[1;32mif\u001b[0m \u001b[0mlen\u001b[0m\u001b[1;33m(\u001b[0m\u001b[0mjalali_list\u001b[0m\u001b[1;33m)\u001b[0m \u001b[1;33m!=\u001b[0m \u001b[1;36m3\u001b[0m\u001b[1;33m:\u001b[0m\u001b[1;33m\u001b[0m\u001b[1;33m\u001b[0m\u001b[0m\n\u001b[1;32m---> 27\u001b[1;33m         \u001b[1;32mraise\u001b[0m \u001b[0mValueError\u001b[0m\u001b[1;33m(\u001b[0m\u001b[1;34mf\"The number of seperators must be exactly 2 but got {len(jalali_list) -1}\"\u001b[0m\u001b[1;33m)\u001b[0m\u001b[1;33m\u001b[0m\u001b[1;33m\u001b[0m\u001b[0m\n\u001b[0m\u001b[0;32m     28\u001b[0m     \u001b[1;32mfor\u001b[0m \u001b[0mitem\u001b[0m \u001b[1;32min\u001b[0m \u001b[0mjalali_list\u001b[0m\u001b[1;33m:\u001b[0m\u001b[1;33m\u001b[0m\u001b[1;33m\u001b[0m\u001b[0m\n\u001b[0;32m     29\u001b[0m         \u001b[1;32mif\u001b[0m \u001b[0mitem\u001b[0m\u001b[1;33m.\u001b[0m\u001b[0misnumeric\u001b[0m\u001b[1;33m(\u001b[0m\u001b[1;33m)\u001b[0m \u001b[1;32mis\u001b[0m \u001b[1;32mFalse\u001b[0m\u001b[1;33m:\u001b[0m\u001b[1;33m\u001b[0m\u001b[1;33m\u001b[0m\u001b[0m\n",
      "\u001b[1;31mValueError\u001b[0m: The number of seperators must be exactly 2 but got 3"
     ]
    }
   ],
   "source": [
    "# test 4\n",
    "convert_to_jalali_date(\"19999-11-05-151545\", sep=\"-\")"
   ]
  },
  {
   "cell_type": "code",
   "execution_count": 89,
   "id": "6de481b0",
   "metadata": {},
   "outputs": [
    {
     "ename": "TypeError",
     "evalue": "The jalali_string must be of type str but got type of <class 'int'>",
     "output_type": "error",
     "traceback": [
      "\u001b[1;31m---------------------------------------------------------------------------\u001b[0m",
      "\u001b[1;31mTypeError\u001b[0m                                 Traceback (most recent call last)",
      "\u001b[1;32m<ipython-input-89-70ae4ae99c20>\u001b[0m in \u001b[0;36m<module>\u001b[1;34m\u001b[0m\n\u001b[0;32m      1\u001b[0m \u001b[1;31m# test 5\u001b[0m\u001b[1;33m\u001b[0m\u001b[1;33m\u001b[0m\u001b[1;33m\u001b[0m\u001b[0m\n\u001b[1;32m----> 2\u001b[1;33m \u001b[0mconvert_to_jalali_date\u001b[0m\u001b[1;33m(\u001b[0m\u001b[1;36m164649494\u001b[0m\u001b[1;33m,\u001b[0m \u001b[0msep\u001b[0m\u001b[1;33m=\u001b[0m\u001b[1;34m\"-\"\u001b[0m\u001b[1;33m)\u001b[0m\u001b[1;33m\u001b[0m\u001b[1;33m\u001b[0m\u001b[0m\n\u001b[0m",
      "\u001b[1;32m<ipython-input-83-6443d97d24ab>\u001b[0m in \u001b[0;36mconvert_to_jalali_date\u001b[1;34m(jalali_string, sep)\u001b[0m\n\u001b[0;32m     21\u001b[0m     \"\"\"\n\u001b[0;32m     22\u001b[0m     \u001b[1;32mif\u001b[0m \u001b[0mtype\u001b[0m\u001b[1;33m(\u001b[0m\u001b[0mjalali_string\u001b[0m\u001b[1;33m)\u001b[0m \u001b[1;33m!=\u001b[0m \u001b[0mstr\u001b[0m\u001b[1;33m:\u001b[0m\u001b[1;33m\u001b[0m\u001b[1;33m\u001b[0m\u001b[0m\n\u001b[1;32m---> 23\u001b[1;33m         \u001b[1;32mraise\u001b[0m \u001b[0mTypeError\u001b[0m\u001b[1;33m(\u001b[0m\u001b[1;34mf\"The jalali_string must be of type str but got type of {type(jalali_string)}\"\u001b[0m\u001b[1;33m)\u001b[0m\u001b[1;33m\u001b[0m\u001b[1;33m\u001b[0m\u001b[0m\n\u001b[0m\u001b[0;32m     24\u001b[0m \u001b[1;33m\u001b[0m\u001b[0m\n\u001b[0;32m     25\u001b[0m     \u001b[0mjalali_list\u001b[0m \u001b[1;33m=\u001b[0m \u001b[0mjalali_string\u001b[0m\u001b[1;33m.\u001b[0m\u001b[0msplit\u001b[0m\u001b[1;33m(\u001b[0m\u001b[0msep\u001b[0m\u001b[1;33m)\u001b[0m\u001b[1;33m\u001b[0m\u001b[1;33m\u001b[0m\u001b[0m\n",
      "\u001b[1;31mTypeError\u001b[0m: The jalali_string must be of type str but got type of <class 'int'>"
     ]
    }
   ],
   "source": [
    "# test 5\n",
    "convert_to_jalali_date(164649494, sep=\"-\")"
   ]
  }
 ],
 "metadata": {
  "kernelspec": {
   "display_name": "Python 3",
   "language": "python",
   "name": "python3"
  },
  "language_info": {
   "codemirror_mode": {
    "name": "ipython",
    "version": 3
   },
   "file_extension": ".py",
   "mimetype": "text/x-python",
   "name": "python",
   "nbconvert_exporter": "python",
   "pygments_lexer": "ipython3",
   "version": "3.9.5"
  }
 },
 "nbformat": 4,
 "nbformat_minor": 5
}
